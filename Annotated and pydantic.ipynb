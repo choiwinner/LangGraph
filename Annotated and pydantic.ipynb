{
 "cells": [
  {
   "cell_type": "markdown",
   "metadata": {},
   "source": [
    "참고 자료 : https://wikidocs.net/264613"
   ]
  },
  {
   "cell_type": "code",
   "execution_count": 13,
   "metadata": {},
   "outputs": [],
   "source": [
    "from typing import Annotated, List\n",
    "from pydantic import Field, BaseModel, ValidationError\n",
    "\n",
    "\n",
    "class Employee(BaseModel):\n",
    "    id: Annotated[int, Field(..., description=\"직원 ID\")]\n",
    "    name: Annotated[str, Field(..., min_length=3, max_length=50, description=\"이름\")]\n",
    "    age: Annotated[int, Field(gt=18, lt=65, description=\"나이 (19-64세)\")]\n",
    "    salary: Annotated[\n",
    "        float, Field(gt=0, lt=10000, description=\"연봉 (단위: 만원, 최대 10억)\")\n",
    "    ]\n",
    "    skills: Annotated[\n",
    "        List[str], Field(min_items=1, max_items=10, description=\"보유 기술 (1-10개)\")\n",
    "    ]"
   ]
  },
  {
   "cell_type": "code",
   "execution_count": 12,
   "metadata": {},
   "outputs": [
    {
     "name": "stdout",
     "output_type": "stream",
     "text": [
      "유효한 직원 데이터: id=1 name='최재일일' age=30 salary=5000.0 skills=['Python', 'LangChain']\n"
     ]
    }
   ],
   "source": [
    "# 유효한 데이터로 인스턴스 생성\n",
    "try:\n",
    "    valid_employee = Employee(\n",
    "        id=1, name=\"최재일일\", age=30, salary=5000, skills=[\"Python\", \"LangChain\"]\n",
    "    )\n",
    "    print(\"유효한 직원 데이터:\", valid_employee)\n",
    "except ValidationError as e:\n",
    "    print(\"유효성 검사 오류:\")\n",
    "    for error in e.errors():\n",
    "        print(error)"
   ]
  },
  {
   "cell_type": "code",
   "execution_count": 10,
   "metadata": {},
   "outputs": [
    {
     "name": "stdout",
     "output_type": "stream",
     "text": [
      "유효성 검사 오류:\n",
      "{'type': 'less_than', 'loc': ('age',), 'msg': 'Input should be less than 65', 'input': 500, 'ctx': {'lt': 65}, 'url': 'https://errors.pydantic.dev/2.9/v/less_than'}\n",
      "{'type': 'less_than', 'loc': ('salary',), 'msg': 'Input should be less than 10000', 'input': 20000, 'ctx': {'lt': 10000.0}, 'url': 'https://errors.pydantic.dev/2.9/v/less_than'}\n"
     ]
    }
   ],
   "source": [
    "# 유효하지 않은 데이터로 인스턴스 생성\n",
    "try:\n",
    "    valid_employee2 = Employee(\n",
    "        id=2, name=\"김은진\", age=500, salary=20000, skills=[\"Python\", \"LangChain\"]\n",
    "    )\n",
    "    print(\"유효한 직원 데이터:\", valid_employee2)\n",
    "except ValidationError as e:\n",
    "    print(\"유효성 검사 오류:\")\n",
    "    for error in e.errors():\n",
    "        print(error)"
   ]
  },
  {
   "cell_type": "code",
   "execution_count": 14,
   "metadata": {},
   "outputs": [
    {
     "name": "stdout",
     "output_type": "stream",
     "text": [
      "유효성 검사 오류:\n",
      "- id: Field required\n",
      "- name: String should have at least 3 characters\n",
      "- age: Input should be greater than 18\n",
      "- salary: Input should be less than 10000\n",
      "- skills: Input should be a valid list\n"
     ]
    }
   ],
   "source": [
    "# 유효하지 않은 데이터로 인스턴스 생성\n",
    "try:\n",
    "    invalid_employee3 = Employee(\n",
    "        name=\"테디\",  # 이름이 너무 짧음\n",
    "        age=17,  # 나이가 범위를 벗어남\n",
    "        salary=20000,  # 급여가 범위를 벗어남\n",
    "        skills=\"Python\",  # 리스트가 아님\n",
    "    )\n",
    "    print(\"유효한 직원 데이터:\", valid_employee3)\n",
    "except ValidationError as e:\n",
    "    print(\"유효성 검사 오류:\")\n",
    "    for error in e.errors():\n",
    "        print(f\"- {error['loc'][0]}: {error['msg']}\")"
   ]
  }
 ],
 "metadata": {
  "kernelspec": {
   "display_name": "py31012",
   "language": "python",
   "name": "python3"
  },
  "language_info": {
   "codemirror_mode": {
    "name": "ipython",
    "version": 3
   },
   "file_extension": ".py",
   "mimetype": "text/x-python",
   "name": "python",
   "nbconvert_exporter": "python",
   "pygments_lexer": "ipython3",
   "version": "3.10.12"
  }
 },
 "nbformat": 4,
 "nbformat_minor": 2
}
