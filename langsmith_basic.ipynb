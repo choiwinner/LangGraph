{
 "cells": [
  {
   "cell_type": "markdown",
   "metadata": {},
   "source": [
    "참고 자료 1 : https://www.youtube.com/watch?v=o25jAgm63X0"
   ]
  },
  {
   "cell_type": "code",
   "execution_count": 7,
   "metadata": {},
   "outputs": [],
   "source": [
    "from dotenv import load_dotenv\n",
    "import os"
   ]
  },
  {
   "cell_type": "code",
   "execution_count": 8,
   "metadata": {},
   "outputs": [
    {
     "data": {
      "text/plain": [
       "True"
      ]
     },
     "execution_count": 8,
     "metadata": {},
     "output_type": "execute_result"
    }
   ],
   "source": [
    "# .env 파일 로드(api key load)\n",
    "load_dotenv()"
   ]
  },
  {
   "cell_type": "code",
   "execution_count": 9,
   "metadata": {},
   "outputs": [],
   "source": [
    "#langsmith Setting\n",
    "os.environ[\"LANGCHAIN_TRACING_V2\"] = \"true\"\n",
    "os.environ[\"LANGCHAIN_ENDPOINT\"] = \"https://api.smith.langchain.com\" \n",
    "os.environ[\"LANGCHAIN_PROJECT\"] = \"langsmith_basic\"                 #표시될 PJT명 Setting\n",
    "#os.environ[\"LANGCHAIN_API_KEY\"] = \"lsv2_***\"                        *.env로 setting\n",
    "from langsmith import Client\n",
    "client = Client()"
   ]
  },
  {
   "cell_type": "markdown",
   "metadata": {},
   "source": [
    "1. library import 하기"
   ]
  },
  {
   "cell_type": "code",
   "execution_count": 15,
   "metadata": {},
   "outputs": [],
   "source": [
    "from typing_extensions import TypedDict \n",
    "#typing이나 typing_extensions나 동일하게 동작하나 langgraph 공식 문서에서는 typing_extensions에서 갖고 온다\n",
    "from typing import Annotated\n",
    "\n",
    "from langgraph.graph import StateGraph, START, END\n",
    "import operator\n"
   ]
  },
  {
   "cell_type": "markdown",
   "metadata": {},
   "source": [
    "2. StateGpraph로 State 만들기\n",
    "- node간 전달할 때 전달되는 인자들 선언하기"
   ]
  },
  {
   "cell_type": "code",
   "execution_count": 16,
   "metadata": {},
   "outputs": [],
   "source": [
    "class State(TypedDict):       #State에 TypeDict 상속해서 사용\n",
    "    counter: int              #counter 인자는 int 속성\n",
    "    alphabet: list[str]       #alphabet 인자는 list 속성이면서 그 안의 인자는 str\n",
    "\n",
    "graph_builder = StateGraph(State) #StateGraph 객체 선언하기"
   ]
  },
  {
   "cell_type": "markdown",
   "metadata": {},
   "source": [
    "3. node 함수 만들기\n",
    "- state값을 입력받고 return값을 지정하기 된다."
   ]
  },
  {
   "cell_type": "code",
   "execution_count": 18,
   "metadata": {},
   "outputs": [],
   "source": [
    "def node_a(state: State):      #state로 State의 객체를 선언한다.\n",
    "    state['counter'] += 1          #counter에 1을 더한다.\n",
    "    state['alphabet'] = ['Hello']  #alphabet에 Hello로 지정한다.\n",
    "    return state"
   ]
  },
  {
   "cell_type": "markdown",
   "metadata": {},
   "source": [
    "4. langgaph에 node 및 edge 설정하기"
   ]
  },
  {
   "cell_type": "code",
   "execution_count": 20,
   "metadata": {},
   "outputs": [
    {
     "data": {
      "text/plain": [
       "<langgraph.graph.state.StateGraph at 0x248f7f580d0>"
      ]
     },
     "execution_count": 20,
     "metadata": {},
     "output_type": "execute_result"
    }
   ],
   "source": [
    "graph_builder.add_node('chatbot', node_a) # chatbot이름의 노드를 만들고 노드 함수는 node_a 사용\n",
    "\n",
    "graph_builder.add_edge(START,'chatbot')  # START -> chatbot edge 만들기\n",
    "graph_builder.add_edge('chatbot',END)    # chatbot -> END edge 만들기"
   ]
  },
  {
   "cell_type": "markdown",
   "metadata": {},
   "source": [
    "5. langgraph를 컴파일하기"
   ]
  },
  {
   "cell_type": "code",
   "execution_count": 21,
   "metadata": {},
   "outputs": [],
   "source": [
    "graph = graph_builder.compile()          #"
   ]
  },
  {
   "cell_type": "markdown",
   "metadata": {},
   "source": [
    "6. langhgraph 시각화로 확인하기"
   ]
  },
  {
   "cell_type": "code",
   "execution_count": 22,
   "metadata": {},
   "outputs": [
    {
     "data": {
      "image/png": "[encoded data removed]",
      "text/plain": [
       "<IPython.core.display.Image object>"
      ]
     },
     "metadata": {},
     "output_type": "display_data"
    }
   ],
   "source": [
    "from IPython.display import Image, display\n",
    "\n",
    "try:\n",
    "    display(Image(graph.get_graph().draw_mermaid_png()))\n",
    "except Exception:\n",
    "    print('langgraph가 만들어지지 않았습니다.')\n",
    "    pass"
   ]
  },
  {
   "cell_type": "markdown",
   "metadata": {},
   "source": [
    "7. 초기값 설정 후 실행하기"
   ]
  },
  {
   "cell_type": "code",
   "execution_count": 24,
   "metadata": {},
   "outputs": [],
   "source": [
    "# 초기 상태 정의\n",
    "intial_state = {\n",
    "    'counter' : 0,\n",
    "    'alphabet' : ['a']\n",
    "}"
   ]
  },
  {
   "cell_type": "code",
   "execution_count": null,
   "metadata": {},
   "outputs": [
    {
     "name": "stdout",
     "output_type": "stream",
     "text": [
      "{'counter': 1, 'alphabet': ['Hello']}\n",
      "{'counter': 2, 'alphabet': ['Hello']}\n",
      "{'counter': 3, 'alphabet': ['Hello']}\n"
     ]
    }
   ],
   "source": [
    "state_act = intial_state\n",
    "for _ in range(3):                       #3회 실시하기\n",
    "    state_act = graph.invoke(state_act)\n",
    "    print(state_act)\n"
   ]
  },
  {
   "cell_type": "markdown",
   "metadata": {},
   "source": [
    "### Annotate를 이용해서 list 내용 계속 추가하기"
   ]
  },
  {
   "cell_type": "code",
   "execution_count": 70,
   "metadata": {},
   "outputs": [],
   "source": [
    "class State2(TypedDict):       #State에 TypeDict 상속해서 사용\n",
    "    counter: int              #counter 인자는 int 속성\n",
    "    alphabet: Annotated[list[str], operator.add] #Annotated + operator.add로 list 추가하기\n",
    "\n",
    "graph_builder2 = StateGraph(State2) #StateGraph 객체 선언하기"
   ]
  },
  {
   "cell_type": "code",
   "execution_count": 71,
   "metadata": {},
   "outputs": [],
   "source": [
    "def node_a2(state: State2):      #state로 State의 객체를 선언한다.\n",
    "    state['counter'] += 1          #counter에 1을 더한다.\n",
    "    state['alphabet'] = ['Hello']  #alphabet에 Hello로 지정한다.\n",
    "    return state"
   ]
  },
  {
   "cell_type": "code",
   "execution_count": 72,
   "metadata": {},
   "outputs": [
    {
     "data": {
      "text/plain": [
       "<langgraph.graph.state.StateGraph at 0x248f67c6440>"
      ]
     },
     "execution_count": 72,
     "metadata": {},
     "output_type": "execute_result"
    }
   ],
   "source": [
    "graph_builder2.add_node('chatbot', node_a2) # chatbot이름의 노드를 만들고 노드 함수는 node_a 사용\n",
    "\n",
    "graph_builder2.add_edge(START,'chatbot')  # START -> chatbot edge 만들기\n",
    "graph_builder2.add_edge('chatbot',END)    # chatbot -> END edge 만들기"
   ]
  },
  {
   "cell_type": "code",
   "execution_count": 73,
   "metadata": {},
   "outputs": [],
   "source": [
    "graph2 = graph_builder2.compile()   "
   ]
  },
  {
   "cell_type": "code",
   "execution_count": 74,
   "metadata": {},
   "outputs": [],
   "source": [
    "# 초기 상태 정의\n",
    "intial_state = {\n",
    "    'counter' : 0,\n",
    "    'alphabet' : ['a']\n",
    "}"
   ]
  },
  {
   "cell_type": "code",
   "execution_count": 75,
   "metadata": {},
   "outputs": [
    {
     "name": "stdout",
     "output_type": "stream",
     "text": [
      "{'counter': 1, 'alphabet': ['a', 'Hello']}\n",
      "{'counter': 2, 'alphabet': ['a', 'Hello', 'Hello']}\n",
      "{'counter': 3, 'alphabet': ['a', 'Hello', 'Hello', 'Hello']}\n"
     ]
    }
   ],
   "source": [
    "state_act2 = intial_state\n",
    "for _ in range(3):                       #3회 실시하기\n",
    "    state_act2 = graph2.invoke(state_act2)\n",
    "    print(state_act2)"
   ]
  },
  {
   "cell_type": "markdown",
   "metadata": {},
   "source": [
    "### Message를 담은 StateGraph 만들기"
   ]
  },
  {
   "cell_type": "code",
   "execution_count": 6,
   "metadata": {},
   "outputs": [],
   "source": [
    "from typing_extensions import TypedDict \n",
    "#typing이나 typing_extensions나 동일하게 동작하나 langgraph 공식 문서에서는 typing_extensions에서 갖고 온다\n",
    "from typing import Annotated\n",
    "\n",
    "from langgraph.graph import StateGraph, START, END\n",
    "from langgraph.graph.message import add_messages\n",
    "import operator\n",
    "\n",
    "from langchain_google_genai import ChatGoogleGenerativeAI\n",
    "\n",
    "from dotenv import load_dotenv\n",
    "import os"
   ]
  },
  {
   "cell_type": "code",
   "execution_count": 2,
   "metadata": {},
   "outputs": [
    {
     "data": {
      "text/plain": [
       "True"
      ]
     },
     "execution_count": 2,
     "metadata": {},
     "output_type": "execute_result"
    }
   ],
   "source": [
    "# .env 파일 로드(api key load)\n",
    "load_dotenv()"
   ]
  },
  {
   "cell_type": "code",
   "execution_count": 27,
   "metadata": {},
   "outputs": [],
   "source": [
    "class State3(TypedDict):\n",
    "    messages : Annotated[list,add_messages] #add_messages의 메타 data를 갖는 list 형태의 message dict 만들기\n",
    "\n",
    "graph_builder3 = StateGraph(State3)"
   ]
  },
  {
   "cell_type": "code",
   "execution_count": 28,
   "metadata": {},
   "outputs": [],
   "source": [
    "#langsmith Setting\n",
    "os.environ[\"LANGCHAIN_TRACING_V2\"] = \"true\"\n",
    "os.environ[\"LANGCHAIN_ENDPOINT\"] = \"https://api.smith.langchain.com\" \n",
    "os.environ[\"LANGCHAIN_PROJECT\"] = \"langsmith_basic\"                 #표시될 PJT명 Setting\n",
    "#os.environ[\"LANGCHAIN_API_KEY\"] = \"lsv2_***\"                        *.env로 setting\n",
    "from langsmith import Client\n",
    "client = Client()"
   ]
  },
  {
   "cell_type": "code",
   "execution_count": 29,
   "metadata": {},
   "outputs": [],
   "source": [
    "llm = ChatGoogleGenerativeAI(model='gemini-1.5-pro', temperature= 0)"
   ]
  },
  {
   "cell_type": "code",
   "execution_count": 30,
   "metadata": {},
   "outputs": [],
   "source": [
    "def chatbot(state: State3):                             #State3(typedict)를 입력받아 내부 변수인 state로 만든다.\n",
    "    return {\"messages\" : llm.invoke(state['messages'])} #state(typedict)의 'messages' key값을 llm에 invoke한다."
   ]
  },
  {
   "cell_type": "code",
   "execution_count": 31,
   "metadata": {},
   "outputs": [
    {
     "data": {
      "text/plain": [
       "<langgraph.graph.state.StateGraph at 0x18b284ff1f0>"
      ]
     },
     "execution_count": 31,
     "metadata": {},
     "output_type": "execute_result"
    }
   ],
   "source": [
    "graph_builder3.add_node('chatbot_new', chatbot) # chatbot_new 이름의 노드를 만들고 노드 함수는 chatbot 사용\n",
    "\n",
    "graph_builder3.set_entry_point('chatbot_new') #graph에서 start지점 설정하기\n",
    "graph_builder3.set_finish_point('chatbot_new') #graph에서 finish지점 설정하기기"
   ]
  },
  {
   "cell_type": "code",
   "execution_count": 32,
   "metadata": {},
   "outputs": [],
   "source": [
    "graph3 = graph_builder3.compile() #graph3로 compilie하기"
   ]
  },
  {
   "cell_type": "code",
   "execution_count": 33,
   "metadata": {},
   "outputs": [
    {
     "data": {
      "image/png": "[encoded data removed]",
      "text/plain": [
       "<IPython.core.display.Image object>"
      ]
     },
     "metadata": {},
     "output_type": "display_data"
    }
   ],
   "source": [
    "from IPython.display import Image, display\n",
    "\n",
    "try:\n",
    "    display(Image(graph3.get_graph().draw_mermaid_png()))\n",
    "except Exception:\n",
    "    print('langgraph가 만들어지지 않았습니다.')\n",
    "    pass"
   ]
  },
  {
   "cell_type": "code",
   "execution_count": 48,
   "metadata": {},
   "outputs": [
    {
     "name": "stdout",
     "output_type": "stream",
     "text": [
      "안녕하세요! 무엇을 도와드릴까요?\n",
      "\n",
      "저는 Google에서 훈련한 대규모 언어 모델입니다.\n",
      "Gemini API는 Google에서 개발한 대규모 언어 모델(LLM)에 접근할 수 있는 인터페이스입니다. 텍스트 생성, 번역, 다양한 종류의 창의적인 콘텐츠 작성, 정보 제공 방식으로 질문에 답변하는 등 다양한 작업을 수행할 수 있습니다.  다음은 Gemini API의 주요 특징과 기능에 대한 설명입니다.\n",
      "\n",
      "**주요 기능:**\n",
      "\n",
      "* **텍스트 생성:** 이야기, 기사, 요약, 이메일 등 다양한 형태의 텍스트를 생성할 수 있습니다. 창의적인 글쓰기, 코드 생성, 번역, 비즈니스 문서 작성 등 다양한 용도로 활용 가능합니다.\n",
      "* **코드 생성 및 편집:**  Gemini API는 Python, Java, Javascript, C++ 등 다양한 프로그래밍 언어로 코드를 생성하고 편집할 수 있습니다.  주어진 요구사항에 맞는 코드를 생성하거나, 기존 코드를 디버깅하고 최적화하는 데 도움을 줄 수 있습니다.\n",
      "* **다양한 자연어 작업:** 텍스트 분류, 감정 분석, 개체명 인식, 질의응답 등 다양한 자연어 처리 작업을 수행할 수 있습니다.\n",
      "* **다국어 지원:** 다양한 언어를 이해하고 생성할 수 있어, 번역 및 다국어 콘텐츠 생성에 유용합니다.\n",
      "* **미세 조정 (Fine-tuning):** 특정 작업이나 도메인에 맞게 모델을 미세 조정하여 성능을 향상시킬 수 있습니다.  자체 데이터를 사용하여 모델을 학습시켜 특정 요구사항에 맞는 결과를 얻을 수 있습니다.\n",
      "* **다양한 모델 크기:**  다양한 크기의 모델을 제공하여 필요에 따라 성능과 효율성을 선택할 수 있습니다.  작은 모델은 빠른 응답 시간이 필요한 작업에 적합하며, 큰 모델은 더 복잡하고 정확한 결과가 필요한 작업에 적합합니다.\n",
      "\n",
      "\n",
      "**Gemini API 사용 방법:**\n",
      "\n",
      "Gemini API는 REST API 형태로 제공되며, 다양한 프로그래밍 언어에서 사용할 수 있습니다.  Google Cloud Platform 콘솔에서 API 키를 생성하고, API 문서에 따라 요청을 전송하여 사용할 수 있습니다.  Google은 다양한 클라이언트 라이브러리와 예제 코드를 제공하여 개발을 지원합니다.\n",
      "\n",
      "**Gemini API의 장점:**\n",
      "\n",
      "* **강력한 성능:** Google의 대규모 언어 모델을 기반으로 하여 높은 수준의 성능을 제공합니다.\n",
      "* **다양한 기능:** 텍스트 생성, 코드 생성, 번역 등 다양한 작업을 수행할 수 있습니다.\n",
      "* **확장성:** Google Cloud Platform의 인프라를 활용하여 높은 확장성을 제공합니다.\n",
      "* **쉬운 사용:** REST API와 다양한 클라이언트 라이브러리를 통해 쉽게 사용할 수 있습니다.\n",
      "\n",
      "\n",
      "**Gemini API 활용 예시:**\n",
      "\n",
      "* **챗봇 개발:** 자연스러운 대화를 생성하고 질문에 답변하는 챗봇을 개발할 수 있습니다.\n",
      "* **콘텐츠 생성:** 기사, 블로그 게시물, 마케팅 자료 등 다양한 콘텐츠를 자동으로 생성할 수 있습니다.\n",
      "* **코드 생성 및 디버깅:**  코드를 자동으로 생성하고, 오류를 찾아 수정하는 데 도움을 받을 수 있습니다.\n",
      "* **번역:** 다양한 언어로 텍스트를 번역할 수 있습니다.\n",
      "* **데이터 분석:** 텍스트 데이터를 분석하여 유용한 정보를 추출할 수 있습니다.\n",
      "\n",
      "\n",
      "Gemini API는 강력하고 다재다능한 도구로, 다양한 애플리케이션에 활용될 수 있습니다.  자세한 내용은 Google Cloud Platform의 공식 문서를 참조하십시오.\n",
      "\n",
      "Good bye\n"
     ]
    }
   ],
   "source": [
    "while True:\n",
    "    user_input = input(\"User: \")\n",
    "    if user_input.lower() in ['quit','exit','q']:\n",
    "        print('Good bye')\n",
    "        break\n",
    "    else:\n",
    "        for event in graph3.stream({'messages': ('user',user_input)}):\n",
    "            print(event['chatbot_new']['messages'].content)"
   ]
  },
  {
   "cell_type": "code",
   "execution_count": 49,
   "metadata": {},
   "outputs": [
    {
     "name": "stdout",
     "output_type": "stream",
     "text": [
      "User Message : 안녕\n",
      "Assistant : 안녕하세요! 무엇을 도와드릴까요?\n",
      "\n",
      "User Message : 안녕\n",
      "Assistant : 안녕하세요! 무엇을 도와드릴까요?\n",
      "\n",
      "User Message : gemini api 사용방법에 대해서 설명해 줘\n",
      "Assistant : Gemini API 사용 방법에 대해 설명드리겠습니다. Gemini API는 Google에서 개발한 대규모 언어 모델입니다. 이 API를 사용하면 텍스트 생성, 번역, 다양한 종류의 창의적인 콘텐츠 작성, 정보 질문에 대한 포괄적이고 유익한 답변을 얻을 수 있습니다.\n",
      "\n",
      "**1. Google Cloud 프로젝트 설정 및 API 활성화:**\n",
      "\n",
      "* Google Cloud Platform(GCP) 계정이 없다면 생성합니다. (https://cloud.google.com/)\n",
      "* GCP 콘솔에서 새 프로젝트를 만들거나 기존 프로젝트를 사용합니다.\n",
      "* 프로젝트에서 Gemini API를 활성화합니다.  GCP 콘솔의 검색창에서 \"Vertex AI API\"를 검색하고 활성화합니다. Gemini API는 Vertex AI의 일부입니다.\n",
      "* 필요한 경우 결제 정보를 설정합니다. Gemini API 사용량에 따라 요금이 부과될 수 있습니다.\n",
      "\n",
      "**2. API 키 생성:**\n",
      "\n",
      "* GCP 콘솔에서 \"API 및 서비스\" > \"사용자 인증 정보\"로 이동합니다.\n",
      "* \"사용자 인증 정보 만들기\"를 클릭하고 \"API 키\"를 선택합니다.\n",
      "* 생성된 API 키를 안전하게 저장합니다.  이 키는 API에 접근하는 데 필요한 중요한 정보입니다.\n",
      "\n",
      "**3. 클라이언트 라이브러리 설치 (선택적, 권장):**\n",
      "\n",
      "* Google에서 제공하는 Python 클라이언트 라이브러리를 사용하면 API 호출을 더 쉽게 할 수 있습니다.\n",
      "* `pip install google-cloud-aiplatform` 명령어를 사용하여 라이브러리를 설치합니다.  다른 언어에 대한 라이브러리도 제공됩니다.\n",
      "\n",
      "**4. API 호출:**\n",
      "\n",
      "API를 호출하는 방법은 두 가지가 있습니다:\n",
      "\n",
      "* **REST API:**  HTTP 요청을 직접 사용하여 API를 호출할 수 있습니다.  API 키는 `Authorization` 헤더에 포함되어야 합니다.  자세한 내용은 Gemini API 문서의 REST API 섹션을 참조하세요.\n",
      "\n",
      "* **클라이언트 라이브러리:**  Python 클라이언트 라이브러리를 사용하는 예시입니다.\n",
      "\n",
      "```python\n",
      "from google.cloud import aiplatform\n",
      "\n",
      "# 프로젝트 ID 설정\n",
      "aiplatform.init(project=\"your-project-id\")\n",
      "\n",
      "# 모델 선택 (예: text-bison@001)\n",
      "model = aiplatform.Model(\"models/text-bison-001\")\n",
      "\n",
      "# 프롬프트 설정\n",
      "prompt = \"한국어로 자기소개를 해줘.\"\n",
      "\n",
      "# API 호출\n",
      "response = model.predict(prompt=prompt)\n",
      "\n",
      "# 결과 출력\n",
      "print(response.predictions[0].content)\n",
      "```\n",
      "\n",
      "**5. 파라미터 설정:**\n",
      "\n",
      "API 호출 시 다양한 파라미터를 설정하여 결과를 조정할 수 있습니다.  예를 들어 `temperature` 파라미터는 생성되는 텍스트의 창의성을 조절하고, `max_output_tokens` 파라미터는 생성되는 텍스트의 최대 길이를 제한합니다.  자세한 내용은 Gemini API 문서를 참조하세요.\n",
      "\n",
      "\n",
      "**핵심 요약:**\n",
      "\n",
      "* Google Cloud 프로젝트 설정 및 API 활성화\n",
      "* API 키 생성 및 안전하게 보관\n",
      "* 클라이언트 라이브러리 설치 (권장)\n",
      "* REST API 또는 클라이언트 라이브러리를 사용하여 API 호출\n",
      "* 파라미터 설정을 통해 결과 조정\n",
      "\n",
      "**추가 정보:**\n",
      "\n",
      "* **Gemini API 공식 문서:**  가장 정확하고 최신 정보를 얻을 수 있는 곳입니다.  모델 선택, 파라미터 설정 등에 대한 자세한 설명을 제공합니다.\n",
      "* **Google Cloud Platform 콘솔:**  API 활성화, 키 생성, 사용량 확인 등을 할 수 있습니다.\n",
      "\n",
      "Gemini API를 사용하여 다양한 작업을 수행할 수 있습니다.  문서와 예제 코드를 참고하여 원하는 기능을 구현해 보세요.  궁금한 점이 있다면 다시 질문해주세요.\n",
      "\n",
      "Good bye\n"
     ]
    }
   ],
   "source": [
    "while True:\n",
    "    user_input = input(\"User: \")\n",
    "    if user_input.lower() in ['quit','exit','q']:\n",
    "        print('Good bye')\n",
    "        break\n",
    "    else:\n",
    "        for event in graph3.stream({'messages': ('user',user_input)}):\n",
    "            print(f\"User Message : {user_input}\")\n",
    "            print(f\"Assistant : {event['chatbot_new']['messages'].content}\")"
   ]
  }
 ],
 "metadata": {
  "kernelspec": {
   "display_name": "py31012",
   "language": "python",
   "name": "python3"
  },
  "language_info": {
   "codemirror_mode": {
    "name": "ipython",
    "version": 3
   },
   "file_extension": ".py",
   "mimetype": "text/x-python",
   "name": "python",
   "nbconvert_exporter": "python",
   "pygments_lexer": "ipython3",
   "version": "3.10.12"
  }
 },
 "nbformat": 4,
 "nbformat_minor": 2
}
