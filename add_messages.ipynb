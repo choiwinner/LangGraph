{
 "cells": [
  {
   "cell_type": "markdown",
   "metadata": {},
   "source": [
    "참고 자료 : https://wikidocs.net/264613"
   ]
  },
  {
   "cell_type": "code",
   "execution_count": 1,
   "metadata": {},
   "outputs": [
    {
     "name": "stdout",
     "output_type": "stream",
     "text": [
      "[HumanMessage(content='안녕하세요?', additional_kwargs={}, response_metadata={}, id='1'), AIMessage(content='반갑습니다~', additional_kwargs={}, response_metadata={}, id='2')]\n"
     ]
    }
   ],
   "source": [
    "from langchain_core.messages import AIMessage, HumanMessage\n",
    "from langgraph.graph import add_messages\n",
    "\n",
    "# 기본 사용 예시\n",
    "msgs1 = [HumanMessage(content=\"안녕하세요?\", id=\"1\")]\n",
    "msgs2 = [AIMessage(content=\"반갑습니다~\", id=\"2\")]\n",
    "\n",
    "result1 = add_messages(msgs1, msgs2)\n",
    "print(result1)"
   ]
  },
  {
   "cell_type": "code",
   "execution_count": 2,
   "metadata": {},
   "outputs": [
    {
     "name": "stdout",
     "output_type": "stream",
     "text": [
      "[HumanMessage(content='안녕하세요.', additional_kwargs={}, response_metadata={}, id='8d139e7a-4c79-4798-8113-6abca8a576b2'), HumanMessage(content='최재일입니다.', additional_kwargs={}, response_metadata={}, id='5e307831-181d-40df-9c89-4892d9ec41f2'), HumanMessage(content='반갑습니다', additional_kwargs={}, response_metadata={}, id='91ad0e89-d85d-42d3-bab9-ecded3554faf')]\n"
     ]
    }
   ],
   "source": [
    "# 기본 사용 예시\n",
    "msgs3 = ['안녕하세요.','최재일입니다.']\n",
    "msgs4 = [\"반갑습니다\"]\n",
    "\n",
    "result2 = add_messages(msgs3, msgs4)\n",
    "print(result2)"
   ]
  },
  {
   "cell_type": "code",
   "execution_count": 3,
   "metadata": {},
   "outputs": [
    {
     "name": "stdout",
     "output_type": "stream",
     "text": [
      "[AIMessage(content='반갑습니다~', additional_kwargs={}, response_metadata={}, id='1')]\n",
      "<class 'list'>\n",
      "[AIMessage(content='반갑습니다~', additional_kwargs={}, response_metadata={}, id='1'), HumanMessage(content='천만에요', additional_kwargs={}, response_metadata={}, id='2')]\n",
      "<class 'list'>\n"
     ]
    }
   ],
   "source": [
    "# 기본 사용 예시\n",
    "msgs4 = [HumanMessage(content=\"안녕하세요?\", id=\"1\")]\n",
    "msgs5 = [AIMessage(content=\"반갑습니다~\", id=\"1\")]\n",
    "msgs6 = [HumanMessage(content=\"천만에요\",id=2)]\n",
    "\n",
    "#동일 id가 있을 경우 마지막으로 추가된 것으로 대체됨.(오른쪽)\n",
    "result3 = add_messages(msgs4, msgs5)\n",
    "print(result3)\n",
    "print(type(result3))\n",
    "\n",
    "#add_messages의 출력은 list이다.\n",
    "result4 = add_messages(result3,msgs6)\n",
    "print(result4)\n",
    "print(type(result4))"
   ]
  },
  {
   "cell_type": "code",
   "execution_count": 4,
   "metadata": {},
   "outputs": [
    {
     "ename": "TypeError",
     "evalue": "add_messages() takes 2 positional arguments but 3 were given",
     "output_type": "error",
     "traceback": [
      "\u001b[1;31m---------------------------------------------------------------------------\u001b[0m",
      "\u001b[1;31mTypeError\u001b[0m                                 Traceback (most recent call last)",
      "Cell \u001b[1;32mIn[4], line 2\u001b[0m\n\u001b[0;32m      1\u001b[0m \u001b[38;5;66;03m#2개의 list만 입력 가능하다.(error case)\u001b[39;00m\n\u001b[1;32m----> 2\u001b[0m result5\u001b[38;5;241m=\u001b[39m \u001b[43madd_messages\u001b[49m\u001b[43m(\u001b[49m\u001b[43mmsgs4\u001b[49m\u001b[43m,\u001b[49m\u001b[43mmsgs5\u001b[49m\u001b[43m,\u001b[49m\u001b[43mmsgs6\u001b[49m\u001b[43m)\u001b[49m\n\u001b[0;32m      3\u001b[0m \u001b[38;5;28mprint\u001b[39m(result5)\n\u001b[0;32m      4\u001b[0m \u001b[38;5;28mprint\u001b[39m(\u001b[38;5;28mtype\u001b[39m(result5))\n",
      "\u001b[1;31mTypeError\u001b[0m: add_messages() takes 2 positional arguments but 3 were given"
     ]
    }
   ],
   "source": [
    "#2개의 list만 입력 가능하다.(error case)\n",
    "result5= add_messages(msgs4,msgs5,msgs6)\n",
    "print(result5)\n",
    "print(type(result5))"
   ]
  }
 ],
 "metadata": {
  "kernelspec": {
   "display_name": "py31012",
   "language": "python",
   "name": "python3"
  },
  "language_info": {
   "codemirror_mode": {
    "name": "ipython",
    "version": 3
   },
   "file_extension": ".py",
   "mimetype": "text/x-python",
   "name": "python",
   "nbconvert_exporter": "python",
   "pygments_lexer": "ipython3",
   "version": "3.10.12"
  }
 },
 "nbformat": 4,
 "nbformat_minor": 2
}
