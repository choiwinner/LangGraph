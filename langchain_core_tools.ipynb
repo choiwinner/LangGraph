{
 "cells": [
  {
   "cell_type": "code",
   "execution_count": 1,
   "metadata": {},
   "outputs": [
    {
     "data": {
      "text/plain": [
       "True"
      ]
     },
     "execution_count": 1,
     "metadata": {},
     "output_type": "execute_result"
    }
   ],
   "source": [
    "#os_key Setting\n",
    "\n",
    "from dotenv import load_dotenv\n",
    "import os\n",
    "# .env 파일 로드(api key load) \n",
    "#GOOGLE_API_KEY \n",
    "#LANGCHAIN_API_KEY \n",
    "#TAVILY_API_KEY \n",
    "#HUGGINGFACEHUB_API_TOKEN \n",
    "#COHERE_API_KEY \n",
    "\n",
    "load_dotenv()"
   ]
  },
  {
   "cell_type": "code",
   "execution_count": 2,
   "metadata": {},
   "outputs": [],
   "source": [
    "#langsmith Setting\n",
    "os.environ[\"LANGCHAIN_TRACING_V2\"] = \"true\"\n",
    "os.environ[\"LANGCHAIN_ENDPOINT\"] = \"https://api.smith.langchain.com\" \n",
    "os.environ[\"LANGCHAIN_PROJECT\"] = \"langgraph_tool_binding\"            #표시될 PJT명 Setting\n",
    "#os.environ[\"LANGCHAIN_API_KEY\"] = \"lsv2_***\"                        *.env로 setting\n",
    "from langsmith import Client\n",
    "client = Client()"
   ]
  },
  {
   "cell_type": "markdown",
   "metadata": {},
   "source": [
    "- @tool 데코레이터 사용\n",
    "- 가장 간단한 방법은 @tool 데코레이터를 사용하는 것입니다."
   ]
  },
  {
   "cell_type": "code",
   "execution_count": 3,
   "metadata": {},
   "outputs": [],
   "source": [
    "#tool을 이용해서 multiply라는 tool을 생성. 함수를 만드는 것과 동일하다\n",
    "from langchain_core.tools import tool\n",
    "\n",
    "@tool\n",
    "def multiply(a: int, b: int) -> int: #곰셈 tool\n",
    "    \"\"\"두 숫자를 곱합니다.\"\"\"\n",
    "    return a * b"
   ]
  },
  {
   "cell_type": "code",
   "execution_count": 4,
   "metadata": {},
   "outputs": [],
   "source": [
    "#tool을 이용해서 multiply라는 tool을 생성. 함수를 만드는 것과 동일하다\n",
    "import requests\n",
    "from bs4 import BeautifulSoup\n",
    "import re\n",
    "\n",
    "@tool\n",
    "def naver_news_crawl(news_url: str) -> str:   #네이버 뉴스 크롤링링\n",
    "    \"\"\"Crawls a 네이버 (naver.com) news article and returns the body content.\"\"\"\n",
    "    # HTTP GET 요청 보내기\n",
    "    response = requests.get(news_url)\n",
    "\n",
    "    # 요청이 성공했는지 확인\n",
    "    if response.status_code == 200:\n",
    "        # BeautifulSoup을 사용하여 HTML 파싱\n",
    "        soup = BeautifulSoup(response.text, \"html.parser\")\n",
    "\n",
    "        # 원하는 정보 추출\n",
    "        title = soup.find(\"h2\", id=\"title_area\").get_text()\n",
    "        content = soup.find(\"div\", id=\"newsct_article\").get_text()\n",
    "        cleaned_title = re.sub(r\"\\n{2,}\", \"\\n\", title)\n",
    "        cleaned_content = re.sub(r\"\\n{2,}\", \"\\n\", content)\n",
    "    else:\n",
    "        print(f\"HTTP 요청 실패. 응답 코드: {response.status_code}\")\n",
    "\n",
    "    return f\"{cleaned_title}\\n{cleaned_content}\""
   ]
  },
  {
   "cell_type": "code",
   "execution_count": 10,
   "metadata": {},
   "outputs": [],
   "source": [
    "url = 'https://n.news.naver.com/mnews/hotissue/article/092/0002347672?type=series&cid=2000065'\n",
    "response = requests.get(url)\n",
    "# 요청이 성공했는지 확인\n",
    "if response.status_code == 200:\n",
    "    # BeautifulSoup을 사용하여 HTML 파싱\n",
    "    soup = BeautifulSoup(response.text, \"html.parser\")\n",
    "    title = soup.find(\"h2\", id=\"title_area\").get_text()\n",
    "    cleaned_title = re.sub(r\"\\n{2,}\", \"\\n\", title)\n",
    "    content = soup.find(\"div\", id=\"newsct_article\").get_text()\n",
    "    cleaned_content = re.sub(r\"\\n{2,}\", \"\\n\", content)"
   ]
  },
  {
   "cell_type": "code",
   "execution_count": 9,
   "metadata": {},
   "outputs": [
    {
     "name": "stdout",
     "output_type": "stream",
     "text": [
      "[미장브리핑] 9월 미국 CPI 주목…3분기 S&P500 실적 발표\n"
     ]
    }
   ],
   "source": [
    "print(cleaned_title)"
   ]
  },
  {
   "cell_type": "code",
   "execution_count": 11,
   "metadata": {},
   "outputs": [
    {
     "name": "stdout",
     "output_type": "stream",
     "text": [
      "\n",
      "\t\t\t▲10일(현지시간) 미국 9월 소비자물가지수(CPI) 발표 예정. 고용 지표가 양호하게 나온 가운데 물가 지표 주목. 9월 미국 비농업고용 25만4천명 증가해 시장 예상치 14만명 크게 상회. 이는 6개월 래 최대 규모로 지난 12개월 평균값 20만3천명 증가한 것보다도 높은 수치. 9월 실업률은 4.1%로 2개월 연속 하락했으며, 평균 시간당 임금은 전년 동월 대비 4% 증가해 5월 이후 최고 수준.▲시장에서 9월 헤드라인 CPI는 8월 전년 동월 대비 2.6% 로 5개월 연속 둔화하고 9월에는 2.3% 증가로 추가 하락 예상. 전월 대비도 8월 0.2% 둔화 예상. 근원 CPI는 지난 8월 3.2%와 비슷한 수준 관측.▲11일에는 미국 9월 제조업물가지수(PPI) 발표. 지난 6월 부터 8월까지 반등 추세 꺾여. 8월은 1.7% 증가.\n",
      "(사진=이미지투데이)▲11월 미국 연방준비제도(연준) 공개시장위원회(FOMC) 에서 0.50%p 인하 기대가 크케 후퇴한 가운데, 9일에는 FOMC 의사록 공개. 지난 9월 회의에서 빅컷(0.50%p) 단행한 배경과 인플레이션 전망에 대한 논의를 알 수 있을 것으로 보여.▲미국 스탠다드앤푸어스(S&P) 500 기업의 3분기 실적 발표 시작. 평균 이익증가율 추정치는 전년 동기 대비 4.6%로 5개분기 연속 플러스이나 증가폭은 둔화 예상. 11일부터 JP모건체이스, 웰스파고 등 대형은행들의 실적 발표.▲FTSE 러셀은 8일 정례 시장분류 결과를 발표. 한국은 2022년 관찰대상국 지정 이후 금번 시장접근성 등급(L1) 상향으로 세계국채지수(WGBI) 에 편입될 지 관심. 주식의 경우 지난 2009년부터 선진국 지수에 편입돼 있는 한국 증시에 대해 공매도 제한 등을 이유로 관찰 대상국으로 지정할지 관심. 지정되더라도 검토 기간이 있어 즉각 제외되지는 않음.\n",
      "\n"
     ]
    }
   ],
   "source": [
    "print(cleaned_content)"
   ]
  },
  {
   "cell_type": "code",
   "execution_count": 12,
   "metadata": {},
   "outputs": [
    {
     "name": "stderr",
     "output_type": "stream",
     "text": [
      "Key 'title' is not supported in schema, ignoring\n",
      "Key 'title' is not supported in schema, ignoring\n",
      "Key 'title' is not supported in schema, ignoring\n",
      "Key 'title' is not supported in schema, ignoring\n",
      "Key 'title' is not supported in schema, ignoring\n"
     ]
    },
    {
     "name": "stdout",
     "output_type": "stream",
     "text": [
      "content='' additional_kwargs={'function_call': {'name': 'multiply', 'arguments': '{\"a\": 7.0, \"b\": 8.0}'}} response_metadata={'prompt_feedback': {'block_reason': 0, 'safety_ratings': []}, 'finish_reason': 'STOP', 'safety_ratings': [{'category': 'HARM_CATEGORY_HATE_SPEECH', 'probability': 'NEGLIGIBLE', 'blocked': False}, {'category': 'HARM_CATEGORY_DANGEROUS_CONTENT', 'probability': 'NEGLIGIBLE', 'blocked': False}, {'category': 'HARM_CATEGORY_HARASSMENT', 'probability': 'NEGLIGIBLE', 'blocked': False}, {'category': 'HARM_CATEGORY_SEXUALLY_EXPLICIT', 'probability': 'NEGLIGIBLE', 'blocked': False}]} id='run-b652a17e-4508-4b43-a210-e372d504ac69-0' tool_calls=[{'name': 'multiply', 'args': {'a': 7.0, 'b': 8.0}, 'id': '2b5305eb-5eb5-4608-a41c-8c019c2ac9ba', 'type': 'tool_call'}] usage_metadata={'input_tokens': 122, 'output_tokens': 3, 'total_tokens': 125}\n"
     ]
    }
   ],
   "source": [
    "from langchain_google_genai import ChatGoogleGenerativeAI\n",
    "\n",
    "llm = ChatGoogleGenerativeAI(model='gemini-2.0-flash-exp', temperature= 0)\n",
    "\n",
    "tools = [multiply, naver_news_crawl]\n",
    "llm_with_tools = llm.bind_tools(tools)\n",
    "\n",
    "result = llm_with_tools.invoke(\"7과 8을 곱하면 얼마인가요?\")\n",
    "print(result)\n"
   ]
  },
  {
   "cell_type": "code",
   "execution_count": 14,
   "metadata": {},
   "outputs": [
    {
     "name": "stdout",
     "output_type": "stream",
     "text": [
      "[{'name': 'naver_news_crawl', 'args': {'news_url': 'https://n.news.naver.com/mnews/hotissue/article/092/0002347672?type=series&cid=2000065'}, 'id': 'f0a4131e-17f1-4ddb-a6f6-4fa27e6c6775', 'type': 'tool_call'}]\n"
     ]
    }
   ],
   "source": [
    "result = llm_with_tools.invoke(\"뉴스 기사 내용을 크롤링해줘: https://n.news.naver.com/mnews/hotissue/article/092/0002347672?type=series&cid=2000065\").tool_calls\n",
    "print(result)\n"
   ]
  },
  {
   "cell_type": "code",
   "execution_count": 15,
   "metadata": {},
   "outputs": [
    {
     "name": "stdout",
     "output_type": "stream",
     "text": [
      "[{'name': 'multiply', 'args': {'b': 8.0, 'a': 7.0}, 'id': 'f39874e9-bae4-49bb-af38-c7d4288693b6', 'type': 'tool_call'}]\n"
     ]
    }
   ],
   "source": [
    "result2 = llm_with_tools.invoke(\"7과 8을 곱하면 얼마인가요?\").tool_calls\n",
    "print(result2)"
   ]
  },
  {
   "cell_type": "code",
   "execution_count": 16,
   "metadata": {},
   "outputs": [],
   "source": [
    "from langchain_core.output_parsers.openai_tools import JsonOutputToolsParser\n",
    "\n",
    "# 도구 바인딩 + 도구 파서\n",
    "chain = llm_with_tools | JsonOutputToolsParser(tools=tools)\n",
    "\n",
    "# 실행 결과\n",
    "tool_call_results = chain.invoke(\"7과 8을 곱하면 얼마인가요?\")"
   ]
  },
  {
   "cell_type": "code",
   "execution_count": 17,
   "metadata": {},
   "outputs": [
    {
     "data": {
      "text/plain": [
       "[{'args': {'b': 8.0, 'a': 7.0}, 'type': 'multiply'}]"
      ]
     },
     "execution_count": 17,
     "metadata": {},
     "output_type": "execute_result"
    }
   ],
   "source": [
    "tool_call_results"
   ]
  },
  {
   "cell_type": "markdown",
   "metadata": {},
   "source": [
    "- create_tool_calling_agent 사용하기\n",
    "- AgentExecutor 사용하기"
   ]
  },
  {
   "cell_type": "code",
   "execution_count": 18,
   "metadata": {},
   "outputs": [],
   "source": [
    "from langchain_core.prompts import ChatPromptTemplate, MessagesPlaceholder\n",
    "from langchain_openai import ChatOpenAI\n",
    "\n",
    "# Agent프롬프트 생성\n",
    "prompt = ChatPromptTemplate.from_messages(\n",
    "    [\n",
    "        (\n",
    "            \"system\",\n",
    "            \"You are very powerful assistant, but don't know current events\",\n",
    "        ),\n",
    "        (\"user\", \"{input}\"),\n",
    "        MessagesPlaceholder(variable_name=\"agent_scratchpad\"),\n",
    "    ]\n",
    ")\n",
    "\n",
    "# 모델 생성\n",
    "llm = ChatGoogleGenerativeAI(model='gemini-2.0-flash-exp', temperature= 0)"
   ]
  },
  {
   "cell_type": "code",
   "execution_count": 19,
   "metadata": {},
   "outputs": [
    {
     "name": "stderr",
     "output_type": "stream",
     "text": [
      "Key 'title' is not supported in schema, ignoring\n",
      "Key 'title' is not supported in schema, ignoring\n",
      "Key 'title' is not supported in schema, ignoring\n",
      "Key 'title' is not supported in schema, ignoring\n",
      "Key 'title' is not supported in schema, ignoring\n"
     ]
    }
   ],
   "source": [
    "from langchain.agents import create_tool_calling_agent\n",
    "from langchain.agents import AgentExecutor\n",
    "\n",
    "# 이전에 정의한 도구 사용\n",
    "tools = [multiply, naver_news_crawl]\n",
    "\n",
    "# Agent 생성\n",
    "agent = create_tool_calling_agent(llm, tools, prompt)\n",
    "\n",
    "# AgentExecutor 생성(verbose=False)\n",
    "agent_executor = AgentExecutor(\n",
    "    agent=agent,\n",
    "    tools=tools,\n",
    "    verbose=False,\n",
    "    handle_parsing_errors=True,\n",
    ")\n"
   ]
  },
  {
   "cell_type": "code",
   "execution_count": 20,
   "metadata": {},
   "outputs": [],
   "source": [
    "# AgentExecutor 생성(verbose=True)\n",
    "agent_executor2 = AgentExecutor(\n",
    "    agent=agent,\n",
    "    tools=tools,\n",
    "    verbose=True,\n",
    "    handle_parsing_errors=True,\n",
    ")"
   ]
  },
  {
   "cell_type": "code",
   "execution_count": 21,
   "metadata": {},
   "outputs": [
    {
     "name": "stdout",
     "output_type": "stream",
     "text": [
      "7 곱하기 8은 56입니다.\n",
      "\n"
     ]
    }
   ],
   "source": [
    "# Agent 실행\n",
    "result = agent_executor.invoke({\"input\": \"7과 8을 곱하면 얼마인가요?\"})\n",
    "\n",
    "# 결과 확인\n",
    "print(result[\"output\"])\n"
   ]
  },
  {
   "cell_type": "code",
   "execution_count": 22,
   "metadata": {},
   "outputs": [
    {
     "name": "stdout",
     "output_type": "stream",
     "text": [
      "\n",
      "\n",
      "\u001b[1m> Entering new AgentExecutor chain...\u001b[0m\n",
      "\u001b[32;1m\u001b[1;3m\n",
      "Invoking: `multiply` with `{'a': 7.0, 'b': 8.0}`\n",
      "\n",
      "\n",
      "\u001b[0m\u001b[36;1m\u001b[1;3m56\u001b[0m\u001b[32;1m\u001b[1;3m7 곱하기 8은 56입니다.\n",
      "\u001b[0m\n",
      "\n",
      "\u001b[1m> Finished chain.\u001b[0m\n",
      "7 곱하기 8은 56입니다.\n",
      "\n"
     ]
    }
   ],
   "source": [
    "# Agent 실행\n",
    "result = agent_executor2.invoke({\"input\": \"7과 8을 곱하면 얼마인가요?\"})\n",
    "\n",
    "# 결과 확인\n",
    "print(result[\"output\"])"
   ]
  },
  {
   "cell_type": "code",
   "execution_count": 23,
   "metadata": {},
   "outputs": [
    {
     "name": "stdout",
     "output_type": "stream",
     "text": [
      "[미장브리핑] 9월 미국 CPI 주목…3분기 S&P500 실적 발표\n",
      "\n",
      "▲10일(현지시간) 미국 9월 소비자물가지수(CPI) 발표 예정. 고용 지표가 양호하게 나온 가운데 물가 지표 주목. 9월 미국 비농업고용 25만4천명 증가해 시장 예상치 14만명 크게 상회. 이는 6개월 래 최대 규모로 지난 12개월 평균값 20만3천명 증가한 것보다도 높은 수치. 9월 실업률은 4.1%로 2개월 연속 하락했으며, 평균 시간당 임금은 전년 동월 대비 4% 증가해 5월 이후 최고 수준.\n",
      "▲시장에서 9월 헤드라인 CPI는 8월 전년 동월 대비 2.6% 로 5개월 연속 둔화하고 9월에는 2.3% 증가로 추가 하락 예상. 전월 대비도 8월 0.2% 둔화 예상. 근원 CPI는 지난 8월 3.2%와 비슷한 수준 관측.\n",
      "▲11일에는 미국 9월 제조업물가지수(PPI) 발표. 지난 6월 부터 8월까지 반등 추세 꺾여. 8월은 1.7% 증가.\n",
      "(사진=이미지투데이)\n",
      "▲11월 미국 연방준비제도(연준) 공개시장위원회(FOMC) 에서 0.50%p 인하 기대가 크케 후퇴한 가운데, 9일에는 FOMC 의사록 공개. 지난 9월 회의에서 빅컷(0.50%p) 단행한 배경과 인플레이션 전망에 대한 논의를 알 수 있을 것으로 보여.\n",
      "▲미국 스탠다드앤푸어스(S&P) 500 기업의 3분기 실적 발표 시작. 평균 이익증가율 추정치는 전년 동기 대비 4.6%로 5개분기 연속 플러스이나 증가폭은 둔화 예상. 11일부터 JP모건체이스, 웰스파고 등 대형은행들의 실적 발표.\n",
      "▲FTSE 러셀은 8일 정례 시장분류 결과를 발표. 한국은 2022년 관찰대상국 지정 이후 금번 시장접근성 등급(L1) 상향으로 세계국채지수(WGBI) 에 편입될 지 관심. 주식의 경우 지난 2009년부터 선진국 지수에 편입돼 있는 한국 증시에 대해 공매도 제한 등을 이유로 관찰 대상국으로 지정할지 관심. 지정되더라도 검토 기간이 있어 즉각 제외되지는 않음.\n",
      "\n"
     ]
    }
   ],
   "source": [
    "# Agent 실행\n",
    "result = agent_executor.invoke({\"input\":  \"뉴스 기사 내용을 크롤링해줘: https://n.news.naver.com/mnews/hotissue/article/092/0002347672?type=series&cid=2000065\"})\n",
    "\n",
    "# 결과 확인\n",
    "print(result[\"output\"])"
   ]
  },
  {
   "cell_type": "code",
   "execution_count": 24,
   "metadata": {},
   "outputs": [
    {
     "name": "stdout",
     "output_type": "stream",
     "text": [
      "\n",
      "\n",
      "\u001b[1m> Entering new AgentExecutor chain...\u001b[0m\n",
      "\u001b[32;1m\u001b[1;3m\n",
      "Invoking: `naver_news_crawl` with `{'news_url': 'https://n.news.naver.com/mnews/article/011/0004430917'}`\n",
      "\n",
      "\n",
      "\u001b[0m\u001b[33;1m\u001b[1;3m트럼프 취임 전 협상 마무리… TSMC 독주에 파운드리 보조금은 줄어\n",
      "\n",
      "■ 美반도체 보조금 최종계약삼성 47억弗···투자규모 16% ↓하이닉스 4.5억弗 오히려 증가메모리업계 대부분 예상치 유지\n",
      "삼성전자의 미국 테일러 공장 전경. 사진제공=삼성전자[서울경제] 삼성전자와 SK하이닉스가 미국 행정부와 반도체 투자에 관한 보조금 계약을 확정 지었다. 트럼프 정부가 출범하기 한 달 전에 계약이 마무리되면서 일단 투자 불확실성은 최소화할 수 있게 됐다. 삼성·인텔 등 현지에 파운드리(반도체 위탁 생산) 설비를 짓고 있는 회사들의 보조금이 당초 예상보다 줄어든 반면 SK하이닉스·마이크론 등 메모리 업체들의 보조금은 예상치가 최초 계획대로 유지돼 반도체 제조와 관련한 양대 사업의 희비가 엇갈렸다는 평가도 나온다.20일(현지 시간) 미 상무부는 텍사스주 테일러시에 파운드리 공장을 짓고 있는 삼성전자에 최대 47억 4500만 달러(약 6조 9000억 원)의 보조금을 직접 지급한다고 발표했다. 이는 삼성전자가 바이든 행정부와 4월에 체결한 예비거래각서(PMT)에서 명시한 보조금 64억 달러(약 9조 3000억 원)보다 26%가량 줄어든 수치다.삼성의 투자금 규모도 달라졌다. 미국의 보조금은 기본적으로 현지에 공장을 짓도록 지원하는 자금이기 때문에 투자 액수에 비례해 보조금 액수도 달라지게 된다. 상무부에 따르면 삼성이 최종 확정한 대미 투자는 370억 달러(약 53조 6000억 원)로 4월 PMT 서명 때 발표한 440억 달러(약 63조 8000억 원)보다 16% 감소했다. 결론적으로 보면 투자금 감액 규모(16%포인트)보다 보조금 감액 규모(26%포인트)가 더 커진 셈이다. 미 상무부 대변인은 보조금 감액 배경에 대해 “시장 환경과 해당 기업의 투자 범위에 맞춰 변경했다”고만 설명했다.\n",
      "시장에서는 일단 메모리 쪽에 집중하기로 경영 전략을 짠 삼성이 파운드리 부문에서는 당분간 보수적인 투자에 나서는 것 아니냐는 전망이 나온다. 반도체 업계의 한 고위 관계자는 “삼성으로서도 1위 TSMC와의 격차가 상당하다는 점을 인정하고 투자 속도 조절에 나설 수밖에 없는 상황”이라며 “보조금을 대거 수령했다가 투자 집행이 지연되면 트럼프 2기 행정부에서 난처한 입장에 몰릴 수도 있다”고 지적했다.TSMC가 압도적 1위를 유지하면서 미국 보조금에서 파운드리 업체와 메모리 업체의 희비가 엇갈렸다는 분석도 나온다. 파운드리 2위 탈환을 선언한 인텔만 해도 당초 85억 달러였던 보조금이 최종 78억 6000만 달러로 감액됐다. 삼성 역시 현재 미국 투자는 파운드리 중심이다. 삼성과 인텔은 각각 테일러 공장과 오하이오주 공장 가동 시기를 미뤘다는 공통점도 갖고 있다.반면 SK하이닉스와 마이크론 등 메모리 업체들은 당초에 약속했던 보조금을 거의 그대로 지급받을 예정이다. SK하이닉스의 최종 보조금은 4억 5800만 달러로 당초 계약치보다 800만 달러가 도리어 증가했다. 마이크론 또한 최초 보조금과 동일한 61억 6500만 달러를 지급받기로 했다. 업계의 한 관계자는 “파운드리는 대만 TSMC의 독주가 이어지며 경쟁사들의 투자 시점이 미뤄지고 메모리는 고대역폭메모리(HBM) 등 고가의 인공지능(AI)용 칩 수요가 꺾이지 않는 점이 미국 보조금 지급에도 영향을 준 것으로 보인다”고 설명했다.\n",
      "\u001b[0m\u001b[32;1m\u001b[1;3m네, 해당 네이버 뉴스 기사 내용을 크롤링했습니다. 주요 내용은 다음과 같습니다.\n",
      "\n",
      "*   **미국 반도체 보조금 계약 확정:** 삼성전자와 SK하이닉스가 미국 정부와 반도체 투자 보조금 계약을 확정했습니다. 트럼프 정부 출범 전에 계약이 마무리되어 투자 불확실성을 줄였습니다.\n",
      "*   **삼성전자 보조금 감소:** 삼성전자는 당초 예상보다 줄어든 47억 4500만 달러의 보조금을 받게 되었습니다. 투자 규모도 16% 감소했습니다. 이는 파운드리 부문에서 TSMC와의 격차를 고려한 보수적인 투자 전략으로 해석됩니다.\n",
      "*   **SK하이닉스 보조금 증가:** SK하이닉스는 오히려 당초 계약보다 증가한 4억 5800만 달러의 보조금을 받게 되었습니다. 이는 메모리 시장의 호황과 고대역폭메모리(HBM) 수요 증가에 따른 것으로 보입니다.\n",
      "*   **파운드리와 메모리 업계의 희비:** 파운드리 업계는 TSMC의 독주로 인해 보조금이 줄어든 반면, 메모리 업계는 AI 칩 수요 증가로 인해 보조금이 유지되거나 증가했습니다.\n",
      "\n",
      "더 자세한 내용은 위 크롤링 결과에서 확인하실 수 있습니다.\n",
      "\u001b[0m\n",
      "\n",
      "\u001b[1m> Finished chain.\u001b[0m\n",
      "네, 해당 네이버 뉴스 기사 내용을 크롤링했습니다. 주요 내용은 다음과 같습니다.\n",
      "\n",
      "*   **미국 반도체 보조금 계약 확정:** 삼성전자와 SK하이닉스가 미국 정부와 반도체 투자 보조금 계약을 확정했습니다. 트럼프 정부 출범 전에 계약이 마무리되어 투자 불확실성을 줄였습니다.\n",
      "*   **삼성전자 보조금 감소:** 삼성전자는 당초 예상보다 줄어든 47억 4500만 달러의 보조금을 받게 되었습니다. 투자 규모도 16% 감소했습니다. 이는 파운드리 부문에서 TSMC와의 격차를 고려한 보수적인 투자 전략으로 해석됩니다.\n",
      "*   **SK하이닉스 보조금 증가:** SK하이닉스는 오히려 당초 계약보다 증가한 4억 5800만 달러의 보조금을 받게 되었습니다. 이는 메모리 시장의 호황과 고대역폭메모리(HBM) 수요 증가에 따른 것으로 보입니다.\n",
      "*   **파운드리와 메모리 업계의 희비:** 파운드리 업계는 TSMC의 독주로 인해 보조금이 줄어든 반면, 메모리 업계는 AI 칩 수요 증가로 인해 보조금이 유지되거나 증가했습니다.\n",
      "\n",
      "더 자세한 내용은 위 크롤링 결과에서 확인하실 수 있습니다.\n",
      "\n"
     ]
    }
   ],
   "source": [
    "# Agent 실행\n",
    "result = agent_executor2.invoke({\"input\":  \"뉴스 기사 내용을 크롤링해줘: https://n.news.naver.com/mnews/article/011/0004430917\"})\n",
    "\n",
    "# 결과 확인\n",
    "print(result[\"output\"])"
   ]
  }
 ],
 "metadata": {
  "kernelspec": {
   "display_name": "py31012",
   "language": "python",
   "name": "python3"
  },
  "language_info": {
   "codemirror_mode": {
    "name": "ipython",
    "version": 3
   },
   "file_extension": ".py",
   "mimetype": "text/x-python",
   "name": "python",
   "nbconvert_exporter": "python",
   "pygments_lexer": "ipython3",
   "version": "3.10.12"
  }
 },
 "nbformat": 4,
 "nbformat_minor": 2
}
