{
 "cells": [
  {
   "cell_type": "markdown",
   "metadata": {},
   "source": [
    "- 참고 자료 1: https://www.youtube.com/watch?v=jQxTHfoqArk\n",
    "- 참고 자료 2: https://www.youtube.com/watch?v=apgY5Po0fR8&t=46s\n",
    "- 참고 자료 3: https://langchain-ai.github.io/langgraph/tutorials/\n",
    "- 참고 자료 4: https://langchain-ai.github.io/langgraph/tutorials/multi_agent/multi-agent-collaboration/\n",
    "- 참고 자료 5 : https://wikidocs.net/264624"
   ]
  },
  {
   "cell_type": "markdown",
   "metadata": {},
   "source": [
    "Quick Start¶\n",
    "\n",
    "In this comprehensive quick start, we will build a support chatbot in LangGraph that can:\n",
    "\n",
    "* Answer common questions by searching the web\n",
    "* Maintain conversation state across calls\n",
    "* Route complex queries to a human for review\n",
    "* Use custom state to control its behavior\n",
    "* Rewind and explore alternative conversation paths\n",
    "\n",
    "We'll start with a basic chatbot and progressively add more sophisticated capabilities, introducing key LangGraph concepts along the way.\n",
    "\n",
    "빠른 시작¶\n",
    "\n",
    "이 포괄적인 빠른 시작에서 LangGraph에서 다음을 수행할 수 있는 지원 챗봇을 빌드합니다.\n",
    "\n",
    "* 웹 검색을 통해 일반적인 질문에 답변\n",
    "* 통화 전반에 걸쳐 대화 상태 유지\n",
    "* 복잡한 질의를 검토를 위해 사람에게 라우팅\n",
    "* 사용자 지정 상태를 사용하여 동작을 제어\n",
    "* 대체 대화 경로를 되감기고 탐색\n",
    "\n",
    "기본 챗봇으로 시작하여 점진적으로 더 정교한 기능을 추가하고 그 과정에서 핵심 LangGraph 개념을 소개합니다."
   ]
  },
  {
   "cell_type": "markdown",
   "metadata": {},
   "source": [
    "![alt text](다운로드.png)"
   ]
  },
  {
   "cell_type": "code",
   "execution_count": 1,
   "metadata": {},
   "outputs": [
    {
     "data": {
      "text/plain": [
       "True"
      ]
     },
     "execution_count": 1,
     "metadata": {},
     "output_type": "execute_result"
    }
   ],
   "source": [
    "#os_key Setting\n",
    "\n",
    "from dotenv import load_dotenv\n",
    "import os\n",
    "# .env 파일 로드(api key load) \n",
    "#GOOGLE_API_KEY \n",
    "#LANGCHAIN_API_KEY \n",
    "#TAVILY_API_KEY \n",
    "#HUGGINGFACEHUB_API_TOKEN \n",
    "#COHERE_API_KEY \n",
    "\n",
    "load_dotenv()"
   ]
  },
  {
   "cell_type": "code",
   "execution_count": 2,
   "metadata": {},
   "outputs": [],
   "source": [
    "#langsmith Setting\n",
    "os.environ[\"LANGCHAIN_TRACING_V2\"] = \"true\"\n",
    "os.environ[\"LANGCHAIN_ENDPOINT\"] = \"https://api.smith.langchain.com\" \n",
    "os.environ[\"LANGCHAIN_PROJECT\"] = \"langgraph_multi_agent\"            #표시될 PJT명 Setting\n",
    "#os.environ[\"LANGCHAIN_API_KEY\"] = \"lsv2_***\"                        *.env로 setting\n",
    "from langsmith import Client\n",
    "client = Client()"
   ]
  },
  {
   "cell_type": "code",
   "execution_count": 3,
   "metadata": {},
   "outputs": [
    {
     "data": {
      "text/plain": [
       "[{'url': 'https://www.youtube.com/watch?v=mVu6Wj8Z7C0',\n",
       "  'content': 'Jun 19, 2024 ... ... 테디노트의 RAG 비법노트\" 랭체인 강의: https://fastcampus.co.... 랭체인 한국어 튜토리얼(무료 전자책): https://wikidocs.net/b... 테디'},\n",
       " {'url': 'https://github.com/teddylee777/langchain-kr',\n",
       "  'content': 'teddylee777/langchain-kr\\nFolders and files\\nLatest commit\\nHistory\\n01-Basic\\n01-Basic\\n02-Prompt\\n02-Prompt\\n03-OutputParser\\n03-OutputParser\\n04-Model\\n04-Model\\n05-Memory\\n05-Memory\\n06-Chains\\n06-Chains\\n07-RAG\\n07-RAG\\n08-Agent\\n08-Agent\\n09-FastAPI\\n09-FastAPI\\n12-Use-Cases\\n12-Use-Cases\\n99-Projects\\n99-Projects\\nprompts\\nprompts\\n.env_sample\\n.env_sample\\n.gitignore\\n.gitignore\\nREADME.md\\nREADME.md\\nRepository files navigation\\n📘 LangChain 한국어 튜토리얼\\n🌟 LangChain 공식 Document, Cookbook, 그 밖의 실용 예제를 바탕으로 작성한 한국어 튜토리얼입니다.\\n Topics\\nResources\\nStars\\nWatchers\\nForks\\nReleases\\nPackages\\n0\\nLanguages\\nFooter\\nFooter navigation 🍿 유튜브\\n✏️ 블로그 글 목록\\nGeneral\\nOpenAI Python API\\nLangChain\\nLangGraph\\n👥 LangChain 밋업 2024 Q1 발표자료\\n📜 라이선스\\n본 프로젝트는 Apache License 2.0에 따라 라이선스가 부여됩니다.\\n 📚 출처\\n🌐 추가 자료\\n🚀 시작하기\\n본 튜토리얼을 시작하기 전에, LangChain과 관련된 기본적인 지식을 갖추는 것이 좋습니다. Saved searches\\nUse saved searches to filter your results more quickly\\nTo see all available qualifiers, see our documentation.\\n'},\n",
       " {'url': 'https://teddylee777.github.io/langchain/langchain-tutorial-06/',\n",
       "  'content': 'Oct 3, 2023 ... ① 테디노트 유튜브 - 구경하러 가기! ② LangChain 한국어 튜토리얼 바로가기 ③ 랭체인 노트 무료 전자책(wikidocs) 바로가기 ④ RAG 비법'}]"
      ]
     },
     "execution_count": 3,
     "metadata": {},
     "output_type": "execute_result"
    }
   ],
   "source": [
    "from langchain_community.tools.tavily_search import TavilySearchResults\n",
    "\n",
    "# 검색 도구 생성\n",
    "tool = TavilySearchResults(max_results=3) # web 검색기인 TavilySearchResults의 객체 생성(result는 3개 찾게 설정정)\n",
    "\n",
    "# 도구 목록에 추가\n",
    "tools = [tool]\n",
    "\n",
    "# 도구 실행\n",
    "tool.invoke(\"테디노트 랭체인 튜토리얼\")\n"
   ]
  },
  {
   "cell_type": "code",
   "execution_count": 4,
   "metadata": {},
   "outputs": [],
   "source": [
    "from typing import Annotated\n",
    "from typing_extensions import TypedDict\n",
    "from langgraph.graph.message import add_messages\n",
    "\n",
    "\n",
    "# State 정의\n",
    "class State(TypedDict):\n",
    "    # list 타입에 add_messages 함수를 이용해서 적용(list 에 HumanMessage,AIMessage의 list를 message 추가)\n",
    "    messages: Annotated[list, add_messages]\n"
   ]
  },
  {
   "cell_type": "code",
   "execution_count": null,
   "metadata": {},
   "outputs": [],
   "source": []
  },
  {
   "cell_type": "markdown",
   "metadata": {},
   "source": []
  }
 ],
 "metadata": {
  "kernelspec": {
   "display_name": "py31012",
   "language": "python",
   "name": "python3"
  },
  "language_info": {
   "codemirror_mode": {
    "name": "ipython",
    "version": 3
   },
   "file_extension": ".py",
   "mimetype": "text/x-python",
   "name": "python",
   "nbconvert_exporter": "python",
   "pygments_lexer": "ipython3",
   "version": "3.10.12"
  }
 },
 "nbformat": 4,
 "nbformat_minor": 2
}
