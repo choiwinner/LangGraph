{
 "cells": [
  {
   "cell_type": "markdown",
   "metadata": {},
   "source": [
    "참고 자료 1 : https://www.youtube.com/watch?v=o25jAgm63X0"
   ]
  },
  {
   "cell_type": "code",
   "execution_count": 7,
   "metadata": {},
   "outputs": [],
   "source": [
    "from dotenv import load_dotenv\n",
    "import os"
   ]
  },
  {
   "cell_type": "code",
   "execution_count": 8,
   "metadata": {},
   "outputs": [
    {
     "data": {
      "text/plain": [
       "True"
      ]
     },
     "execution_count": 8,
     "metadata": {},
     "output_type": "execute_result"
    }
   ],
   "source": [
    "# .env 파일 로드(api key load)\n",
    "load_dotenv()"
   ]
  },
  {
   "cell_type": "code",
   "execution_count": 9,
   "metadata": {},
   "outputs": [],
   "source": [
    "#langsmith Setting\n",
    "os.environ[\"LANGCHAIN_TRACING_V2\"] = \"true\"\n",
    "os.environ[\"LANGCHAIN_ENDPOINT\"] = \"https://api.smith.langchain.com\" \n",
    "os.environ[\"LANGCHAIN_PROJECT\"] = \"langsmith_basic\"                 #표시될 PJT명 Setting\n",
    "#os.environ[\"LANGCHAIN_API_KEY\"] = \"lsv2_***\"                        *.env로 setting\n",
    "from langsmith import Client\n",
    "client = Client()"
   ]
  },
  {
   "cell_type": "markdown",
   "metadata": {},
   "source": [
    "1. library import 하기"
   ]
  },
  {
   "cell_type": "code",
   "execution_count": 15,
   "metadata": {},
   "outputs": [],
   "source": [
    "from typing_extensions import TypedDict \n",
    "#typing이나 typing_extensions나 동일하게 동작하나 langgraph 공식 문서에서는 typing_extensions에서 갖고 온다\n",
    "from typing import Annotated\n",
    "\n",
    "from langgraph.graph import StateGraph, START, END\n",
    "import operator\n"
   ]
  },
  {
   "cell_type": "markdown",
   "metadata": {},
   "source": [
    "2. StateGpraph로 State 만들기\n",
    "- node간 전달할 때 전달되는 인자들 선언하기"
   ]
  },
  {
   "cell_type": "code",
   "execution_count": 16,
   "metadata": {},
   "outputs": [],
   "source": [
    "class State(TypedDict):       #State에 TypeDict 상속해서 사용\n",
    "    counter: int              #counter 인자는 int 속성\n",
    "    alphabet: list[str]       #alphabet 인자는 list 속성이면서 그 안의 인자는 str\n",
    "\n",
    "graph_builder = StateGraph(State) #StateGraph 객체 선언하기"
   ]
  },
  {
   "cell_type": "markdown",
   "metadata": {},
   "source": [
    "3. node 함수 만들기\n",
    "- state값을 입력받고 return값을 지정하기 된다."
   ]
  },
  {
   "cell_type": "code",
   "execution_count": 18,
   "metadata": {},
   "outputs": [],
   "source": [
    "def node_a(state: State):      #state로 State의 객체를 선언한다.\n",
    "    state['counter'] += 1          #counter에 1을 더한다.\n",
    "    state['alphabet'] = ['Hello']  #alphabet에 Hello로 지정한다.\n",
    "    return state"
   ]
  },
  {
   "cell_type": "markdown",
   "metadata": {},
   "source": [
    "4. langgaph에 node 및 edge 설정하기"
   ]
  },
  {
   "cell_type": "code",
   "execution_count": 20,
   "metadata": {},
   "outputs": [
    {
     "data": {
      "text/plain": [
       "<langgraph.graph.state.StateGraph at 0x248f7f580d0>"
      ]
     },
     "execution_count": 20,
     "metadata": {},
     "output_type": "execute_result"
    }
   ],
   "source": [
    "graph_builder.add_node('chatbot', node_a) # chatbot이름의 노드를 만들고 노드 함수는 node_a 사용\n",
    "\n",
    "graph_builder.add_edge(START,'chatbot')  # START -> chatbot edge 만들기\n",
    "graph_builder.add_edge('chatbot',END)    # chatbot -> END edge 만들기"
   ]
  },
  {
   "cell_type": "markdown",
   "metadata": {},
   "source": [
    "5. langgraph를 컴파일하기"
   ]
  },
  {
   "cell_type": "code",
   "execution_count": 21,
   "metadata": {},
   "outputs": [],
   "source": [
    "graph = graph_builder.compile()          #"
   ]
  },
  {
   "cell_type": "markdown",
   "metadata": {},
   "source": [
    "6. langhgraph 시각화로 확인하기"
   ]
  },
  {
   "cell_type": "code",
   "execution_count": 22,
   "metadata": {},
   "outputs": [
    {
     "data": {
      "image/png": "[encoded data removed]",
      "text/plain": [
       "<IPython.core.display.Image object>"
      ]
     },
     "metadata": {},
     "output_type": "display_data"
    }
   ],
   "source": [
    "from IPython.display import Image, display\n",
    "\n",
    "try:\n",
    "    display(Image(graph.get_graph().draw_mermaid_png()))\n",
    "except Exception:\n",
    "    print('langgraph가 만들어지지 않았습니다.')\n",
    "    pass"
   ]
  },
  {
   "cell_type": "markdown",
   "metadata": {},
   "source": [
    "7. 초기값 설정 후 실행하기"
   ]
  },
  {
   "cell_type": "code",
   "execution_count": 24,
   "metadata": {},
   "outputs": [],
   "source": [
    "# 초기 상태 정의\n",
    "intial_state = {\n",
    "    'counter' : 0,\n",
    "    'alphabet' : ['a']\n",
    "}"
   ]
  },
  {
   "cell_type": "code",
   "execution_count": null,
   "metadata": {},
   "outputs": [
    {
     "name": "stdout",
     "output_type": "stream",
     "text": [
      "{'counter': 1, 'alphabet': ['Hello']}\n",
      "{'counter': 2, 'alphabet': ['Hello']}\n",
      "{'counter': 3, 'alphabet': ['Hello']}\n"
     ]
    }
   ],
   "source": [
    "state_act = intial_state\n",
    "for _ in range(3):                       #3회 실시하기\n",
    "    state_act = graph.invoke(state_act)\n",
    "    print(state_act)\n"
   ]
  },
  {
   "cell_type": "markdown",
   "metadata": {},
   "source": [
    "### Annotate를 이용해서 list 내용 계속 추가하기"
   ]
  },
  {
   "cell_type": "code",
   "execution_count": 70,
   "metadata": {},
   "outputs": [],
   "source": [
    "class State2(TypedDict):       #State에 TypeDict 상속해서 사용\n",
    "    counter: int              #counter 인자는 int 속성\n",
    "    alphabet: Annotated[list[str], operator.add] #Annotated + operator.add로 list 추가하기\n",
    "\n",
    "graph_builder2 = StateGraph(State2) #StateGraph 객체 선언하기"
   ]
  },
  {
   "cell_type": "code",
   "execution_count": 71,
   "metadata": {},
   "outputs": [],
   "source": [
    "def node_a2(state: State2):      #state로 State의 객체를 선언한다.\n",
    "    state['counter'] += 1          #counter에 1을 더한다.\n",
    "    state['alphabet'] = ['Hello']  #alphabet에 Hello로 지정한다.\n",
    "    return state"
   ]
  },
  {
   "cell_type": "code",
   "execution_count": 72,
   "metadata": {},
   "outputs": [
    {
     "data": {
      "text/plain": [
       "<langgraph.graph.state.StateGraph at 0x248f67c6440>"
      ]
     },
     "execution_count": 72,
     "metadata": {},
     "output_type": "execute_result"
    }
   ],
   "source": [
    "graph_builder2.add_node('chatbot', node_a2) # chatbot이름의 노드를 만들고 노드 함수는 node_a 사용\n",
    "\n",
    "graph_builder2.add_edge(START,'chatbot')  # START -> chatbot edge 만들기\n",
    "graph_builder2.add_edge('chatbot',END)    # chatbot -> END edge 만들기"
   ]
  },
  {
   "cell_type": "code",
   "execution_count": 73,
   "metadata": {},
   "outputs": [],
   "source": [
    "graph2 = graph_builder2.compile()   "
   ]
  },
  {
   "cell_type": "code",
   "execution_count": 74,
   "metadata": {},
   "outputs": [],
   "source": [
    "# 초기 상태 정의\n",
    "intial_state = {\n",
    "    'counter' : 0,\n",
    "    'alphabet' : ['a']\n",
    "}"
   ]
  },
  {
   "cell_type": "code",
   "execution_count": 75,
   "metadata": {},
   "outputs": [
    {
     "name": "stdout",
     "output_type": "stream",
     "text": [
      "{'counter': 1, 'alphabet': ['a', 'Hello']}\n",
      "{'counter': 2, 'alphabet': ['a', 'Hello', 'Hello']}\n",
      "{'counter': 3, 'alphabet': ['a', 'Hello', 'Hello', 'Hello']}\n"
     ]
    }
   ],
   "source": [
    "state_act2 = intial_state\n",
    "for _ in range(3):                       #3회 실시하기\n",
    "    state_act2 = graph2.invoke(state_act2)\n",
    "    print(state_act2)"
   ]
  },
  {
   "cell_type": "markdown",
   "metadata": {},
   "source": [
    "### Message를 담은 StateGraph 만들기"
   ]
  },
  {
   "cell_type": "code",
   "execution_count": 6,
   "metadata": {},
   "outputs": [],
   "source": [
    "from typing_extensions import TypedDict \n",
    "#typing이나 typing_extensions나 동일하게 동작하나 langgraph 공식 문서에서는 typing_extensions에서 갖고 온다\n",
    "from typing import Annotated\n",
    "\n",
    "from langgraph.graph import StateGraph, START, END\n",
    "from langgraph.graph.message import add_messages\n",
    "import operator\n",
    "\n",
    "from langchain_google_genai import ChatGoogleGenerativeAI\n",
    "\n",
    "from dotenv import load_dotenv\n",
    "import os"
   ]
  },
  {
   "cell_type": "code",
   "execution_count": 2,
   "metadata": {},
   "outputs": [
    {
     "data": {
      "text/plain": [
       "True"
      ]
     },
     "execution_count": 2,
     "metadata": {},
     "output_type": "execute_result"
    }
   ],
   "source": [
    "# .env 파일 로드(api key load)\n",
    "load_dotenv()"
   ]
  },
  {
   "cell_type": "code",
   "execution_count": 28,
   "metadata": {},
   "outputs": [],
   "source": [
    "#langsmith Setting\n",
    "os.environ[\"LANGCHAIN_TRACING_V2\"] = \"true\"\n",
    "os.environ[\"LANGCHAIN_ENDPOINT\"] = \"https://api.smith.langchain.com\" \n",
    "os.environ[\"LANGCHAIN_PROJECT\"] = \"langsmith_basic\"                 #표시될 PJT명 Setting\n",
    "#os.environ[\"LANGCHAIN_API_KEY\"] = \"lsv2_***\"                        *.env로 setting\n",
    "from langsmith import Client\n",
    "client = Client()"
   ]
  },
  {
   "cell_type": "code",
   "execution_count": 27,
   "metadata": {},
   "outputs": [],
   "source": [
    "class State3(TypedDict):\n",
    "    messages : Annotated[list,add_messages] #add_messages의 메타 data를 갖는 list 형태의 message dict 만들기\n",
    "\n",
    "graph_builder3 = StateGraph(State3)"
   ]
  },
  {
   "cell_type": "code",
   "execution_count": 29,
   "metadata": {},
   "outputs": [],
   "source": [
    "llm = ChatGoogleGenerativeAI(model='gemini-1.5-pro', temperature= 0)"
   ]
  },
  {
   "cell_type": "code",
   "execution_count": 30,
   "metadata": {},
   "outputs": [],
   "source": [
    "def chatbot(state: State3):                             #State3(typedict)를 입력받아 내부 변수인 state로 만든다.\n",
    "    return {\"messages\" : llm.invoke(state['messages'])} #state(typedict)의 'messages' key값을 llm에 invoke한다."
   ]
  },
  {
   "cell_type": "code",
   "execution_count": 31,
   "metadata": {},
   "outputs": [
    {
     "data": {
      "text/plain": [
       "<langgraph.graph.state.StateGraph at 0x18b284ff1f0>"
      ]
     },
     "execution_count": 31,
     "metadata": {},
     "output_type": "execute_result"
    }
   ],
   "source": [
    "graph_builder3.add_node('chatbot_new', chatbot) # chatbot_new 이름의 노드를 만들고 노드 함수는 chatbot 사용\n",
    "\n",
    "graph_builder3.set_entry_point('chatbot_new') #graph에서 start지점 설정하기\n",
    "graph_builder3.set_finish_point('chatbot_new') #graph에서 finish지점 설정하기기"
   ]
  },
  {
   "cell_type": "code",
   "execution_count": 32,
   "metadata": {},
   "outputs": [],
   "source": [
    "graph3 = graph_builder3.compile() #graph3로 compilie하기"
   ]
  },
  {
   "cell_type": "code",
   "execution_count": 33,
   "metadata": {},
   "outputs": [
    {
     "data": {
      "image/png": "[encoded data removed]",
      "text/plain": [
       "<IPython.core.display.Image object>"
      ]
     },
     "metadata": {},
     "output_type": "display_data"
    }
   ],
   "source": [
    "from IPython.display import Image, display\n",
    "\n",
    "try:\n",
    "    display(Image(graph3.get_graph().draw_mermaid_png()))\n",
    "except Exception:\n",
    "    print('langgraph가 만들어지지 않았습니다.')\n",
    "    pass"
   ]
  },
  {
   "cell_type": "code",
   "execution_count": 48,
   "metadata": {},
   "outputs": [
    {
     "name": "stdout",
     "output_type": "stream",
     "text": [
      "안녕하세요! 무엇을 도와드릴까요?\n",
      "\n",
      "저는 Google에서 훈련한 대규모 언어 모델입니다.\n",
      "Gemini API는 Google에서 개발한 대규모 언어 모델(LLM)에 접근할 수 있는 인터페이스입니다. 텍스트 생성, 번역, 다양한 종류의 창의적인 콘텐츠 작성, 정보 제공 방식으로 질문에 답변하는 등 다양한 작업을 수행할 수 있습니다.  다음은 Gemini API의 주요 특징과 기능에 대한 설명입니다.\n",
      "\n",
      "**주요 기능:**\n",
      "\n",
      "* **텍스트 생성:** 이야기, 기사, 요약, 이메일 등 다양한 형태의 텍스트를 생성할 수 있습니다. 창의적인 글쓰기, 코드 생성, 번역, 비즈니스 문서 작성 등 다양한 용도로 활용 가능합니다.\n",
      "* **코드 생성 및 편집:**  Gemini API는 Python, Java, Javascript, C++ 등 다양한 프로그래밍 언어로 코드를 생성하고 편집할 수 있습니다.  주어진 요구사항에 맞는 코드를 생성하거나, 기존 코드를 디버깅하고 최적화하는 데 도움을 줄 수 있습니다.\n",
      "* **다양한 자연어 작업:** 텍스트 분류, 감정 분석, 개체명 인식, 질의응답 등 다양한 자연어 처리 작업을 수행할 수 있습니다.\n",
      "* **다국어 지원:** 다양한 언어를 이해하고 생성할 수 있어, 번역 및 다국어 콘텐츠 생성에 유용합니다.\n",
      "* **미세 조정 (Fine-tuning):** 특정 작업이나 도메인에 맞게 모델을 미세 조정하여 성능을 향상시킬 수 있습니다.  자체 데이터를 사용하여 모델을 학습시켜 특정 요구사항에 맞는 결과를 얻을 수 있습니다.\n",
      "* **다양한 모델 크기:**  다양한 크기의 모델을 제공하여 필요에 따라 성능과 효율성을 선택할 수 있습니다.  작은 모델은 빠른 응답 시간이 필요한 작업에 적합하며, 큰 모델은 더 복잡하고 정확한 결과가 필요한 작업에 적합합니다.\n",
      "\n",
      "\n",
      "**Gemini API 사용 방법:**\n",
      "\n",
      "Gemini API는 REST API 형태로 제공되며, 다양한 프로그래밍 언어에서 사용할 수 있습니다.  Google Cloud Platform 콘솔에서 API 키를 생성하고, API 문서에 따라 요청을 전송하여 사용할 수 있습니다.  Google은 다양한 클라이언트 라이브러리와 예제 코드를 제공하여 개발을 지원합니다.\n",
      "\n",
      "**Gemini API의 장점:**\n",
      "\n",
      "* **강력한 성능:** Google의 대규모 언어 모델을 기반으로 하여 높은 수준의 성능을 제공합니다.\n",
      "* **다양한 기능:** 텍스트 생성, 코드 생성, 번역 등 다양한 작업을 수행할 수 있습니다.\n",
      "* **확장성:** Google Cloud Platform의 인프라를 활용하여 높은 확장성을 제공합니다.\n",
      "* **쉬운 사용:** REST API와 다양한 클라이언트 라이브러리를 통해 쉽게 사용할 수 있습니다.\n",
      "\n",
      "\n",
      "**Gemini API 활용 예시:**\n",
      "\n",
      "* **챗봇 개발:** 자연스러운 대화를 생성하고 질문에 답변하는 챗봇을 개발할 수 있습니다.\n",
      "* **콘텐츠 생성:** 기사, 블로그 게시물, 마케팅 자료 등 다양한 콘텐츠를 자동으로 생성할 수 있습니다.\n",
      "* **코드 생성 및 디버깅:**  코드를 자동으로 생성하고, 오류를 찾아 수정하는 데 도움을 받을 수 있습니다.\n",
      "* **번역:** 다양한 언어로 텍스트를 번역할 수 있습니다.\n",
      "* **데이터 분석:** 텍스트 데이터를 분석하여 유용한 정보를 추출할 수 있습니다.\n",
      "\n",
      "\n",
      "Gemini API는 강력하고 다재다능한 도구로, 다양한 애플리케이션에 활용될 수 있습니다.  자세한 내용은 Google Cloud Platform의 공식 문서를 참조하십시오.\n",
      "\n",
      "Good bye\n"
     ]
    }
   ],
   "source": [
    "while True:\n",
    "    user_input = input(\"User: \")\n",
    "    if user_input.lower() in ['quit','exit','q']:\n",
    "        print('Good bye')\n",
    "        break\n",
    "    else:\n",
    "        for event in graph3.stream({'messages': ('user',user_input)}):\n",
    "            print(event['chatbot_new']['messages'].content)"
   ]
  },
  {
   "cell_type": "code",
   "execution_count": 49,
   "metadata": {},
   "outputs": [
    {
     "name": "stdout",
     "output_type": "stream",
     "text": [
      "User Message : 안녕\n",
      "Assistant : 안녕하세요! 무엇을 도와드릴까요?\n",
      "\n",
      "User Message : 안녕\n",
      "Assistant : 안녕하세요! 무엇을 도와드릴까요?\n",
      "\n",
      "User Message : gemini api 사용방법에 대해서 설명해 줘\n",
      "Assistant : Gemini API 사용 방법에 대해 설명드리겠습니다. Gemini API는 Google에서 개발한 대규모 언어 모델입니다. 이 API를 사용하면 텍스트 생성, 번역, 다양한 종류의 창의적인 콘텐츠 작성, 정보 질문에 대한 포괄적이고 유익한 답변을 얻을 수 있습니다.\n",
      "\n",
      "**1. Google Cloud 프로젝트 설정 및 API 활성화:**\n",
      "\n",
      "* Google Cloud Platform(GCP) 계정이 없다면 생성합니다. (https://cloud.google.com/)\n",
      "* GCP 콘솔에서 새 프로젝트를 만들거나 기존 프로젝트를 사용합니다.\n",
      "* 프로젝트에서 Gemini API를 활성화합니다.  GCP 콘솔의 검색창에서 \"Vertex AI API\"를 검색하고 활성화합니다. Gemini API는 Vertex AI의 일부입니다.\n",
      "* 필요한 경우 결제 정보를 설정합니다. Gemini API 사용량에 따라 요금이 부과될 수 있습니다.\n",
      "\n",
      "**2. API 키 생성:**\n",
      "\n",
      "* GCP 콘솔에서 \"API 및 서비스\" > \"사용자 인증 정보\"로 이동합니다.\n",
      "* \"사용자 인증 정보 만들기\"를 클릭하고 \"API 키\"를 선택합니다.\n",
      "* 생성된 API 키를 안전하게 저장합니다.  이 키는 API에 접근하는 데 필요한 중요한 정보입니다.\n",
      "\n",
      "**3. 클라이언트 라이브러리 설치 (선택적, 권장):**\n",
      "\n",
      "* Google에서 제공하는 Python 클라이언트 라이브러리를 사용하면 API 호출을 더 쉽게 할 수 있습니다.\n",
      "* `pip install google-cloud-aiplatform` 명령어를 사용하여 라이브러리를 설치합니다.  다른 언어에 대한 라이브러리도 제공됩니다.\n",
      "\n",
      "**4. API 호출:**\n",
      "\n",
      "API를 호출하는 방법은 두 가지가 있습니다:\n",
      "\n",
      "* **REST API:**  HTTP 요청을 직접 사용하여 API를 호출할 수 있습니다.  API 키는 `Authorization` 헤더에 포함되어야 합니다.  자세한 내용은 Gemini API 문서의 REST API 섹션을 참조하세요.\n",
      "\n",
      "* **클라이언트 라이브러리:**  Python 클라이언트 라이브러리를 사용하는 예시입니다.\n",
      "\n",
      "```python\n",
      "from google.cloud import aiplatform\n",
      "\n",
      "# 프로젝트 ID 설정\n",
      "aiplatform.init(project=\"your-project-id\")\n",
      "\n",
      "# 모델 선택 (예: text-bison@001)\n",
      "model = aiplatform.Model(\"models/text-bison-001\")\n",
      "\n",
      "# 프롬프트 설정\n",
      "prompt = \"한국어로 자기소개를 해줘.\"\n",
      "\n",
      "# API 호출\n",
      "response = model.predict(prompt=prompt)\n",
      "\n",
      "# 결과 출력\n",
      "print(response.predictions[0].content)\n",
      "```\n",
      "\n",
      "**5. 파라미터 설정:**\n",
      "\n",
      "API 호출 시 다양한 파라미터를 설정하여 결과를 조정할 수 있습니다.  예를 들어 `temperature` 파라미터는 생성되는 텍스트의 창의성을 조절하고, `max_output_tokens` 파라미터는 생성되는 텍스트의 최대 길이를 제한합니다.  자세한 내용은 Gemini API 문서를 참조하세요.\n",
      "\n",
      "\n",
      "**핵심 요약:**\n",
      "\n",
      "* Google Cloud 프로젝트 설정 및 API 활성화\n",
      "* API 키 생성 및 안전하게 보관\n",
      "* 클라이언트 라이브러리 설치 (권장)\n",
      "* REST API 또는 클라이언트 라이브러리를 사용하여 API 호출\n",
      "* 파라미터 설정을 통해 결과 조정\n",
      "\n",
      "**추가 정보:**\n",
      "\n",
      "* **Gemini API 공식 문서:**  가장 정확하고 최신 정보를 얻을 수 있는 곳입니다.  모델 선택, 파라미터 설정 등에 대한 자세한 설명을 제공합니다.\n",
      "* **Google Cloud Platform 콘솔:**  API 활성화, 키 생성, 사용량 확인 등을 할 수 있습니다.\n",
      "\n",
      "Gemini API를 사용하여 다양한 작업을 수행할 수 있습니다.  문서와 예제 코드를 참고하여 원하는 기능을 구현해 보세요.  궁금한 점이 있다면 다시 질문해주세요.\n",
      "\n",
      "Good bye\n"
     ]
    }
   ],
   "source": [
    "while True:\n",
    "    user_input = input(\"User: \")\n",
    "    if user_input.lower() in ['quit','exit','q']:\n",
    "        print('Good bye')\n",
    "        break\n",
    "    else:\n",
    "        for event in graph3.stream({'messages': ('user',user_input)}):\n",
    "            print(f\"User Message : {user_input}\")\n",
    "            print(f\"Assistant : {event['chatbot_new']['messages'].content}\")"
   ]
  },
  {
   "cell_type": "markdown",
   "metadata": {},
   "source": [
    "### MessageState 활용하기"
   ]
  },
  {
   "cell_type": "code",
   "execution_count": 50,
   "metadata": {},
   "outputs": [],
   "source": [
    "from typing_extensions import TypedDict \n",
    "#typing이나 typing_extensions나 동일하게 동작하나 langgraph 공식 문서에서는 typing_extensions에서 갖고 온다\n",
    "from typing import Annotated\n",
    "\n",
    "from langgraph.graph import StateGraph, START, END, MessagesState\n",
    "from langgraph.graph.message import add_messages\n",
    "import operator\n",
    "\n",
    "from langchain_google_genai import ChatGoogleGenerativeAI\n",
    "\n",
    "from dotenv import load_dotenv\n",
    "import os"
   ]
  },
  {
   "cell_type": "code",
   "execution_count": 51,
   "metadata": {},
   "outputs": [
    {
     "data": {
      "text/plain": [
       "True"
      ]
     },
     "execution_count": 51,
     "metadata": {},
     "output_type": "execute_result"
    }
   ],
   "source": [
    "# .env 파일 로드(api key load)\n",
    "load_dotenv()"
   ]
  },
  {
   "cell_type": "code",
   "execution_count": 52,
   "metadata": {},
   "outputs": [],
   "source": [
    "#langsmith Setting\n",
    "os.environ[\"LANGCHAIN_TRACING_V2\"] = \"true\"\n",
    "os.environ[\"LANGCHAIN_ENDPOINT\"] = \"https://api.smith.langchain.com\" \n",
    "os.environ[\"LANGCHAIN_PROJECT\"] = \"langsmith_basic\"                 #표시될 PJT명 Setting\n",
    "#os.environ[\"LANGCHAIN_API_KEY\"] = \"lsv2_***\"                        *.env로 setting\n",
    "from langsmith import Client\n",
    "client = Client()"
   ]
  },
  {
   "cell_type": "code",
   "execution_count": 53,
   "metadata": {},
   "outputs": [],
   "source": [
    "#add_messages의 메타 data를 갖는 list 형태의 message dict인 State를 MessagesState로 정의된 lib 사용\n",
    "\n",
    "graph_builder4 = StateGraph(MessagesState)"
   ]
  },
  {
   "cell_type": "code",
   "execution_count": 54,
   "metadata": {},
   "outputs": [],
   "source": [
    "llm = ChatGoogleGenerativeAI(model='gemini-1.5-pro', temperature= 0)"
   ]
  },
  {
   "cell_type": "code",
   "execution_count": 56,
   "metadata": {},
   "outputs": [],
   "source": [
    "def chatbot4(state: MessagesState):                             #State3(typedict)를 입력받아 내부 변수인 state로 만든다.\n",
    "    return {\"messages\" : llm.invoke(state['messages'])} #state(typedict)의 'messages' key값을 llm에 invoke한다."
   ]
  },
  {
   "cell_type": "code",
   "execution_count": 57,
   "metadata": {},
   "outputs": [
    {
     "data": {
      "text/plain": [
       "<langgraph.graph.state.StateGraph at 0x18b287e1630>"
      ]
     },
     "execution_count": 57,
     "metadata": {},
     "output_type": "execute_result"
    }
   ],
   "source": [
    "graph_builder4.add_node('chatbot_new4', chatbot4) # chatbot_new 이름의 노드를 만들고 노드 함수는 chatbot 사용\n",
    "\n",
    "graph_builder4.set_entry_point('chatbot_new4') #graph에서 start지점 설정하기\n",
    "graph_builder4.set_finish_point('chatbot_new4') #graph에서 finish지점 설정하기기"
   ]
  },
  {
   "cell_type": "code",
   "execution_count": 59,
   "metadata": {},
   "outputs": [],
   "source": [
    "graph4 = graph_builder4.compile() #graph4로 compilie하기"
   ]
  },
  {
   "cell_type": "code",
   "execution_count": 60,
   "metadata": {},
   "outputs": [
    {
     "data": {
      "image/png": "[encoded data removed]",
      "text/plain": [
       "<IPython.core.display.Image object>"
      ]
     },
     "metadata": {},
     "output_type": "display_data"
    }
   ],
   "source": [
    "from IPython.display import Image, display\n",
    "\n",
    "try:\n",
    "    display(Image(graph4.get_graph().draw_mermaid_png()))\n",
    "except Exception:\n",
    "    print('langgraph가 만들어지지 않았습니다.')\n",
    "    pass"
   ]
  },
  {
   "cell_type": "code",
   "execution_count": 62,
   "metadata": {},
   "outputs": [
    {
     "name": "stdout",
     "output_type": "stream",
     "text": [
      "안녕하세요! 무엇을 도와드릴까요?\n",
      "\n",
      "저는 Google에서 훈련한 대규모 언어 모델입니다.\n",
      "RTX 4090은 현재 소비자용 그래픽 카드 중 최상위 모델 중 하나로, 압도적인 성능을 자랑합니다. 주요 특징과 성능은 다음과 같습니다:\n",
      "\n",
      "**주요 특징:**\n",
      "\n",
      "* **아키텍처:** NVIDIA Ada Lovelace\n",
      "* **CUDA 코어:** 16,384개\n",
      "* **부스트 클럭:** 2.52 GHz\n",
      "* **메모리:** 24GB GDDR6X\n",
      "* **메모리 인터페이스:** 384-bit\n",
      "* **TDP:** 450W\n",
      "\n",
      "**성능:**\n",
      "\n",
      "* **4K 게이밍:** 대부분의 게임에서 4K 해상도와 최고 옵션 설정으로 60fps 이상을 안정적으로 유지할 수 있습니다. 레이 트레이싱 및 DLSS 3와 같은 고급 기술을 활성화해도 높은 프레임률을 제공합니다.  특히 DLSS 3는 프레임 생성 기술을 통해 이전 세대 대비 2~4배의 성능 향상을 보여줍니다.\n",
      "* **8K 게이밍:** DLSS 3와 같은 업스케일링 기술을 활용하면 8K 해상도에서도 플레이 가능한 수준의 성능을 제공합니다. 하지만 네이티브 8K 게이밍은 아직 완벽하게 지원되지 않습니다.\n",
      "* **VR:** 최고 수준의 VR 경험을 제공합니다. 높은 해상도와 부드러운 프레임률로 몰입감 있는 VR 게임을 즐길 수 있습니다.\n",
      "* **콘텐츠 제작:** 3D 모델링, 비디오 편집, 그래픽 디자인 등 콘텐츠 제작 작업에서도 뛰어난 성능을 발휘합니다. 복잡한 작업을 빠르게 처리하고 렌더링 시간을 단축시켜 생산성을 향상시킵니다.\n",
      "* **레이 트레이싱:** 2세대 RT 코어를 탑재하여 더욱 사실적인 레이 트레이싱 효과를 제공합니다. 이전 세대보다 향상된 성능으로 더욱 몰입감 있는 게임 경험을 제공합니다.\n",
      "* **DLSS 3:** 새로운 프레임 생성 기술을 통해 프레임률을 크게 향상시킵니다. 이 기술은 게임의 성능을 획기적으로 개선하여 더욱 부드럽고 쾌적한 게임 플레이를 가능하게 합니다.\n",
      "\n",
      "**장점:**\n",
      "\n",
      "* 최상급 게이밍 성능\n",
      "* 뛰어난 레이 트레이싱 성능\n",
      "* DLSS 3 지원\n",
      "* 콘텐츠 제작에 적합\n",
      "\n",
      "**단점:**\n",
      "\n",
      "* 높은 가격\n",
      "* 높은 전력 소모\n",
      "* 큰 크기\n",
      "\n",
      "\n",
      "RTX 4090은 최고의 성능을 원하는 게이머와 콘텐츠 제작자에게 최고의 선택이지만, 높은 가격과 전력 소모를 고려해야 합니다.  자신의 예산과 시스템 구성에 맞춰 신중하게 선택하는 것이 중요합니다.\n",
      "\n",
      "Good bye\n"
     ]
    }
   ],
   "source": [
    "while True:\n",
    "    user_input = input(\"User: \")\n",
    "    if user_input.lower() in ['quit','exit','q']:\n",
    "        print('Good bye')\n",
    "        break\n",
    "    else:\n",
    "        for event in graph4.stream({'messages': ('user',user_input)}):\n",
    "            print(event['chatbot_new4']['messages'].content)"
   ]
  },
  {
   "cell_type": "code",
   "execution_count": 64,
   "metadata": {},
   "outputs": [
    {
     "name": "stdout",
     "output_type": "stream",
     "text": [
      "User Message : rtx4050과 rtx4060의 게이밍 성능을 비교해 줘\n",
      "Assistant : RTX 4050과 RTX 4060의 게이밍 성능 차이는 눈에 띄는 수준입니다. RTX 4060이 거의 모든 면에서 RTX 4050보다 우수한 성능을 보여줍니다.  평균적으로 RTX 4060은 RTX 4050보다 **20~30% 정도 더 빠른** 성능을 제공합니다.\n",
      "\n",
      "다음은 두 그래픽 카드의 주요 성능 차이점을 요약한 것입니다.\n",
      "\n",
      "* **해상도 및 프레임률:** 1080p 해상도에서 RTX 4060은 대부분의 최신 게임을 높은 설정에서 60fps 이상으로 플레이할 수 있습니다. RTX 4050은 중간 설정에서 60fps을 목표로 해야 하며, 일부 고사양 게임에서는 설정을 낮춰야 원활한 플레이가 가능합니다. 1440p 해상도에서는 RTX 4060도 설정 타협이 필요하지만, RTX 4050은 원활한 게임 플레이가 어려울 수 있습니다.\n",
      "\n",
      "* **VRAM:** RTX 4060은 8GB의 VRAM을 탑재하고 있는 반면, RTX 4050은 6GB입니다.  최신 게임들은 점점 더 많은 VRAM을 요구하고 있기 때문에, 8GB VRAM은 미래를 위한 더 나은 투자라고 할 수 있습니다. 특히 고해상도 텍스처를 사용하거나, 고해상도에서 게임을 플레이할 경우 VRAM 용량의 차이는 더욱 두드러집니다.\n",
      "\n",
      "* **레이 트레이싱 및 DLSS:** 두 카드 모두 레이 트레이싱과 DLSS 3를 지원하지만, 더 높은 성능의 RTX 4060이 레이 트레이싱 효과를 활성화한 상태에서도 더 높은 프레임률을 제공합니다.\n",
      "\n",
      "* **전력 소비:** RTX 4060의 전력 소비량이 RTX 4050보다 약간 높지만, 성능 향상폭을 고려하면 효율적인 편입니다.\n",
      "\n",
      "**결론적으로:**\n",
      "\n",
      "* **예산이 한정되어 있고 1080p 해상도에서 중간 설정으로 게임을 플레이하는 데 만족한다면 RTX 4050을 고려할 수 있습니다.** 하지만 최신 게임을 즐기기 위해서는 설정 타협이 필요할 수 있으며, 향후 게임들의 요구 사양을 고려하면  업그레이드 시기가 빨라질 수 있습니다.\n",
      "\n",
      "* **더 나은 게이밍 경험과 미래를 위한 투자를 원한다면 RTX 4060이 더 나은 선택입니다.** 더 높은 해상도, 더 높은 프레임률, 더 나은 레이 트레이싱 성능, 그리고 더 큰 VRAM 용량을 제공하여 더 오랫동안 만족스러운 게이밍 경험을 제공할 것입니다.\n",
      "\n",
      "\n",
      "벤치마크 비교 사이트나 유튜브 영상을 참고하여 실제 게임 플레이 영상을 확인하는 것을 추천합니다.  자신이 주로 플레이하는 게임의 벤치마크를 확인하면  두 그래픽 카드의 성능 차이를 더욱 명확하게 파악할 수 있습니다.\n",
      "\n",
      "User Message : 가장 빠른 그래픽 카드 이름과 성능을 설명해 줘\n",
      "Assistant :  현재 가장 빠른 그래픽 카드는 NVIDIA GeForce RTX 4090입니다. 이 카드는 Ada Lovelace 아키텍처를 기반으로 하며, 16,384개의 CUDA 코어, 24GB의 GDDR6X 메모리, 384비트 메모리 버스를 갖추고 있습니다. RTX 4090은 이전 세대의 플래그십 카드인 RTX 3090 Ti보다 최대 2배 빠른 성능을 제공합니다.\n",
      "\n",
      "RTX 4090은 4K 해상도에서 초당 60프레임 이상의 속도로 대부분의 게임을 실행할 수 있습니다. 또한 레이 트레이싱 및 DLSS와 같은 고급 그래픽 기능을 지원합니다. RTX 4090은 게임뿐만 아니라 콘텐츠 제작, 인공 지능, 과학 컴퓨팅과 같은 다양한 분야에서도 사용할 수 있습니다.\n",
      "\n",
      "RTX 4090의 성능은 다음과 같은 벤치마크에서 확인할 수 있습니다.\n",
      "\n",
      "* 3DMark Time Spy Extreme: 28,000점 이상\n",
      "* 3DMark Port Royal: 20,000점 이상\n",
      "* Shadow of the Tomb Raider: 4K 해상도, 최고 설정에서 초당 120프레임 이상\n",
      "* Cyberpunk 2077: 4K 해상도, 레이 트레이싱 및 DLSS 활성화 시 초당 60프레임 이상\n",
      "\n",
      "RTX 4090은 매우 강력한 그래픽 카드이지만 가격도 매우 비쌉니다. 현재 RTX 4090의 가격은 약 200만원입니다. 따라서 RTX 4090은 최고의 성능을 원하는 게이머나 전문가에게 적합한 카드입니다.\n",
      "\n",
      "Good bye\n"
     ]
    }
   ],
   "source": [
    "while True:\n",
    "    user_input = input(\"User: \")\n",
    "    if user_input.lower() in ['quit','exit','q']:\n",
    "        print('Good bye')\n",
    "        break\n",
    "    else:\n",
    "        for event in graph4.stream({'messages': ('user',user_input)}):\n",
    "            print(f\"User Message : {user_input}\")\n",
    "            print(f\"Assistant : {event['chatbot_new4']['messages'].content}\")"
   ]
  },
  {
   "cell_type": "markdown",
   "metadata": {},
   "source": [
    "### MessageState를 상속받아 state 만들기"
   ]
  },
  {
   "cell_type": "code",
   "execution_count": 65,
   "metadata": {},
   "outputs": [],
   "source": [
    "from typing_extensions import TypedDict \n",
    "#typing이나 typing_extensions나 동일하게 동작하나 langgraph 공식 문서에서는 typing_extensions에서 갖고 온다\n",
    "from typing import Annotated\n",
    "\n",
    "from langgraph.graph import StateGraph, START, END, MessagesState\n",
    "from langgraph.graph.message import add_messages\n",
    "import operator\n",
    "\n",
    "from langchain_google_genai import ChatGoogleGenerativeAI\n",
    "\n",
    "from dotenv import load_dotenv\n",
    "import os"
   ]
  },
  {
   "cell_type": "code",
   "execution_count": 67,
   "metadata": {},
   "outputs": [
    {
     "data": {
      "text/plain": [
       "True"
      ]
     },
     "execution_count": 67,
     "metadata": {},
     "output_type": "execute_result"
    }
   ],
   "source": [
    "# .env 파일 로드(api key load)\n",
    "load_dotenv()"
   ]
  },
  {
   "cell_type": "code",
   "execution_count": 68,
   "metadata": {},
   "outputs": [],
   "source": [
    "#langsmith Setting\n",
    "os.environ[\"LANGCHAIN_TRACING_V2\"] = \"true\"\n",
    "os.environ[\"LANGCHAIN_ENDPOINT\"] = \"https://api.smith.langchain.com\" \n",
    "os.environ[\"LANGCHAIN_PROJECT\"] = \"langsmith_basic\"                 #표시될 PJT명 Setting\n",
    "#os.environ[\"LANGCHAIN_API_KEY\"] = \"lsv2_***\"                        *.env로 setting\n",
    "from langsmith import Client\n",
    "client = Client()"
   ]
  },
  {
   "cell_type": "code",
   "execution_count": 119,
   "metadata": {},
   "outputs": [],
   "source": [
    "#add_messages의 메타 data를 갖는 list 형태의 message dict인 State를 MessagesState로 정의된 lib 사용\n",
    "\n",
    "class State5(MessagesState):  #MeassageState를 상속받기(그대로 활용용)\n",
    "    counter: int              #counter 인자는 int 속성\n",
    "\n",
    "graph_builder5 = StateGraph(State5)"
   ]
  },
  {
   "cell_type": "code",
   "execution_count": 109,
   "metadata": {},
   "outputs": [],
   "source": [
    "llm = ChatGoogleGenerativeAI(model='gemini-1.5-pro', temperature= 0)"
   ]
  },
  {
   "cell_type": "code",
   "execution_count": 120,
   "metadata": {},
   "outputs": [],
   "source": [
    "def chatbot5(state: State5):                             #State5를 입력받아 내부 변수인 state로 만든다.\n",
    "    state['counter'] = 1\n",
    "    state[\"messages\"] = llm.invoke(state['messages'])\n",
    "    return state"
   ]
  },
  {
   "cell_type": "code",
   "execution_count": 121,
   "metadata": {},
   "outputs": [
    {
     "data": {
      "text/plain": [
       "<langgraph.graph.state.StateGraph at 0x18b28a012a0>"
      ]
     },
     "execution_count": 121,
     "metadata": {},
     "output_type": "execute_result"
    }
   ],
   "source": [
    "graph_builder5.add_node('chatbot_new5', chatbot5) # chatbot_new 이름의 노드를 만들고 노드 함수는 chatbot 사용\n",
    "\n",
    "graph_builder5.set_entry_point('chatbot_new5') #graph에서 start지점 설정하기\n",
    "graph_builder5.set_finish_point('chatbot_new5') #graph에서 finish지점 설정하기기"
   ]
  },
  {
   "cell_type": "code",
   "execution_count": 122,
   "metadata": {},
   "outputs": [],
   "source": [
    "graph5 = graph_builder5.compile() #graph5로 compilie하기"
   ]
  },
  {
   "cell_type": "code",
   "execution_count": 123,
   "metadata": {},
   "outputs": [
    {
     "data": {
      "image/png": "[encoded data removed]",
      "text/plain": [
       "<IPython.core.display.Image object>"
      ]
     },
     "metadata": {},
     "output_type": "display_data"
    }
   ],
   "source": [
    "from IPython.display import Image, display\n",
    "\n",
    "try:\n",
    "    display(Image(graph5.get_graph().draw_mermaid_png()))\n",
    "except Exception:\n",
    "    print('langgraph가 만들어지지 않았습니다.')\n",
    "    pass"
   ]
  },
  {
   "cell_type": "code",
   "execution_count": 125,
   "metadata": {},
   "outputs": [
    {
     "name": "stdout",
     "output_type": "stream",
     "text": [
      "counter : 1\n",
      "User Message : 삼성 노트북 라인업에 대해서 알려줘\n",
      "Assistant : 삼성 노트북 라인업은 크게 **갤럭시 북**, **비스포크**, 그리고 **크롬북** 시리즈로 나뉘며, 각 시리즈는 사용 목적과 가격대에 따라 다양한 모델을 제공합니다. 주요 특징과 차이점을 정리하면 다음과 같습니다.\n",
      "\n",
      "**1. 갤럭시 북 시리즈:**\n",
      "\n",
      "* **프리미엄 라인업:** 삼성의 주력 노트북 시리즈로, 고성능과 세련된 디자인을 특징으로 합니다. 갤럭시 생태계와의 연동성이 뛰어나 스마트폰, 태블릿 등과의 연결성이 강조됩니다.\n",
      "* **다양한 모델:** 갤럭시 북3 프로, 갤럭시 북3 프로 360, 갤럭시 북3 울트라, 갤럭시 북3, 갤럭시 북2 프로, 갤럭시 북2 프로 360, 갤럭시 북2 360, 갤럭시 북 Go 등 다양한 모델이 있으며, 성능, 휴대성, 폼팩터(일반 노트북, 2-in-1) 등에서 차이가 있습니다.\n",
      "* **주요 특징:** AMOLED 디스플레이, S펜 지원 (일부 모델), 가벼운 무게, 고성능 프로세서, 넉넉한 저장 용량 등을 제공합니다.\n",
      "* **대상 사용자:** 고성능 작업, 콘텐츠 제작, 엔터테인먼트, 휴대성을 중시하는 사용자에게 적합합니다.\n",
      "\n",
      "**2. 비스포크 인피니티 원:**\n",
      "\n",
      "* **맞춤형 디자인:** 비스포크 라인업의 철학을 계승하여 사용자의 취향에 맞게 색상을 선택할 수 있습니다.\n",
      "* **프리미엄 성능:** 갤럭시 북 시리즈와 마찬가지로 고성능 부품과 뛰어난 디스플레이를 탑재했습니다.\n",
      "* **13세대 인텔 코어 프로세서:** 최신 프로세서를 탑재하여 빠른 속도와 높은 생산성을 제공합니다.\n",
      "* **대상 사용자:** 개성을 중시하고 고성능 노트북을 원하는 사용자에게 적합합니다.\n",
      "\n",
      "**3. 크롬북 시리즈:**\n",
      "\n",
      "* **가성비 라인업:** 크롬 OS를 기반으로 하여 가볍고 빠른 부팅 속도와 저렴한 가격이 장점입니다.\n",
      "* **클라우드 기반:** 구글 계정을 통해 데이터를 저장하고 관리하며, 웹 기반 애플리케이션을 주로 사용합니다.\n",
      "* **휴대성:** 가볍고 콤팩트한 디자인으로 휴대성이 뛰어납니다.\n",
      "* **대상 사용자:** 간단한 문서 작업, 웹 서핑, 온라인 학습 등에 적합하며, 가성비를 중시하는 사용자에게 추천합니다.  갤럭시 크롬북과 갤럭시 크롬북2 등의 모델이 있습니다.\n",
      "\n",
      "\n",
      "**각 시리즈 내 모델별 비교는 삼성전자 웹사이트 또는 전자제품 판매점에서 상세 스펙을 확인하는 것이 좋습니다.**  프로세서, RAM, 저장 용량, 디스플레이 크기 및 해상도, 배터리 용량 등을 비교하여 자신의 용도와 예산에 맞는 모델을 선택할 수 있습니다.  또한, 사용 후기나 전문가 리뷰를 참고하는 것도 도움이 됩니다.\n",
      "\n",
      "counter : 1\n",
      "User Message : 각 시리즈의 장점은 뭐야?\n",
      "Assistant : 어떤 시리즈를 말하는 건가요? 질문이 너무 포괄적이라 답변하기 어렵습니다.  어떤 종류의 시리즈인지 구체적으로 알려주시면 답변드릴 수 있습니다. 예를 들어,\n",
      "\n",
      "* **드라마 시리즈**: 특정 드라마 제목 (예: 오징어 게임, 이상한 변호사 우영우)\n",
      "* **책 시리즈**: 특정 책 시리즈 제목 (예: 해리포터, 반지의 제왕)\n",
      "* **영화 시리즈**: 특정 영화 시리즈 제목 (예: 마블 시네마틱 유니버스, 스타워즈)\n",
      "* **게임 시리즈**: 특정 게임 시리즈 제목 (예: 젤다의 전설, 콜 오브 듀티)\n",
      "* **만화/애니메이션 시리즈**: 특정 만화/애니메이션 시리즈 제목 (예: 원피스, 귀멸의 칼날)\n",
      "* **제품 시리즈**: 특정 제품 시리즈 (예: 아이폰 시리즈, 갤럭시 시리즈)\n",
      "\n",
      "등등...  어떤 시리즈에 대해 궁금한지 알려주시면 그 시리즈의 장점에 대해 자세히 설명해 드리겠습니다.\n",
      "\n",
      "Good bye\n"
     ]
    }
   ],
   "source": [
    "while True:\n",
    "    user_input = input(\"User: \")\n",
    "    if user_input.lower() in ['quit','exit','q']:\n",
    "        print('Good bye')\n",
    "        break\n",
    "    else:\n",
    "        for event in graph5.stream({'messages': ('user',user_input)}):\n",
    "            print(f\"counter : {event['chatbot_new5']['counter']}\")\n",
    "            print(f\"User Message : {user_input}\")\n",
    "            print(f\"Assistant : {event['chatbot_new5']['messages'].content}\")"
   ]
  },
  {
   "cell_type": "code",
   "execution_count": null,
   "metadata": {},
   "outputs": [],
   "source": []
  }
 ],
 "metadata": {
  "kernelspec": {
   "display_name": "py31012",
   "language": "python",
   "name": "python3"
  },
  "language_info": {
   "codemirror_mode": {
    "name": "ipython",
    "version": 3
   },
   "file_extension": ".py",
   "mimetype": "text/x-python",
   "name": "python",
   "nbconvert_exporter": "python",
   "pygments_lexer": "ipython3",
   "version": "3.10.12"
  }
 },
 "nbformat": 4,
 "nbformat_minor": 2
}
