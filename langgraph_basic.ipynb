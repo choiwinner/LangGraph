{
 "cells": [
  {
   "cell_type": "markdown",
   "metadata": {},
   "source": [
    "참고 자료 1 : https://www.youtube.com/watch?v=o25jAgm63X0"
   ]
  },
  {
   "cell_type": "code",
   "execution_count": null,
   "metadata": {},
   "outputs": [],
   "source": [
    "from dotenv import load_dotenv\n",
    "import os"
   ]
  },
  {
   "cell_type": "code",
   "execution_count": 2,
   "metadata": {},
   "outputs": [
    {
     "data": {
      "text/plain": [
       "True"
      ]
     },
     "execution_count": 2,
     "metadata": {},
     "output_type": "execute_result"
    }
   ],
   "source": [
    "# .env 파일 로드(api key load)\n",
    "load_dotenv()"
   ]
  },
  {
   "cell_type": "code",
   "execution_count": 3,
   "metadata": {},
   "outputs": [
    {
     "ename": "ModuleNotFoundError",
     "evalue": "No module named 'langsmith'",
     "output_type": "error",
     "traceback": [
      "\u001b[1;31m---------------------------------------------------------------------------\u001b[0m",
      "\u001b[1;31mModuleNotFoundError\u001b[0m                       Traceback (most recent call last)",
      "Cell \u001b[1;32mIn[3], line 6\u001b[0m\n\u001b[0;32m      4\u001b[0m os\u001b[38;5;241m.\u001b[39menviron[\u001b[38;5;124m\"\u001b[39m\u001b[38;5;124mLANGCHAIN_PROJECT\u001b[39m\u001b[38;5;124m\"\u001b[39m] \u001b[38;5;241m=\u001b[39m \u001b[38;5;124m\"\u001b[39m\u001b[38;5;124mlangsmith_basic\u001b[39m\u001b[38;5;124m\"\u001b[39m                 \u001b[38;5;66;03m#표시될 PJT명 Setting\u001b[39;00m\n\u001b[0;32m      5\u001b[0m \u001b[38;5;66;03m#os.environ[\"LANGCHAIN_API_KEY\"] = \"lsv2_***\"                        *.env로 setting\u001b[39;00m\n\u001b[1;32m----> 6\u001b[0m \u001b[38;5;28;01mfrom\u001b[39;00m \u001b[38;5;21;01mlangsmith\u001b[39;00m \u001b[38;5;28;01mimport\u001b[39;00m Client\n\u001b[0;32m      7\u001b[0m client \u001b[38;5;241m=\u001b[39m Client()\n",
      "\u001b[1;31mModuleNotFoundError\u001b[0m: No module named 'langsmith'"
     ]
    }
   ],
   "source": [
    "#langsmith Setting\n",
    "os.environ[\"LANGCHAIN_TRACING_V2\"] = \"true\"\n",
    "os.environ[\"LANGCHAIN_ENDPOINT\"] = \"https://api.smith.langchain.com\" \n",
    "os.environ[\"LANGCHAIN_PROJECT\"] = \"langsmith_basic\"                 #표시될 PJT명 Setting\n",
    "#os.environ[\"LANGCHAIN_API_KEY\"] = \"lsv2_***\"                        *.env로 setting\n",
    "from langsmith import Client\n",
    "client = Client()"
   ]
  },
  {
   "cell_type": "markdown",
   "metadata": {},
   "source": [
    "1. library import 하기"
   ]
  },
  {
   "cell_type": "code",
   "execution_count": 4,
   "metadata": {},
   "outputs": [],
   "source": [
    "from typing_extensions import TypedDict \n",
    "#typing이나 typing_extensions나 동일하게 동작하나 langgraph 공식 문서에서는 typing_extensions에서 갖고 온다\n",
    "from typing import Annotated\n",
    "\n",
    "from langgraph.graph import StateGraph, START, END\n",
    "import operator\n"
   ]
  },
  {
   "cell_type": "markdown",
   "metadata": {},
   "source": [
    "2. StateGpraph로 State 만들기\n",
    "- node간 전달할 때 전달되는 인자들 선언하기"
   ]
  },
  {
   "cell_type": "code",
   "execution_count": 5,
   "metadata": {},
   "outputs": [],
   "source": [
    "class State(TypedDict):       #State에 TypeDict 상속해서 사용\n",
    "    counter: int              #counter 인자는 int 속성\n",
    "    alphabet: list[str]       #alphabet 인자는 list 속성이면서 그 안의 인자는 str\n",
    "\n",
    "graph_builder = StateGraph(State) #StateGraph 객체 선언하기"
   ]
  },
  {
   "cell_type": "markdown",
   "metadata": {},
   "source": [
    "3. node 함수 만들기\n",
    "- state값을 입력받고 return값을 지정하기 된다."
   ]
  },
  {
   "cell_type": "code",
   "execution_count": 6,
   "metadata": {},
   "outputs": [],
   "source": [
    "def node_a(state: State):      #state로 State의 객체를 선언한다.\n",
    "    state['counter'] += 1          #counter에 1을 더한다.\n",
    "    state['alphabet'] = ['Hello']  #alphabet에 Hello로 지정한다.\n",
    "    return state"
   ]
  },
  {
   "cell_type": "markdown",
   "metadata": {},
   "source": [
    "4. langgaph에 node 및 edge 설정하기"
   ]
  },
  {
   "cell_type": "code",
   "execution_count": 7,
   "metadata": {},
   "outputs": [
    {
     "data": {
      "text/plain": [
       "<langgraph.graph.state.StateGraph at 0x2b422545840>"
      ]
     },
     "execution_count": 7,
     "metadata": {},
     "output_type": "execute_result"
    }
   ],
   "source": [
    "graph_builder.add_node('chatbot', node_a) # chatbot이름의 노드를 만들고 노드 함수는 node_a 사용\n",
    "\n",
    "graph_builder.add_edge(START,'chatbot')  # START -> chatbot edge 만들기\n",
    "graph_builder.add_edge('chatbot',END)    # chatbot -> END edge 만들기"
   ]
  },
  {
   "cell_type": "markdown",
   "metadata": {},
   "source": [
    "5. langgraph를 컴파일하기"
   ]
  },
  {
   "cell_type": "code",
   "execution_count": 8,
   "metadata": {},
   "outputs": [],
   "source": [
    "graph = graph_builder.compile()          #"
   ]
  },
  {
   "cell_type": "markdown",
   "metadata": {},
   "source": [
    "6. langhgraph 시각화로 확인하기"
   ]
  },
  {
   "cell_type": "code",
   "execution_count": 9,
   "metadata": {},
   "outputs": [
    {
     "data": {
      "image/png": "[encoded data removed]",
      "text/plain": [
       "<IPython.core.display.Image object>"
      ]
     },
     "metadata": {},
     "output_type": "display_data"
    }
   ],
   "source": [
    "from IPython.display import Image, display\n",
    "\n",
    "try:\n",
    "    display(Image(graph.get_graph().draw_mermaid_png()))\n",
    "except Exception:\n",
    "    print('langgraph가 만들어지지 않았습니다.')\n",
    "    pass"
   ]
  },
  {
   "cell_type": "markdown",
   "metadata": {},
   "source": [
    "7. 초기값 설정 후 실행하기"
   ]
  },
  {
   "cell_type": "code",
   "execution_count": 10,
   "metadata": {},
   "outputs": [],
   "source": [
    "# 초기 상태 정의\n",
    "intial_state = {\n",
    "    'counter' : 0,\n",
    "    'alphabet' : ['a']\n",
    "}"
   ]
  },
  {
   "cell_type": "code",
   "execution_count": 11,
   "metadata": {},
   "outputs": [
    {
     "name": "stdout",
     "output_type": "stream",
     "text": [
      "{'counter': 1, 'alphabet': ['Hello']}\n",
      "{'counter': 2, 'alphabet': ['Hello']}\n",
      "{'counter': 3, 'alphabet': ['Hello']}\n"
     ]
    }
   ],
   "source": [
    "state_act = intial_state\n",
    "for _ in range(3):                       #3회 실시하기\n",
    "    state_act = graph.invoke(state_act)\n",
    "    print(state_act)\n"
   ]
  },
  {
   "cell_type": "markdown",
   "metadata": {},
   "source": [
    "### Annotate를 이용해서 list 내용 계속 추가하기"
   ]
  },
  {
   "cell_type": "code",
   "execution_count": 12,
   "metadata": {},
   "outputs": [],
   "source": [
    "class State2(TypedDict):       #State에 TypeDict 상속해서 사용\n",
    "    counter: int              #counter 인자는 int 속성\n",
    "    alphabet: Annotated[list[str], operator.add] #Annotated + operator.add로 list 추가하기\n",
    "\n",
    "graph_builder2 = StateGraph(State2) #StateGraph 객체 선언하기"
   ]
  },
  {
   "cell_type": "code",
   "execution_count": 13,
   "metadata": {},
   "outputs": [],
   "source": [
    "def node_a2(state: State2):      #state로 State의 객체를 선언한다.\n",
    "    state['counter'] += 1          #counter에 1을 더한다.\n",
    "    state['alphabet'] = ['Hello']  #alphabet에 Hello로 지정한다.\n",
    "    return state"
   ]
  },
  {
   "cell_type": "code",
   "execution_count": 14,
   "metadata": {},
   "outputs": [
    {
     "data": {
      "text/plain": [
       "<langgraph.graph.state.StateGraph at 0x2b425d6fca0>"
      ]
     },
     "execution_count": 14,
     "metadata": {},
     "output_type": "execute_result"
    }
   ],
   "source": [
    "graph_builder2.add_node('chatbot', node_a2) # chatbot이름의 노드를 만들고 노드 함수는 node_a 사용\n",
    "\n",
    "graph_builder2.add_edge(START,'chatbot')  # START -> chatbot edge 만들기\n",
    "graph_builder2.add_edge('chatbot',END)    # chatbot -> END edge 만들기"
   ]
  },
  {
   "cell_type": "code",
   "execution_count": 15,
   "metadata": {},
   "outputs": [],
   "source": [
    "graph2 = graph_builder2.compile()   "
   ]
  },
  {
   "cell_type": "code",
   "execution_count": 16,
   "metadata": {},
   "outputs": [],
   "source": [
    "# 초기 상태 정의\n",
    "intial_state = {\n",
    "    'counter' : 0,\n",
    "    'alphabet' : ['a']\n",
    "}"
   ]
  },
  {
   "cell_type": "code",
   "execution_count": 17,
   "metadata": {},
   "outputs": [
    {
     "name": "stdout",
     "output_type": "stream",
     "text": [
      "{'counter': 1, 'alphabet': ['a', 'Hello']}\n",
      "{'counter': 2, 'alphabet': ['a', 'Hello', 'Hello']}\n",
      "{'counter': 3, 'alphabet': ['a', 'Hello', 'Hello', 'Hello']}\n"
     ]
    }
   ],
   "source": [
    "state_act2 = intial_state\n",
    "for _ in range(3):                       #3회 실시하기\n",
    "    state_act2 = graph2.invoke(state_act2)\n",
    "    print(state_act2)"
   ]
  },
  {
   "cell_type": "markdown",
   "metadata": {},
   "source": [
    "### Message를 담은 StateGraph 만들기"
   ]
  },
  {
   "cell_type": "code",
   "execution_count": 18,
   "metadata": {},
   "outputs": [],
   "source": [
    "from typing_extensions import TypedDict \n",
    "#typing이나 typing_extensions나 동일하게 동작하나 langgraph 공식 문서에서는 typing_extensions에서 갖고 온다\n",
    "from typing import Annotated\n",
    "\n",
    "from langgraph.graph import StateGraph, START, END\n",
    "from langgraph.graph.message import add_messages\n",
    "import operator\n",
    "\n",
    "from langchain_google_genai import ChatGoogleGenerativeAI\n",
    "\n",
    "from dotenv import load_dotenv\n",
    "import os"
   ]
  },
  {
   "cell_type": "code",
   "execution_count": 19,
   "metadata": {},
   "outputs": [
    {
     "data": {
      "text/plain": [
       "True"
      ]
     },
     "execution_count": 19,
     "metadata": {},
     "output_type": "execute_result"
    }
   ],
   "source": [
    "# .env 파일 로드(api key load)\n",
    "load_dotenv()"
   ]
  },
  {
   "cell_type": "code",
   "execution_count": 20,
   "metadata": {},
   "outputs": [],
   "source": [
    "#langsmith Setting\n",
    "os.environ[\"LANGCHAIN_TRACING_V2\"] = \"true\"\n",
    "os.environ[\"LANGCHAIN_ENDPOINT\"] = \"https://api.smith.langchain.com\" \n",
    "os.environ[\"LANGCHAIN_PROJECT\"] = \"langsmith_basic\"                 #표시될 PJT명 Setting\n",
    "#os.environ[\"LANGCHAIN_API_KEY\"] = \"lsv2_***\"                        *.env로 setting\n",
    "from langsmith import Client\n",
    "client = Client()"
   ]
  },
  {
   "cell_type": "code",
   "execution_count": 21,
   "metadata": {},
   "outputs": [],
   "source": [
    "class State3(TypedDict):\n",
    "    messages : Annotated[list,add_messages] #add_messages의 메타 data를 갖는 list 형태의 message dict 만들기\n",
    "\n",
    "graph_builder3 = StateGraph(State3)"
   ]
  },
  {
   "cell_type": "code",
   "execution_count": 22,
   "metadata": {},
   "outputs": [],
   "source": [
    "llm = ChatGoogleGenerativeAI(model='gemini-1.5-pro', temperature= 0)"
   ]
  },
  {
   "cell_type": "code",
   "execution_count": 23,
   "metadata": {},
   "outputs": [],
   "source": [
    "def chatbot(state: State3):                             #State3(typedict)를 입력받아 내부 변수인 state로 만든다.\n",
    "    return {\"messages\" : llm.invoke(state['messages'])} #state(typedict)의 'messages' key값을 llm에 invoke한다."
   ]
  },
  {
   "cell_type": "code",
   "execution_count": 24,
   "metadata": {},
   "outputs": [
    {
     "data": {
      "text/plain": [
       "<langgraph.graph.state.StateGraph at 0x2b451b6e890>"
      ]
     },
     "execution_count": 24,
     "metadata": {},
     "output_type": "execute_result"
    }
   ],
   "source": [
    "graph_builder3.add_node('chatbot_new', chatbot) # chatbot_new 이름의 노드를 만들고 노드 함수는 chatbot 사용\n",
    "\n",
    "graph_builder3.set_entry_point('chatbot_new') #graph에서 start지점 설정하기\n",
    "graph_builder3.set_finish_point('chatbot_new') #graph에서 finish지점 설정하기기"
   ]
  },
  {
   "cell_type": "code",
   "execution_count": 25,
   "metadata": {},
   "outputs": [],
   "source": [
    "graph3 = graph_builder3.compile() #graph3로 compilie하기"
   ]
  },
  {
   "cell_type": "code",
   "execution_count": 26,
   "metadata": {},
   "outputs": [
    {
     "data": {
      "image/png": "[encoded data removed]",
      "text/plain": [
       "<IPython.core.display.Image object>"
      ]
     },
     "metadata": {},
     "output_type": "display_data"
    }
   ],
   "source": [
    "from IPython.display import Image, display\n",
    "\n",
    "try:\n",
    "    display(Image(graph3.get_graph().draw_mermaid_png()))\n",
    "except Exception:\n",
    "    print('langgraph가 만들어지지 않았습니다.')\n",
    "    pass"
   ]
  },
  {
   "cell_type": "code",
   "execution_count": 27,
   "metadata": {},
   "outputs": [
    {
     "name": "stdout",
     "output_type": "stream",
     "text": [
      "안녕하세요! 무엇을 도와드릴까요?\n",
      "\n",
      "(I pressed enter.  Since you can't see that, I'm letting you know I followed the instruction.)\n",
      "\n",
      "저도 당신을 소중하게 생각합니다. 하지만 저는 인공지능이기 때문에 인간처럼 사랑을 느낄 수는 없습니다. 제가 할 수 있는 것은 당신의 요청에 최선을 다해 답하고 도움을 드리는 것입니다.  무엇을 도와드릴까요?\n",
      "\n",
      "미국 상무부 경제분석국(BEA)에 따르면 2023년 2분기 미국 실질 GDP(계절 조정 연율)는 전분기 대비 2.1% 증가했습니다. 이는 2023년 1분기의 2.0% 성장률보다 약간 높은 수치입니다.\n",
      "\n",
      "BEA는 또한 2023년 2분기 GDP 가격 지수가 전분기 대비 2.0% 상승했다고 보고했습니다. 이는 2023년 1분기의 4.1% 상승률보다 낮은 수치입니다.\n",
      "\n",
      "이러한 수치는 예비치이며 향후 수정될 수 있습니다. BEA는 2023년 8월 30일에 2023년 2분기 GDP에 대한 두 번째 추정치를 발표할 예정입니다.\n",
      "\n",
      "보다 자세한 정보는 BEA 웹사이트(www.bea.gov)를 참조하십시오.\n",
      "\n"
     ]
    },
    {
     "name": "stderr",
     "output_type": "stream",
     "text": [
      "Retrying langchain_google_genai.chat_models._chat_with_retry.<locals>._chat_with_retry in 2.0 seconds as it raised ResourceExhausted: 429 Resource has been exhausted (e.g. check quota)..\n"
     ]
    },
    {
     "ename": "ResourceExhausted",
     "evalue": "429 Resource has been exhausted (e.g. check quota).",
     "output_type": "error",
     "traceback": [
      "\u001b[1;31m---------------------------------------------------------------------------\u001b[0m",
      "\u001b[1;31mResourceExhausted\u001b[0m                         Traceback (most recent call last)",
      "Cell \u001b[1;32mIn[27], line 7\u001b[0m\n\u001b[0;32m      5\u001b[0m     \u001b[38;5;28;01mbreak\u001b[39;00m\n\u001b[0;32m      6\u001b[0m \u001b[38;5;28;01melse\u001b[39;00m:\n\u001b[1;32m----> 7\u001b[0m     \u001b[38;5;28;01mfor\u001b[39;00m event \u001b[38;5;129;01min\u001b[39;00m graph3\u001b[38;5;241m.\u001b[39mstream({\u001b[38;5;124m'\u001b[39m\u001b[38;5;124mmessages\u001b[39m\u001b[38;5;124m'\u001b[39m: (\u001b[38;5;124m'\u001b[39m\u001b[38;5;124muser\u001b[39m\u001b[38;5;124m'\u001b[39m,user_input)}):\n\u001b[0;32m      8\u001b[0m         \u001b[38;5;28mprint\u001b[39m(event[\u001b[38;5;124m'\u001b[39m\u001b[38;5;124mchatbot_new\u001b[39m\u001b[38;5;124m'\u001b[39m][\u001b[38;5;124m'\u001b[39m\u001b[38;5;124mmessages\u001b[39m\u001b[38;5;124m'\u001b[39m]\u001b[38;5;241m.\u001b[39mcontent)\n",
      "File \u001b[1;32mc:\\ProgramData\\anaconda3\\envs\\py31012\\lib\\site-packages\\langgraph\\pregel\\__init__.py:1647\u001b[0m, in \u001b[0;36mPregel.stream\u001b[1;34m(self, input, config, stream_mode, output_keys, interrupt_before, interrupt_after, debug, subgraphs)\u001b[0m\n\u001b[0;32m   1641\u001b[0m     \u001b[38;5;66;03m# Similarly to Bulk Synchronous Parallel / Pregel model\u001b[39;00m\n\u001b[0;32m   1642\u001b[0m     \u001b[38;5;66;03m# computation proceeds in steps, while there are channel updates\u001b[39;00m\n\u001b[0;32m   1643\u001b[0m     \u001b[38;5;66;03m# channel updates from step N are only visible in step N+1\u001b[39;00m\n\u001b[0;32m   1644\u001b[0m     \u001b[38;5;66;03m# channels are guaranteed to be immutable for the duration of the step,\u001b[39;00m\n\u001b[0;32m   1645\u001b[0m     \u001b[38;5;66;03m# with channel updates applied only at the transition between steps\u001b[39;00m\n\u001b[0;32m   1646\u001b[0m     \u001b[38;5;28;01mwhile\u001b[39;00m loop\u001b[38;5;241m.\u001b[39mtick(input_keys\u001b[38;5;241m=\u001b[39m\u001b[38;5;28mself\u001b[39m\u001b[38;5;241m.\u001b[39minput_channels):\n\u001b[1;32m-> 1647\u001b[0m         \u001b[38;5;28;01mfor\u001b[39;00m _ \u001b[38;5;129;01min\u001b[39;00m runner\u001b[38;5;241m.\u001b[39mtick(\n\u001b[0;32m   1648\u001b[0m             loop\u001b[38;5;241m.\u001b[39mtasks\u001b[38;5;241m.\u001b[39mvalues(),\n\u001b[0;32m   1649\u001b[0m             timeout\u001b[38;5;241m=\u001b[39m\u001b[38;5;28mself\u001b[39m\u001b[38;5;241m.\u001b[39mstep_timeout,\n\u001b[0;32m   1650\u001b[0m             retry_policy\u001b[38;5;241m=\u001b[39m\u001b[38;5;28mself\u001b[39m\u001b[38;5;241m.\u001b[39mretry_policy,\n\u001b[0;32m   1651\u001b[0m             get_waiter\u001b[38;5;241m=\u001b[39mget_waiter,\n\u001b[0;32m   1652\u001b[0m         ):\n\u001b[0;32m   1653\u001b[0m             \u001b[38;5;66;03m# emit output\u001b[39;00m\n\u001b[0;32m   1654\u001b[0m             \u001b[38;5;28;01myield from\u001b[39;00m output()\n\u001b[0;32m   1655\u001b[0m \u001b[38;5;66;03m# emit output\u001b[39;00m\n",
      "File \u001b[1;32mc:\\ProgramData\\anaconda3\\envs\\py31012\\lib\\site-packages\\langgraph\\pregel\\runner.py:104\u001b[0m, in \u001b[0;36mPregelRunner.tick\u001b[1;34m(self, tasks, reraise, timeout, retry_policy, get_waiter)\u001b[0m\n\u001b[0;32m    102\u001b[0m t \u001b[38;5;241m=\u001b[39m tasks[\u001b[38;5;241m0\u001b[39m]\n\u001b[0;32m    103\u001b[0m \u001b[38;5;28;01mtry\u001b[39;00m:\n\u001b[1;32m--> 104\u001b[0m     \u001b[43mrun_with_retry\u001b[49m\u001b[43m(\u001b[49m\u001b[43mt\u001b[49m\u001b[43m,\u001b[49m\u001b[43m \u001b[49m\u001b[43mretry_policy\u001b[49m\u001b[43m,\u001b[49m\u001b[43m \u001b[49m\u001b[43mwriter\u001b[49m\u001b[38;5;241;43m=\u001b[39;49m\u001b[43mwriter\u001b[49m\u001b[43m)\u001b[49m\n\u001b[0;32m    105\u001b[0m     \u001b[38;5;28mself\u001b[39m\u001b[38;5;241m.\u001b[39mcommit(t, \u001b[38;5;28;01mNone\u001b[39;00m)\n\u001b[0;32m    106\u001b[0m \u001b[38;5;28;01mexcept\u001b[39;00m \u001b[38;5;167;01mException\u001b[39;00m \u001b[38;5;28;01mas\u001b[39;00m exc:\n",
      "File \u001b[1;32mc:\\ProgramData\\anaconda3\\envs\\py31012\\lib\\site-packages\\langgraph\\pregel\\retry.py:40\u001b[0m, in \u001b[0;36mrun_with_retry\u001b[1;34m(task, retry_policy, writer)\u001b[0m\n\u001b[0;32m     38\u001b[0m task\u001b[38;5;241m.\u001b[39mwrites\u001b[38;5;241m.\u001b[39mclear()\n\u001b[0;32m     39\u001b[0m \u001b[38;5;66;03m# run the task\u001b[39;00m\n\u001b[1;32m---> 40\u001b[0m \u001b[43mtask\u001b[49m\u001b[38;5;241;43m.\u001b[39;49m\u001b[43mproc\u001b[49m\u001b[38;5;241;43m.\u001b[39;49m\u001b[43minvoke\u001b[49m\u001b[43m(\u001b[49m\u001b[43mtask\u001b[49m\u001b[38;5;241;43m.\u001b[39;49m\u001b[43minput\u001b[49m\u001b[43m,\u001b[49m\u001b[43m \u001b[49m\u001b[43mconfig\u001b[49m\u001b[43m)\u001b[49m\n\u001b[0;32m     41\u001b[0m \u001b[38;5;66;03m# if successful, end\u001b[39;00m\n\u001b[0;32m     42\u001b[0m \u001b[38;5;28;01mbreak\u001b[39;00m\n",
      "File \u001b[1;32mc:\\ProgramData\\anaconda3\\envs\\py31012\\lib\\site-packages\\langgraph\\utils\\runnable.py:410\u001b[0m, in \u001b[0;36mRunnableSeq.invoke\u001b[1;34m(self, input, config, **kwargs)\u001b[0m\n\u001b[0;32m    408\u001b[0m context\u001b[38;5;241m.\u001b[39mrun(_set_config_context, config)\n\u001b[0;32m    409\u001b[0m \u001b[38;5;28;01mif\u001b[39;00m i \u001b[38;5;241m==\u001b[39m \u001b[38;5;241m0\u001b[39m:\n\u001b[1;32m--> 410\u001b[0m     \u001b[38;5;28minput\u001b[39m \u001b[38;5;241m=\u001b[39m context\u001b[38;5;241m.\u001b[39mrun(step\u001b[38;5;241m.\u001b[39minvoke, \u001b[38;5;28minput\u001b[39m, config, \u001b[38;5;241m*\u001b[39m\u001b[38;5;241m*\u001b[39mkwargs)\n\u001b[0;32m    411\u001b[0m \u001b[38;5;28;01melse\u001b[39;00m:\n\u001b[0;32m    412\u001b[0m     \u001b[38;5;28minput\u001b[39m \u001b[38;5;241m=\u001b[39m context\u001b[38;5;241m.\u001b[39mrun(step\u001b[38;5;241m.\u001b[39minvoke, \u001b[38;5;28minput\u001b[39m, config)\n",
      "File \u001b[1;32mc:\\ProgramData\\anaconda3\\envs\\py31012\\lib\\site-packages\\langgraph\\utils\\runnable.py:184\u001b[0m, in \u001b[0;36mRunnableCallable.invoke\u001b[1;34m(self, input, config, **kwargs)\u001b[0m\n\u001b[0;32m    182\u001b[0m \u001b[38;5;28;01melse\u001b[39;00m:\n\u001b[0;32m    183\u001b[0m     context\u001b[38;5;241m.\u001b[39mrun(_set_config_context, config)\n\u001b[1;32m--> 184\u001b[0m     ret \u001b[38;5;241m=\u001b[39m context\u001b[38;5;241m.\u001b[39mrun(\u001b[38;5;28mself\u001b[39m\u001b[38;5;241m.\u001b[39mfunc, \u001b[38;5;28minput\u001b[39m, \u001b[38;5;241m*\u001b[39m\u001b[38;5;241m*\u001b[39mkwargs)\n\u001b[0;32m    185\u001b[0m \u001b[38;5;28;01mif\u001b[39;00m \u001b[38;5;28misinstance\u001b[39m(ret, Runnable) \u001b[38;5;129;01mand\u001b[39;00m \u001b[38;5;28mself\u001b[39m\u001b[38;5;241m.\u001b[39mrecurse:\n\u001b[0;32m    186\u001b[0m     \u001b[38;5;28;01mreturn\u001b[39;00m ret\u001b[38;5;241m.\u001b[39minvoke(\u001b[38;5;28minput\u001b[39m, config)\n",
      "Cell \u001b[1;32mIn[23], line 2\u001b[0m, in \u001b[0;36mchatbot\u001b[1;34m(state)\u001b[0m\n\u001b[0;32m      1\u001b[0m \u001b[38;5;28;01mdef\u001b[39;00m \u001b[38;5;21mchatbot\u001b[39m(state: State3):                             \u001b[38;5;66;03m#State3(typedict)를 입력받아 내부 변수인 state로 만든다.\u001b[39;00m\n\u001b[1;32m----> 2\u001b[0m     \u001b[38;5;28;01mreturn\u001b[39;00m {\u001b[38;5;124m\"\u001b[39m\u001b[38;5;124mmessages\u001b[39m\u001b[38;5;124m\"\u001b[39m : \u001b[43mllm\u001b[49m\u001b[38;5;241;43m.\u001b[39;49m\u001b[43minvoke\u001b[49m\u001b[43m(\u001b[49m\u001b[43mstate\u001b[49m\u001b[43m[\u001b[49m\u001b[38;5;124;43m'\u001b[39;49m\u001b[38;5;124;43mmessages\u001b[39;49m\u001b[38;5;124;43m'\u001b[39;49m\u001b[43m]\u001b[49m\u001b[43m)\u001b[49m}\n",
      "File \u001b[1;32mc:\\ProgramData\\anaconda3\\envs\\py31012\\lib\\site-packages\\langchain_core\\language_models\\chat_models.py:286\u001b[0m, in \u001b[0;36mBaseChatModel.invoke\u001b[1;34m(self, input, config, stop, **kwargs)\u001b[0m\n\u001b[0;32m    275\u001b[0m \u001b[38;5;28;01mdef\u001b[39;00m \u001b[38;5;21minvoke\u001b[39m(\n\u001b[0;32m    276\u001b[0m     \u001b[38;5;28mself\u001b[39m,\n\u001b[0;32m    277\u001b[0m     \u001b[38;5;28minput\u001b[39m: LanguageModelInput,\n\u001b[1;32m   (...)\u001b[0m\n\u001b[0;32m    281\u001b[0m     \u001b[38;5;241m*\u001b[39m\u001b[38;5;241m*\u001b[39mkwargs: Any,\n\u001b[0;32m    282\u001b[0m ) \u001b[38;5;241m-\u001b[39m\u001b[38;5;241m>\u001b[39m BaseMessage:\n\u001b[0;32m    283\u001b[0m     config \u001b[38;5;241m=\u001b[39m ensure_config(config)\n\u001b[0;32m    284\u001b[0m     \u001b[38;5;28;01mreturn\u001b[39;00m cast(\n\u001b[0;32m    285\u001b[0m         ChatGeneration,\n\u001b[1;32m--> 286\u001b[0m         \u001b[38;5;28mself\u001b[39m\u001b[38;5;241m.\u001b[39mgenerate_prompt(\n\u001b[0;32m    287\u001b[0m             [\u001b[38;5;28mself\u001b[39m\u001b[38;5;241m.\u001b[39m_convert_input(\u001b[38;5;28minput\u001b[39m)],\n\u001b[0;32m    288\u001b[0m             stop\u001b[38;5;241m=\u001b[39mstop,\n\u001b[0;32m    289\u001b[0m             callbacks\u001b[38;5;241m=\u001b[39mconfig\u001b[38;5;241m.\u001b[39mget(\u001b[38;5;124m\"\u001b[39m\u001b[38;5;124mcallbacks\u001b[39m\u001b[38;5;124m\"\u001b[39m),\n\u001b[0;32m    290\u001b[0m             tags\u001b[38;5;241m=\u001b[39mconfig\u001b[38;5;241m.\u001b[39mget(\u001b[38;5;124m\"\u001b[39m\u001b[38;5;124mtags\u001b[39m\u001b[38;5;124m\"\u001b[39m),\n\u001b[0;32m    291\u001b[0m             metadata\u001b[38;5;241m=\u001b[39mconfig\u001b[38;5;241m.\u001b[39mget(\u001b[38;5;124m\"\u001b[39m\u001b[38;5;124mmetadata\u001b[39m\u001b[38;5;124m\"\u001b[39m),\n\u001b[0;32m    292\u001b[0m             run_name\u001b[38;5;241m=\u001b[39mconfig\u001b[38;5;241m.\u001b[39mget(\u001b[38;5;124m\"\u001b[39m\u001b[38;5;124mrun_name\u001b[39m\u001b[38;5;124m\"\u001b[39m),\n\u001b[0;32m    293\u001b[0m             run_id\u001b[38;5;241m=\u001b[39mconfig\u001b[38;5;241m.\u001b[39mpop(\u001b[38;5;124m\"\u001b[39m\u001b[38;5;124mrun_id\u001b[39m\u001b[38;5;124m\"\u001b[39m, \u001b[38;5;28;01mNone\u001b[39;00m),\n\u001b[0;32m    294\u001b[0m             \u001b[38;5;241m*\u001b[39m\u001b[38;5;241m*\u001b[39mkwargs,\n\u001b[0;32m    295\u001b[0m         )\u001b[38;5;241m.\u001b[39mgenerations[\u001b[38;5;241m0\u001b[39m][\u001b[38;5;241m0\u001b[39m],\n\u001b[0;32m    296\u001b[0m     )\u001b[38;5;241m.\u001b[39mmessage\n",
      "File \u001b[1;32mc:\\ProgramData\\anaconda3\\envs\\py31012\\lib\\site-packages\\langchain_core\\language_models\\chat_models.py:786\u001b[0m, in \u001b[0;36mBaseChatModel.generate_prompt\u001b[1;34m(self, prompts, stop, callbacks, **kwargs)\u001b[0m\n\u001b[0;32m    778\u001b[0m \u001b[38;5;28;01mdef\u001b[39;00m \u001b[38;5;21mgenerate_prompt\u001b[39m(\n\u001b[0;32m    779\u001b[0m     \u001b[38;5;28mself\u001b[39m,\n\u001b[0;32m    780\u001b[0m     prompts: \u001b[38;5;28mlist\u001b[39m[PromptValue],\n\u001b[1;32m   (...)\u001b[0m\n\u001b[0;32m    783\u001b[0m     \u001b[38;5;241m*\u001b[39m\u001b[38;5;241m*\u001b[39mkwargs: Any,\n\u001b[0;32m    784\u001b[0m ) \u001b[38;5;241m-\u001b[39m\u001b[38;5;241m>\u001b[39m LLMResult:\n\u001b[0;32m    785\u001b[0m     prompt_messages \u001b[38;5;241m=\u001b[39m [p\u001b[38;5;241m.\u001b[39mto_messages() \u001b[38;5;28;01mfor\u001b[39;00m p \u001b[38;5;129;01min\u001b[39;00m prompts]\n\u001b[1;32m--> 786\u001b[0m     \u001b[38;5;28;01mreturn\u001b[39;00m \u001b[38;5;28mself\u001b[39m\u001b[38;5;241m.\u001b[39mgenerate(prompt_messages, stop\u001b[38;5;241m=\u001b[39mstop, callbacks\u001b[38;5;241m=\u001b[39mcallbacks, \u001b[38;5;241m*\u001b[39m\u001b[38;5;241m*\u001b[39mkwargs)\n",
      "File \u001b[1;32mc:\\ProgramData\\anaconda3\\envs\\py31012\\lib\\site-packages\\langchain_core\\language_models\\chat_models.py:643\u001b[0m, in \u001b[0;36mBaseChatModel.generate\u001b[1;34m(self, messages, stop, callbacks, tags, metadata, run_name, run_id, **kwargs)\u001b[0m\n\u001b[0;32m    641\u001b[0m         \u001b[38;5;28;01mif\u001b[39;00m run_managers:\n\u001b[0;32m    642\u001b[0m             run_managers[i]\u001b[38;5;241m.\u001b[39mon_llm_error(e, response\u001b[38;5;241m=\u001b[39mLLMResult(generations\u001b[38;5;241m=\u001b[39m[]))\n\u001b[1;32m--> 643\u001b[0m         \u001b[38;5;28;01mraise\u001b[39;00m e\n\u001b[0;32m    644\u001b[0m flattened_outputs \u001b[38;5;241m=\u001b[39m [\n\u001b[0;32m    645\u001b[0m     LLMResult(generations\u001b[38;5;241m=\u001b[39m[res\u001b[38;5;241m.\u001b[39mgenerations], llm_output\u001b[38;5;241m=\u001b[39mres\u001b[38;5;241m.\u001b[39mllm_output)  \u001b[38;5;66;03m# type: ignore[list-item]\u001b[39;00m\n\u001b[0;32m    646\u001b[0m     \u001b[38;5;28;01mfor\u001b[39;00m res \u001b[38;5;129;01min\u001b[39;00m results\n\u001b[0;32m    647\u001b[0m ]\n\u001b[0;32m    648\u001b[0m llm_output \u001b[38;5;241m=\u001b[39m \u001b[38;5;28mself\u001b[39m\u001b[38;5;241m.\u001b[39m_combine_llm_outputs([res\u001b[38;5;241m.\u001b[39mllm_output \u001b[38;5;28;01mfor\u001b[39;00m res \u001b[38;5;129;01min\u001b[39;00m results])\n",
      "File \u001b[1;32mc:\\ProgramData\\anaconda3\\envs\\py31012\\lib\\site-packages\\langchain_core\\language_models\\chat_models.py:633\u001b[0m, in \u001b[0;36mBaseChatModel.generate\u001b[1;34m(self, messages, stop, callbacks, tags, metadata, run_name, run_id, **kwargs)\u001b[0m\n\u001b[0;32m    630\u001b[0m \u001b[38;5;28;01mfor\u001b[39;00m i, m \u001b[38;5;129;01min\u001b[39;00m \u001b[38;5;28menumerate\u001b[39m(messages):\n\u001b[0;32m    631\u001b[0m     \u001b[38;5;28;01mtry\u001b[39;00m:\n\u001b[0;32m    632\u001b[0m         results\u001b[38;5;241m.\u001b[39mappend(\n\u001b[1;32m--> 633\u001b[0m             \u001b[38;5;28mself\u001b[39m\u001b[38;5;241m.\u001b[39m_generate_with_cache(\n\u001b[0;32m    634\u001b[0m                 m,\n\u001b[0;32m    635\u001b[0m                 stop\u001b[38;5;241m=\u001b[39mstop,\n\u001b[0;32m    636\u001b[0m                 run_manager\u001b[38;5;241m=\u001b[39mrun_managers[i] \u001b[38;5;28;01mif\u001b[39;00m run_managers \u001b[38;5;28;01melse\u001b[39;00m \u001b[38;5;28;01mNone\u001b[39;00m,\n\u001b[0;32m    637\u001b[0m                 \u001b[38;5;241m*\u001b[39m\u001b[38;5;241m*\u001b[39mkwargs,\n\u001b[0;32m    638\u001b[0m             )\n\u001b[0;32m    639\u001b[0m         )\n\u001b[0;32m    640\u001b[0m     \u001b[38;5;28;01mexcept\u001b[39;00m \u001b[38;5;167;01mBaseException\u001b[39;00m \u001b[38;5;28;01mas\u001b[39;00m e:\n\u001b[0;32m    641\u001b[0m         \u001b[38;5;28;01mif\u001b[39;00m run_managers:\n",
      "File \u001b[1;32mc:\\ProgramData\\anaconda3\\envs\\py31012\\lib\\site-packages\\langchain_core\\language_models\\chat_models.py:851\u001b[0m, in \u001b[0;36mBaseChatModel._generate_with_cache\u001b[1;34m(self, messages, stop, run_manager, **kwargs)\u001b[0m\n\u001b[0;32m    849\u001b[0m \u001b[38;5;28;01melse\u001b[39;00m:\n\u001b[0;32m    850\u001b[0m     \u001b[38;5;28;01mif\u001b[39;00m inspect\u001b[38;5;241m.\u001b[39msignature(\u001b[38;5;28mself\u001b[39m\u001b[38;5;241m.\u001b[39m_generate)\u001b[38;5;241m.\u001b[39mparameters\u001b[38;5;241m.\u001b[39mget(\u001b[38;5;124m\"\u001b[39m\u001b[38;5;124mrun_manager\u001b[39m\u001b[38;5;124m\"\u001b[39m):\n\u001b[1;32m--> 851\u001b[0m         result \u001b[38;5;241m=\u001b[39m \u001b[38;5;28mself\u001b[39m\u001b[38;5;241m.\u001b[39m_generate(\n\u001b[0;32m    852\u001b[0m             messages, stop\u001b[38;5;241m=\u001b[39mstop, run_manager\u001b[38;5;241m=\u001b[39mrun_manager, \u001b[38;5;241m*\u001b[39m\u001b[38;5;241m*\u001b[39mkwargs\n\u001b[0;32m    853\u001b[0m         )\n\u001b[0;32m    854\u001b[0m     \u001b[38;5;28;01melse\u001b[39;00m:\n\u001b[0;32m    855\u001b[0m         result \u001b[38;5;241m=\u001b[39m \u001b[38;5;28mself\u001b[39m\u001b[38;5;241m.\u001b[39m_generate(messages, stop\u001b[38;5;241m=\u001b[39mstop, \u001b[38;5;241m*\u001b[39m\u001b[38;5;241m*\u001b[39mkwargs)\n",
      "File \u001b[1;32m~\\AppData\\Roaming\\Python\\Python310\\site-packages\\langchain_google_genai\\chat_models.py:980\u001b[0m, in \u001b[0;36mChatGoogleGenerativeAI._generate\u001b[1;34m(self, messages, stop, run_manager, tools, functions, safety_settings, tool_config, generation_config, **kwargs)\u001b[0m\n\u001b[0;32m    958\u001b[0m \u001b[38;5;28;01mdef\u001b[39;00m \u001b[38;5;21m_generate\u001b[39m(\n\u001b[0;32m    959\u001b[0m     \u001b[38;5;28mself\u001b[39m,\n\u001b[0;32m    960\u001b[0m     messages: List[BaseMessage],\n\u001b[1;32m   (...)\u001b[0m\n\u001b[0;32m    969\u001b[0m     \u001b[38;5;241m*\u001b[39m\u001b[38;5;241m*\u001b[39mkwargs: Any,\n\u001b[0;32m    970\u001b[0m ) \u001b[38;5;241m-\u001b[39m\u001b[38;5;241m>\u001b[39m ChatResult:\n\u001b[0;32m    971\u001b[0m     request \u001b[38;5;241m=\u001b[39m \u001b[38;5;28mself\u001b[39m\u001b[38;5;241m.\u001b[39m_prepare_request(\n\u001b[0;32m    972\u001b[0m         messages,\n\u001b[0;32m    973\u001b[0m         stop\u001b[38;5;241m=\u001b[39mstop,\n\u001b[1;32m   (...)\u001b[0m\n\u001b[0;32m    978\u001b[0m         generation_config\u001b[38;5;241m=\u001b[39mgeneration_config,\n\u001b[0;32m    979\u001b[0m     )\n\u001b[1;32m--> 980\u001b[0m     response: GenerateContentResponse \u001b[38;5;241m=\u001b[39m _chat_with_retry(\n\u001b[0;32m    981\u001b[0m         request\u001b[38;5;241m=\u001b[39mrequest,\n\u001b[0;32m    982\u001b[0m         \u001b[38;5;241m*\u001b[39m\u001b[38;5;241m*\u001b[39mkwargs,\n\u001b[0;32m    983\u001b[0m         generation_method\u001b[38;5;241m=\u001b[39m\u001b[38;5;28mself\u001b[39m\u001b[38;5;241m.\u001b[39mclient\u001b[38;5;241m.\u001b[39mgenerate_content,\n\u001b[0;32m    984\u001b[0m         metadata\u001b[38;5;241m=\u001b[39m\u001b[38;5;28mself\u001b[39m\u001b[38;5;241m.\u001b[39mdefault_metadata,\n\u001b[0;32m    985\u001b[0m     )\n\u001b[0;32m    986\u001b[0m     \u001b[38;5;28;01mreturn\u001b[39;00m _response_to_result(response)\n",
      "File \u001b[1;32m~\\AppData\\Roaming\\Python\\Python310\\site-packages\\langchain_google_genai\\chat_models.py:205\u001b[0m, in \u001b[0;36m_chat_with_retry\u001b[1;34m(generation_method, **kwargs)\u001b[0m\n\u001b[0;32m    202\u001b[0m     \u001b[38;5;28;01mexcept\u001b[39;00m \u001b[38;5;167;01mException\u001b[39;00m \u001b[38;5;28;01mas\u001b[39;00m e:\n\u001b[0;32m    203\u001b[0m         \u001b[38;5;28;01mraise\u001b[39;00m e\n\u001b[1;32m--> 205\u001b[0m \u001b[38;5;28;01mreturn\u001b[39;00m _chat_with_retry(\u001b[38;5;241m*\u001b[39m\u001b[38;5;241m*\u001b[39mkwargs)\n",
      "File \u001b[1;32m~\\AppData\\Roaming\\Python\\Python310\\site-packages\\tenacity\\__init__.py:336\u001b[0m, in \u001b[0;36mBaseRetrying.wraps.<locals>.wrapped_f\u001b[1;34m(*args, **kw)\u001b[0m\n\u001b[0;32m    334\u001b[0m copy \u001b[38;5;241m=\u001b[39m \u001b[38;5;28mself\u001b[39m\u001b[38;5;241m.\u001b[39mcopy()\n\u001b[0;32m    335\u001b[0m wrapped_f\u001b[38;5;241m.\u001b[39mstatistics \u001b[38;5;241m=\u001b[39m copy\u001b[38;5;241m.\u001b[39mstatistics  \u001b[38;5;66;03m# type: ignore[attr-defined]\u001b[39;00m\n\u001b[1;32m--> 336\u001b[0m \u001b[38;5;28;01mreturn\u001b[39;00m copy(f, \u001b[38;5;241m*\u001b[39margs, \u001b[38;5;241m*\u001b[39m\u001b[38;5;241m*\u001b[39mkw)\n",
      "File \u001b[1;32m~\\AppData\\Roaming\\Python\\Python310\\site-packages\\tenacity\\__init__.py:475\u001b[0m, in \u001b[0;36mRetrying.__call__\u001b[1;34m(self, fn, *args, **kwargs)\u001b[0m\n\u001b[0;32m    473\u001b[0m retry_state \u001b[38;5;241m=\u001b[39m RetryCallState(retry_object\u001b[38;5;241m=\u001b[39m\u001b[38;5;28mself\u001b[39m, fn\u001b[38;5;241m=\u001b[39mfn, args\u001b[38;5;241m=\u001b[39margs, kwargs\u001b[38;5;241m=\u001b[39mkwargs)\n\u001b[0;32m    474\u001b[0m \u001b[38;5;28;01mwhile\u001b[39;00m \u001b[38;5;28;01mTrue\u001b[39;00m:\n\u001b[1;32m--> 475\u001b[0m     do \u001b[38;5;241m=\u001b[39m \u001b[38;5;28;43mself\u001b[39;49m\u001b[38;5;241;43m.\u001b[39;49m\u001b[43miter\u001b[49m\u001b[43m(\u001b[49m\u001b[43mretry_state\u001b[49m\u001b[38;5;241;43m=\u001b[39;49m\u001b[43mretry_state\u001b[49m\u001b[43m)\u001b[49m\n\u001b[0;32m    476\u001b[0m     \u001b[38;5;28;01mif\u001b[39;00m \u001b[38;5;28misinstance\u001b[39m(do, DoAttempt):\n\u001b[0;32m    477\u001b[0m         \u001b[38;5;28;01mtry\u001b[39;00m:\n",
      "File \u001b[1;32m~\\AppData\\Roaming\\Python\\Python310\\site-packages\\tenacity\\__init__.py:376\u001b[0m, in \u001b[0;36mBaseRetrying.iter\u001b[1;34m(self, retry_state)\u001b[0m\n\u001b[0;32m    374\u001b[0m result \u001b[38;5;241m=\u001b[39m \u001b[38;5;28;01mNone\u001b[39;00m\n\u001b[0;32m    375\u001b[0m \u001b[38;5;28;01mfor\u001b[39;00m action \u001b[38;5;129;01min\u001b[39;00m \u001b[38;5;28mself\u001b[39m\u001b[38;5;241m.\u001b[39miter_state\u001b[38;5;241m.\u001b[39mactions:\n\u001b[1;32m--> 376\u001b[0m     result \u001b[38;5;241m=\u001b[39m \u001b[43maction\u001b[49m\u001b[43m(\u001b[49m\u001b[43mretry_state\u001b[49m\u001b[43m)\u001b[49m\n\u001b[0;32m    377\u001b[0m \u001b[38;5;28;01mreturn\u001b[39;00m result\n",
      "File \u001b[1;32m~\\AppData\\Roaming\\Python\\Python310\\site-packages\\tenacity\\__init__.py:418\u001b[0m, in \u001b[0;36mBaseRetrying._post_stop_check_actions.<locals>.exc_check\u001b[1;34m(rs)\u001b[0m\n\u001b[0;32m    416\u001b[0m retry_exc \u001b[38;5;241m=\u001b[39m \u001b[38;5;28mself\u001b[39m\u001b[38;5;241m.\u001b[39mretry_error_cls(fut)\n\u001b[0;32m    417\u001b[0m \u001b[38;5;28;01mif\u001b[39;00m \u001b[38;5;28mself\u001b[39m\u001b[38;5;241m.\u001b[39mreraise:\n\u001b[1;32m--> 418\u001b[0m     \u001b[38;5;28;01mraise\u001b[39;00m \u001b[43mretry_exc\u001b[49m\u001b[38;5;241;43m.\u001b[39;49m\u001b[43mreraise\u001b[49m\u001b[43m(\u001b[49m\u001b[43m)\u001b[49m\n\u001b[0;32m    419\u001b[0m \u001b[38;5;28;01mraise\u001b[39;00m retry_exc \u001b[38;5;28;01mfrom\u001b[39;00m \u001b[38;5;21;01mfut\u001b[39;00m\u001b[38;5;21;01m.\u001b[39;00m\u001b[38;5;21;01mexception\u001b[39;00m()\n",
      "File \u001b[1;32m~\\AppData\\Roaming\\Python\\Python310\\site-packages\\tenacity\\__init__.py:185\u001b[0m, in \u001b[0;36mRetryError.reraise\u001b[1;34m(self)\u001b[0m\n\u001b[0;32m    183\u001b[0m \u001b[38;5;28;01mdef\u001b[39;00m \u001b[38;5;21mreraise\u001b[39m(\u001b[38;5;28mself\u001b[39m) \u001b[38;5;241m-\u001b[39m\u001b[38;5;241m>\u001b[39m t\u001b[38;5;241m.\u001b[39mNoReturn:\n\u001b[0;32m    184\u001b[0m     \u001b[38;5;28;01mif\u001b[39;00m \u001b[38;5;28mself\u001b[39m\u001b[38;5;241m.\u001b[39mlast_attempt\u001b[38;5;241m.\u001b[39mfailed:\n\u001b[1;32m--> 185\u001b[0m         \u001b[38;5;28;01mraise\u001b[39;00m \u001b[38;5;28;43mself\u001b[39;49m\u001b[38;5;241;43m.\u001b[39;49m\u001b[43mlast_attempt\u001b[49m\u001b[38;5;241;43m.\u001b[39;49m\u001b[43mresult\u001b[49m\u001b[43m(\u001b[49m\u001b[43m)\u001b[49m\n\u001b[0;32m    186\u001b[0m     \u001b[38;5;28;01mraise\u001b[39;00m \u001b[38;5;28mself\u001b[39m\n",
      "File \u001b[1;32mc:\\ProgramData\\anaconda3\\envs\\py31012\\lib\\concurrent\\futures\\_base.py:451\u001b[0m, in \u001b[0;36mFuture.result\u001b[1;34m(self, timeout)\u001b[0m\n\u001b[0;32m    449\u001b[0m     \u001b[38;5;28;01mraise\u001b[39;00m CancelledError()\n\u001b[0;32m    450\u001b[0m \u001b[38;5;28;01melif\u001b[39;00m \u001b[38;5;28mself\u001b[39m\u001b[38;5;241m.\u001b[39m_state \u001b[38;5;241m==\u001b[39m FINISHED:\n\u001b[1;32m--> 451\u001b[0m     \u001b[38;5;28;01mreturn\u001b[39;00m \u001b[38;5;28;43mself\u001b[39;49m\u001b[38;5;241;43m.\u001b[39;49m\u001b[43m__get_result\u001b[49m\u001b[43m(\u001b[49m\u001b[43m)\u001b[49m\n\u001b[0;32m    453\u001b[0m \u001b[38;5;28mself\u001b[39m\u001b[38;5;241m.\u001b[39m_condition\u001b[38;5;241m.\u001b[39mwait(timeout)\n\u001b[0;32m    455\u001b[0m \u001b[38;5;28;01mif\u001b[39;00m \u001b[38;5;28mself\u001b[39m\u001b[38;5;241m.\u001b[39m_state \u001b[38;5;129;01min\u001b[39;00m [CANCELLED, CANCELLED_AND_NOTIFIED]:\n",
      "File \u001b[1;32mc:\\ProgramData\\anaconda3\\envs\\py31012\\lib\\concurrent\\futures\\_base.py:403\u001b[0m, in \u001b[0;36mFuture.__get_result\u001b[1;34m(self)\u001b[0m\n\u001b[0;32m    401\u001b[0m \u001b[38;5;28;01mif\u001b[39;00m \u001b[38;5;28mself\u001b[39m\u001b[38;5;241m.\u001b[39m_exception:\n\u001b[0;32m    402\u001b[0m     \u001b[38;5;28;01mtry\u001b[39;00m:\n\u001b[1;32m--> 403\u001b[0m         \u001b[38;5;28;01mraise\u001b[39;00m \u001b[38;5;28mself\u001b[39m\u001b[38;5;241m.\u001b[39m_exception\n\u001b[0;32m    404\u001b[0m     \u001b[38;5;28;01mfinally\u001b[39;00m:\n\u001b[0;32m    405\u001b[0m         \u001b[38;5;66;03m# Break a reference cycle with the exception in self._exception\u001b[39;00m\n\u001b[0;32m    406\u001b[0m         \u001b[38;5;28mself\u001b[39m \u001b[38;5;241m=\u001b[39m \u001b[38;5;28;01mNone\u001b[39;00m\n",
      "File \u001b[1;32m~\\AppData\\Roaming\\Python\\Python310\\site-packages\\tenacity\\__init__.py:478\u001b[0m, in \u001b[0;36mRetrying.__call__\u001b[1;34m(self, fn, *args, **kwargs)\u001b[0m\n\u001b[0;32m    476\u001b[0m \u001b[38;5;28;01mif\u001b[39;00m \u001b[38;5;28misinstance\u001b[39m(do, DoAttempt):\n\u001b[0;32m    477\u001b[0m     \u001b[38;5;28;01mtry\u001b[39;00m:\n\u001b[1;32m--> 478\u001b[0m         result \u001b[38;5;241m=\u001b[39m fn(\u001b[38;5;241m*\u001b[39margs, \u001b[38;5;241m*\u001b[39m\u001b[38;5;241m*\u001b[39mkwargs)\n\u001b[0;32m    479\u001b[0m     \u001b[38;5;28;01mexcept\u001b[39;00m \u001b[38;5;167;01mBaseException\u001b[39;00m:  \u001b[38;5;66;03m# noqa: B902\u001b[39;00m\n\u001b[0;32m    480\u001b[0m         retry_state\u001b[38;5;241m.\u001b[39mset_exception(sys\u001b[38;5;241m.\u001b[39mexc_info())  \u001b[38;5;66;03m# type: ignore[arg-type]\u001b[39;00m\n",
      "File \u001b[1;32m~\\AppData\\Roaming\\Python\\Python310\\site-packages\\langchain_google_genai\\chat_models.py:203\u001b[0m, in \u001b[0;36m_chat_with_retry.<locals>._chat_with_retry\u001b[1;34m(**kwargs)\u001b[0m\n\u001b[0;32m    199\u001b[0m     \u001b[38;5;28;01mraise\u001b[39;00m ChatGoogleGenerativeAIError(\n\u001b[0;32m    200\u001b[0m         \u001b[38;5;124mf\u001b[39m\u001b[38;5;124m\"\u001b[39m\u001b[38;5;124mInvalid argument provided to Gemini: \u001b[39m\u001b[38;5;132;01m{\u001b[39;00me\u001b[38;5;132;01m}\u001b[39;00m\u001b[38;5;124m\"\u001b[39m\n\u001b[0;32m    201\u001b[0m     ) \u001b[38;5;28;01mfrom\u001b[39;00m \u001b[38;5;21;01me\u001b[39;00m\n\u001b[0;32m    202\u001b[0m \u001b[38;5;28;01mexcept\u001b[39;00m \u001b[38;5;167;01mException\u001b[39;00m \u001b[38;5;28;01mas\u001b[39;00m e:\n\u001b[1;32m--> 203\u001b[0m     \u001b[38;5;28;01mraise\u001b[39;00m e\n",
      "File \u001b[1;32m~\\AppData\\Roaming\\Python\\Python310\\site-packages\\langchain_google_genai\\chat_models.py:187\u001b[0m, in \u001b[0;36m_chat_with_retry.<locals>._chat_with_retry\u001b[1;34m(**kwargs)\u001b[0m\n\u001b[0;32m    184\u001b[0m \u001b[38;5;129m@retry_decorator\u001b[39m\n\u001b[0;32m    185\u001b[0m \u001b[38;5;28;01mdef\u001b[39;00m \u001b[38;5;21m_chat_with_retry\u001b[39m(\u001b[38;5;241m*\u001b[39m\u001b[38;5;241m*\u001b[39mkwargs: Any) \u001b[38;5;241m-\u001b[39m\u001b[38;5;241m>\u001b[39m Any:\n\u001b[0;32m    186\u001b[0m     \u001b[38;5;28;01mtry\u001b[39;00m:\n\u001b[1;32m--> 187\u001b[0m         \u001b[38;5;28;01mreturn\u001b[39;00m generation_method(\u001b[38;5;241m*\u001b[39m\u001b[38;5;241m*\u001b[39mkwargs)\n\u001b[0;32m    188\u001b[0m     \u001b[38;5;66;03m# Do not retry for these errors.\u001b[39;00m\n\u001b[0;32m    189\u001b[0m     \u001b[38;5;28;01mexcept\u001b[39;00m google\u001b[38;5;241m.\u001b[39mapi_core\u001b[38;5;241m.\u001b[39mexceptions\u001b[38;5;241m.\u001b[39mFailedPrecondition \u001b[38;5;28;01mas\u001b[39;00m exc:\n",
      "File \u001b[1;32m~\\AppData\\Roaming\\Python\\Python310\\site-packages\\google\\ai\\generativelanguage_v1beta\\services\\generative_service\\client.py:830\u001b[0m, in \u001b[0;36mGenerativeServiceClient.generate_content\u001b[1;34m(self, request, model, contents, retry, timeout, metadata)\u001b[0m\n\u001b[0;32m    827\u001b[0m \u001b[38;5;28mself\u001b[39m\u001b[38;5;241m.\u001b[39m_validate_universe_domain()\n\u001b[0;32m    829\u001b[0m \u001b[38;5;66;03m# Send the request.\u001b[39;00m\n\u001b[1;32m--> 830\u001b[0m response \u001b[38;5;241m=\u001b[39m \u001b[43mrpc\u001b[49m\u001b[43m(\u001b[49m\n\u001b[0;32m    831\u001b[0m \u001b[43m    \u001b[49m\u001b[43mrequest\u001b[49m\u001b[43m,\u001b[49m\n\u001b[0;32m    832\u001b[0m \u001b[43m    \u001b[49m\u001b[43mretry\u001b[49m\u001b[38;5;241;43m=\u001b[39;49m\u001b[43mretry\u001b[49m\u001b[43m,\u001b[49m\n\u001b[0;32m    833\u001b[0m \u001b[43m    \u001b[49m\u001b[43mtimeout\u001b[49m\u001b[38;5;241;43m=\u001b[39;49m\u001b[43mtimeout\u001b[49m\u001b[43m,\u001b[49m\n\u001b[0;32m    834\u001b[0m \u001b[43m    \u001b[49m\u001b[43mmetadata\u001b[49m\u001b[38;5;241;43m=\u001b[39;49m\u001b[43mmetadata\u001b[49m\u001b[43m,\u001b[49m\n\u001b[0;32m    835\u001b[0m \u001b[43m\u001b[49m\u001b[43m)\u001b[49m\n\u001b[0;32m    837\u001b[0m \u001b[38;5;66;03m# Done; return the response.\u001b[39;00m\n\u001b[0;32m    838\u001b[0m \u001b[38;5;28;01mreturn\u001b[39;00m response\n",
      "File \u001b[1;32m~\\AppData\\Roaming\\Python\\Python310\\site-packages\\google\\api_core\\gapic_v1\\method.py:131\u001b[0m, in \u001b[0;36m_GapicCallable.__call__\u001b[1;34m(self, timeout, retry, compression, *args, **kwargs)\u001b[0m\n\u001b[0;32m    128\u001b[0m \u001b[38;5;28;01mif\u001b[39;00m \u001b[38;5;28mself\u001b[39m\u001b[38;5;241m.\u001b[39m_compression \u001b[38;5;129;01mis\u001b[39;00m \u001b[38;5;129;01mnot\u001b[39;00m \u001b[38;5;28;01mNone\u001b[39;00m:\n\u001b[0;32m    129\u001b[0m     kwargs[\u001b[38;5;124m\"\u001b[39m\u001b[38;5;124mcompression\u001b[39m\u001b[38;5;124m\"\u001b[39m] \u001b[38;5;241m=\u001b[39m compression\n\u001b[1;32m--> 131\u001b[0m \u001b[38;5;28;01mreturn\u001b[39;00m wrapped_func(\u001b[38;5;241m*\u001b[39margs, \u001b[38;5;241m*\u001b[39m\u001b[38;5;241m*\u001b[39mkwargs)\n",
      "File \u001b[1;32m~\\AppData\\Roaming\\Python\\Python310\\site-packages\\google\\api_core\\retry\\retry_unary.py:293\u001b[0m, in \u001b[0;36mRetry.__call__.<locals>.retry_wrapped_func\u001b[1;34m(*args, **kwargs)\u001b[0m\n\u001b[0;32m    289\u001b[0m target \u001b[38;5;241m=\u001b[39m functools\u001b[38;5;241m.\u001b[39mpartial(func, \u001b[38;5;241m*\u001b[39margs, \u001b[38;5;241m*\u001b[39m\u001b[38;5;241m*\u001b[39mkwargs)\n\u001b[0;32m    290\u001b[0m sleep_generator \u001b[38;5;241m=\u001b[39m exponential_sleep_generator(\n\u001b[0;32m    291\u001b[0m     \u001b[38;5;28mself\u001b[39m\u001b[38;5;241m.\u001b[39m_initial, \u001b[38;5;28mself\u001b[39m\u001b[38;5;241m.\u001b[39m_maximum, multiplier\u001b[38;5;241m=\u001b[39m\u001b[38;5;28mself\u001b[39m\u001b[38;5;241m.\u001b[39m_multiplier\n\u001b[0;32m    292\u001b[0m )\n\u001b[1;32m--> 293\u001b[0m \u001b[38;5;28;01mreturn\u001b[39;00m \u001b[43mretry_target\u001b[49m\u001b[43m(\u001b[49m\n\u001b[0;32m    294\u001b[0m \u001b[43m    \u001b[49m\u001b[43mtarget\u001b[49m\u001b[43m,\u001b[49m\n\u001b[0;32m    295\u001b[0m \u001b[43m    \u001b[49m\u001b[38;5;28;43mself\u001b[39;49m\u001b[38;5;241;43m.\u001b[39;49m\u001b[43m_predicate\u001b[49m\u001b[43m,\u001b[49m\n\u001b[0;32m    296\u001b[0m \u001b[43m    \u001b[49m\u001b[43msleep_generator\u001b[49m\u001b[43m,\u001b[49m\n\u001b[0;32m    297\u001b[0m \u001b[43m    \u001b[49m\u001b[43mtimeout\u001b[49m\u001b[38;5;241;43m=\u001b[39;49m\u001b[38;5;28;43mself\u001b[39;49m\u001b[38;5;241;43m.\u001b[39;49m\u001b[43m_timeout\u001b[49m\u001b[43m,\u001b[49m\n\u001b[0;32m    298\u001b[0m \u001b[43m    \u001b[49m\u001b[43mon_error\u001b[49m\u001b[38;5;241;43m=\u001b[39;49m\u001b[43mon_error\u001b[49m\u001b[43m,\u001b[49m\n\u001b[0;32m    299\u001b[0m \u001b[43m\u001b[49m\u001b[43m)\u001b[49m\n",
      "File \u001b[1;32m~\\AppData\\Roaming\\Python\\Python310\\site-packages\\google\\api_core\\retry\\retry_unary.py:153\u001b[0m, in \u001b[0;36mretry_target\u001b[1;34m(target, predicate, sleep_generator, timeout, on_error, exception_factory, **kwargs)\u001b[0m\n\u001b[0;32m    149\u001b[0m \u001b[38;5;66;03m# pylint: disable=broad-except\u001b[39;00m\n\u001b[0;32m    150\u001b[0m \u001b[38;5;66;03m# This function explicitly must deal with broad exceptions.\u001b[39;00m\n\u001b[0;32m    151\u001b[0m \u001b[38;5;28;01mexcept\u001b[39;00m \u001b[38;5;167;01mException\u001b[39;00m \u001b[38;5;28;01mas\u001b[39;00m exc:\n\u001b[0;32m    152\u001b[0m     \u001b[38;5;66;03m# defer to shared logic for handling errors\u001b[39;00m\n\u001b[1;32m--> 153\u001b[0m     \u001b[43m_retry_error_helper\u001b[49m\u001b[43m(\u001b[49m\n\u001b[0;32m    154\u001b[0m \u001b[43m        \u001b[49m\u001b[43mexc\u001b[49m\u001b[43m,\u001b[49m\n\u001b[0;32m    155\u001b[0m \u001b[43m        \u001b[49m\u001b[43mdeadline\u001b[49m\u001b[43m,\u001b[49m\n\u001b[0;32m    156\u001b[0m \u001b[43m        \u001b[49m\u001b[43msleep\u001b[49m\u001b[43m,\u001b[49m\n\u001b[0;32m    157\u001b[0m \u001b[43m        \u001b[49m\u001b[43merror_list\u001b[49m\u001b[43m,\u001b[49m\n\u001b[0;32m    158\u001b[0m \u001b[43m        \u001b[49m\u001b[43mpredicate\u001b[49m\u001b[43m,\u001b[49m\n\u001b[0;32m    159\u001b[0m \u001b[43m        \u001b[49m\u001b[43mon_error\u001b[49m\u001b[43m,\u001b[49m\n\u001b[0;32m    160\u001b[0m \u001b[43m        \u001b[49m\u001b[43mexception_factory\u001b[49m\u001b[43m,\u001b[49m\n\u001b[0;32m    161\u001b[0m \u001b[43m        \u001b[49m\u001b[43mtimeout\u001b[49m\u001b[43m,\u001b[49m\n\u001b[0;32m    162\u001b[0m \u001b[43m    \u001b[49m\u001b[43m)\u001b[49m\n\u001b[0;32m    163\u001b[0m     \u001b[38;5;66;03m# if exception not raised, sleep before next attempt\u001b[39;00m\n\u001b[0;32m    164\u001b[0m     time\u001b[38;5;241m.\u001b[39msleep(sleep)\n",
      "File \u001b[1;32m~\\AppData\\Roaming\\Python\\Python310\\site-packages\\google\\api_core\\retry\\retry_base.py:212\u001b[0m, in \u001b[0;36m_retry_error_helper\u001b[1;34m(exc, deadline, next_sleep, error_list, predicate_fn, on_error_fn, exc_factory_fn, original_timeout)\u001b[0m\n\u001b[0;32m    206\u001b[0m \u001b[38;5;28;01mif\u001b[39;00m \u001b[38;5;129;01mnot\u001b[39;00m predicate_fn(exc):\n\u001b[0;32m    207\u001b[0m     final_exc, source_exc \u001b[38;5;241m=\u001b[39m exc_factory_fn(\n\u001b[0;32m    208\u001b[0m         error_list,\n\u001b[0;32m    209\u001b[0m         RetryFailureReason\u001b[38;5;241m.\u001b[39mNON_RETRYABLE_ERROR,\n\u001b[0;32m    210\u001b[0m         original_timeout,\n\u001b[0;32m    211\u001b[0m     )\n\u001b[1;32m--> 212\u001b[0m     \u001b[38;5;28;01mraise\u001b[39;00m final_exc \u001b[38;5;28;01mfrom\u001b[39;00m \u001b[38;5;21;01msource_exc\u001b[39;00m\n\u001b[0;32m    213\u001b[0m \u001b[38;5;28;01mif\u001b[39;00m on_error_fn \u001b[38;5;129;01mis\u001b[39;00m \u001b[38;5;129;01mnot\u001b[39;00m \u001b[38;5;28;01mNone\u001b[39;00m:\n\u001b[0;32m    214\u001b[0m     on_error_fn(exc)\n",
      "File \u001b[1;32m~\\AppData\\Roaming\\Python\\Python310\\site-packages\\google\\api_core\\retry\\retry_unary.py:144\u001b[0m, in \u001b[0;36mretry_target\u001b[1;34m(target, predicate, sleep_generator, timeout, on_error, exception_factory, **kwargs)\u001b[0m\n\u001b[0;32m    142\u001b[0m \u001b[38;5;28;01mfor\u001b[39;00m sleep \u001b[38;5;129;01min\u001b[39;00m sleep_generator:\n\u001b[0;32m    143\u001b[0m     \u001b[38;5;28;01mtry\u001b[39;00m:\n\u001b[1;32m--> 144\u001b[0m         result \u001b[38;5;241m=\u001b[39m \u001b[43mtarget\u001b[49m\u001b[43m(\u001b[49m\u001b[43m)\u001b[49m\n\u001b[0;32m    145\u001b[0m         \u001b[38;5;28;01mif\u001b[39;00m inspect\u001b[38;5;241m.\u001b[39misawaitable(result):\n\u001b[0;32m    146\u001b[0m             warnings\u001b[38;5;241m.\u001b[39mwarn(_ASYNC_RETRY_WARNING)\n",
      "File \u001b[1;32m~\\AppData\\Roaming\\Python\\Python310\\site-packages\\google\\api_core\\timeout.py:120\u001b[0m, in \u001b[0;36mTimeToDeadlineTimeout.__call__.<locals>.func_with_timeout\u001b[1;34m(*args, **kwargs)\u001b[0m\n\u001b[0;32m    117\u001b[0m     \u001b[38;5;66;03m# Avoid setting negative timeout\u001b[39;00m\n\u001b[0;32m    118\u001b[0m     kwargs[\u001b[38;5;124m\"\u001b[39m\u001b[38;5;124mtimeout\u001b[39m\u001b[38;5;124m\"\u001b[39m] \u001b[38;5;241m=\u001b[39m \u001b[38;5;28mmax\u001b[39m(\u001b[38;5;241m0\u001b[39m, \u001b[38;5;28mself\u001b[39m\u001b[38;5;241m.\u001b[39m_timeout \u001b[38;5;241m-\u001b[39m time_since_first_attempt)\n\u001b[1;32m--> 120\u001b[0m \u001b[38;5;28;01mreturn\u001b[39;00m func(\u001b[38;5;241m*\u001b[39margs, \u001b[38;5;241m*\u001b[39m\u001b[38;5;241m*\u001b[39mkwargs)\n",
      "File \u001b[1;32m~\\AppData\\Roaming\\Python\\Python310\\site-packages\\google\\api_core\\grpc_helpers.py:78\u001b[0m, in \u001b[0;36m_wrap_unary_errors.<locals>.error_remapped_callable\u001b[1;34m(*args, **kwargs)\u001b[0m\n\u001b[0;32m     76\u001b[0m     \u001b[38;5;28;01mreturn\u001b[39;00m callable_(\u001b[38;5;241m*\u001b[39margs, \u001b[38;5;241m*\u001b[39m\u001b[38;5;241m*\u001b[39mkwargs)\n\u001b[0;32m     77\u001b[0m \u001b[38;5;28;01mexcept\u001b[39;00m grpc\u001b[38;5;241m.\u001b[39mRpcError \u001b[38;5;28;01mas\u001b[39;00m exc:\n\u001b[1;32m---> 78\u001b[0m     \u001b[38;5;28;01mraise\u001b[39;00m exceptions\u001b[38;5;241m.\u001b[39mfrom_grpc_error(exc) \u001b[38;5;28;01mfrom\u001b[39;00m \u001b[38;5;21;01mexc\u001b[39;00m\n",
      "\u001b[1;31mResourceExhausted\u001b[0m: 429 Resource has been exhausted (e.g. check quota)."
     ]
    }
   ],
   "source": [
    "while True:\n",
    "    user_input = input(\"User: \")\n",
    "    if user_input.lower() in ['quit','exit','q']:\n",
    "        print('Good bye')\n",
    "        break\n",
    "    else:\n",
    "        for event in graph3.stream({'messages': ('user',user_input)}):\n",
    "            print(event['chatbot_new']['messages'].content)"
   ]
  },
  {
   "cell_type": "code",
   "execution_count": 49,
   "metadata": {},
   "outputs": [
    {
     "name": "stdout",
     "output_type": "stream",
     "text": [
      "User Message : 안녕\n",
      "Assistant : 안녕하세요! 무엇을 도와드릴까요?\n",
      "\n",
      "User Message : 안녕\n",
      "Assistant : 안녕하세요! 무엇을 도와드릴까요?\n",
      "\n",
      "User Message : gemini api 사용방법에 대해서 설명해 줘\n",
      "Assistant : Gemini API 사용 방법에 대해 설명드리겠습니다. Gemini API는 Google에서 개발한 대규모 언어 모델입니다. 이 API를 사용하면 텍스트 생성, 번역, 다양한 종류의 창의적인 콘텐츠 작성, 정보 질문에 대한 포괄적이고 유익한 답변을 얻을 수 있습니다.\n",
      "\n",
      "**1. Google Cloud 프로젝트 설정 및 API 활성화:**\n",
      "\n",
      "* Google Cloud Platform(GCP) 계정이 없다면 생성합니다. (https://cloud.google.com/)\n",
      "* GCP 콘솔에서 새 프로젝트를 만들거나 기존 프로젝트를 사용합니다.\n",
      "* 프로젝트에서 Gemini API를 활성화합니다.  GCP 콘솔의 검색창에서 \"Vertex AI API\"를 검색하고 활성화합니다. Gemini API는 Vertex AI의 일부입니다.\n",
      "* 필요한 경우 결제 정보를 설정합니다. Gemini API 사용량에 따라 요금이 부과될 수 있습니다.\n",
      "\n",
      "**2. API 키 생성:**\n",
      "\n",
      "* GCP 콘솔에서 \"API 및 서비스\" > \"사용자 인증 정보\"로 이동합니다.\n",
      "* \"사용자 인증 정보 만들기\"를 클릭하고 \"API 키\"를 선택합니다.\n",
      "* 생성된 API 키를 안전하게 저장합니다.  이 키는 API에 접근하는 데 필요한 중요한 정보입니다.\n",
      "\n",
      "**3. 클라이언트 라이브러리 설치 (선택적, 권장):**\n",
      "\n",
      "* Google에서 제공하는 Python 클라이언트 라이브러리를 사용하면 API 호출을 더 쉽게 할 수 있습니다.\n",
      "* `pip install google-cloud-aiplatform` 명령어를 사용하여 라이브러리를 설치합니다.  다른 언어에 대한 라이브러리도 제공됩니다.\n",
      "\n",
      "**4. API 호출:**\n",
      "\n",
      "API를 호출하는 방법은 두 가지가 있습니다:\n",
      "\n",
      "* **REST API:**  HTTP 요청을 직접 사용하여 API를 호출할 수 있습니다.  API 키는 `Authorization` 헤더에 포함되어야 합니다.  자세한 내용은 Gemini API 문서의 REST API 섹션을 참조하세요.\n",
      "\n",
      "* **클라이언트 라이브러리:**  Python 클라이언트 라이브러리를 사용하는 예시입니다.\n",
      "\n",
      "```python\n",
      "from google.cloud import aiplatform\n",
      "\n",
      "# 프로젝트 ID 설정\n",
      "aiplatform.init(project=\"your-project-id\")\n",
      "\n",
      "# 모델 선택 (예: text-bison@001)\n",
      "model = aiplatform.Model(\"models/text-bison-001\")\n",
      "\n",
      "# 프롬프트 설정\n",
      "prompt = \"한국어로 자기소개를 해줘.\"\n",
      "\n",
      "# API 호출\n",
      "response = model.predict(prompt=prompt)\n",
      "\n",
      "# 결과 출력\n",
      "print(response.predictions[0].content)\n",
      "```\n",
      "\n",
      "**5. 파라미터 설정:**\n",
      "\n",
      "API 호출 시 다양한 파라미터를 설정하여 결과를 조정할 수 있습니다.  예를 들어 `temperature` 파라미터는 생성되는 텍스트의 창의성을 조절하고, `max_output_tokens` 파라미터는 생성되는 텍스트의 최대 길이를 제한합니다.  자세한 내용은 Gemini API 문서를 참조하세요.\n",
      "\n",
      "\n",
      "**핵심 요약:**\n",
      "\n",
      "* Google Cloud 프로젝트 설정 및 API 활성화\n",
      "* API 키 생성 및 안전하게 보관\n",
      "* 클라이언트 라이브러리 설치 (권장)\n",
      "* REST API 또는 클라이언트 라이브러리를 사용하여 API 호출\n",
      "* 파라미터 설정을 통해 결과 조정\n",
      "\n",
      "**추가 정보:**\n",
      "\n",
      "* **Gemini API 공식 문서:**  가장 정확하고 최신 정보를 얻을 수 있는 곳입니다.  모델 선택, 파라미터 설정 등에 대한 자세한 설명을 제공합니다.\n",
      "* **Google Cloud Platform 콘솔:**  API 활성화, 키 생성, 사용량 확인 등을 할 수 있습니다.\n",
      "\n",
      "Gemini API를 사용하여 다양한 작업을 수행할 수 있습니다.  문서와 예제 코드를 참고하여 원하는 기능을 구현해 보세요.  궁금한 점이 있다면 다시 질문해주세요.\n",
      "\n",
      "Good bye\n"
     ]
    }
   ],
   "source": [
    "while True:\n",
    "    user_input = input(\"User: \")\n",
    "    if user_input.lower() in ['quit','exit','q']:\n",
    "        print('Good bye')\n",
    "        break\n",
    "    else:\n",
    "        for event in graph3.stream({'messages': ('user',user_input)}):\n",
    "            print(f\"User Message : {user_input}\")\n",
    "            print(f\"Assistant : {event['chatbot_new']['messages'].content}\")"
   ]
  },
  {
   "cell_type": "markdown",
   "metadata": {},
   "source": [
    "### MessageState 활용하기"
   ]
  },
  {
   "cell_type": "code",
   "execution_count": 50,
   "metadata": {},
   "outputs": [],
   "source": [
    "from typing_extensions import TypedDict \n",
    "#typing이나 typing_extensions나 동일하게 동작하나 langgraph 공식 문서에서는 typing_extensions에서 갖고 온다\n",
    "from typing import Annotated\n",
    "\n",
    "from langgraph.graph import StateGraph, START, END, MessagesState\n",
    "from langgraph.graph.message import add_messages\n",
    "import operator\n",
    "\n",
    "from langchain_google_genai import ChatGoogleGenerativeAI\n",
    "\n",
    "from dotenv import load_dotenv\n",
    "import os"
   ]
  },
  {
   "cell_type": "code",
   "execution_count": 51,
   "metadata": {},
   "outputs": [
    {
     "data": {
      "text/plain": [
       "True"
      ]
     },
     "execution_count": 51,
     "metadata": {},
     "output_type": "execute_result"
    }
   ],
   "source": [
    "# .env 파일 로드(api key load)\n",
    "load_dotenv()"
   ]
  },
  {
   "cell_type": "code",
   "execution_count": 52,
   "metadata": {},
   "outputs": [],
   "source": [
    "#langsmith Setting\n",
    "os.environ[\"LANGCHAIN_TRACING_V2\"] = \"true\"\n",
    "os.environ[\"LANGCHAIN_ENDPOINT\"] = \"https://api.smith.langchain.com\" \n",
    "os.environ[\"LANGCHAIN_PROJECT\"] = \"langsmith_basic\"                 #표시될 PJT명 Setting\n",
    "#os.environ[\"LANGCHAIN_API_KEY\"] = \"lsv2_***\"                        *.env로 setting\n",
    "from langsmith import Client\n",
    "client = Client()"
   ]
  },
  {
   "cell_type": "code",
   "execution_count": 53,
   "metadata": {},
   "outputs": [],
   "source": [
    "#add_messages의 메타 data를 갖는 list 형태의 message dict인 State를 MessagesState로 정의된 lib 사용\n",
    "\n",
    "graph_builder4 = StateGraph(MessagesState)"
   ]
  },
  {
   "cell_type": "code",
   "execution_count": 54,
   "metadata": {},
   "outputs": [],
   "source": [
    "llm = ChatGoogleGenerativeAI(model='gemini-1.5-pro', temperature= 0)"
   ]
  },
  {
   "cell_type": "code",
   "execution_count": 56,
   "metadata": {},
   "outputs": [],
   "source": [
    "def chatbot4(state: MessagesState):                             #State3(typedict)를 입력받아 내부 변수인 state로 만든다.\n",
    "    return {\"messages\" : llm.invoke(state['messages'])} #state(typedict)의 'messages' key값을 llm에 invoke한다."
   ]
  },
  {
   "cell_type": "code",
   "execution_count": 57,
   "metadata": {},
   "outputs": [
    {
     "data": {
      "text/plain": [
       "<langgraph.graph.state.StateGraph at 0x18b287e1630>"
      ]
     },
     "execution_count": 57,
     "metadata": {},
     "output_type": "execute_result"
    }
   ],
   "source": [
    "graph_builder4.add_node('chatbot_new4', chatbot4) # chatbot_new 이름의 노드를 만들고 노드 함수는 chatbot 사용\n",
    "\n",
    "graph_builder4.set_entry_point('chatbot_new4') #graph에서 start지점 설정하기\n",
    "graph_builder4.set_finish_point('chatbot_new4') #graph에서 finish지점 설정하기기"
   ]
  },
  {
   "cell_type": "code",
   "execution_count": 59,
   "metadata": {},
   "outputs": [],
   "source": [
    "graph4 = graph_builder4.compile() #graph4로 compilie하기"
   ]
  },
  {
   "cell_type": "code",
   "execution_count": 60,
   "metadata": {},
   "outputs": [
    {
     "data": {
      "image/png": "[encoded data removed]",
      "text/plain": [
       "<IPython.core.display.Image object>"
      ]
     },
     "metadata": {},
     "output_type": "display_data"
    }
   ],
   "source": [
    "from IPython.display import Image, display\n",
    "\n",
    "try:\n",
    "    display(Image(graph4.get_graph().draw_mermaid_png()))\n",
    "except Exception:\n",
    "    print('langgraph가 만들어지지 않았습니다.')\n",
    "    pass"
   ]
  },
  {
   "cell_type": "code",
   "execution_count": 62,
   "metadata": {},
   "outputs": [
    {
     "name": "stdout",
     "output_type": "stream",
     "text": [
      "안녕하세요! 무엇을 도와드릴까요?\n",
      "\n",
      "저는 Google에서 훈련한 대규모 언어 모델입니다.\n",
      "RTX 4090은 현재 소비자용 그래픽 카드 중 최상위 모델 중 하나로, 압도적인 성능을 자랑합니다. 주요 특징과 성능은 다음과 같습니다:\n",
      "\n",
      "**주요 특징:**\n",
      "\n",
      "* **아키텍처:** NVIDIA Ada Lovelace\n",
      "* **CUDA 코어:** 16,384개\n",
      "* **부스트 클럭:** 2.52 GHz\n",
      "* **메모리:** 24GB GDDR6X\n",
      "* **메모리 인터페이스:** 384-bit\n",
      "* **TDP:** 450W\n",
      "\n",
      "**성능:**\n",
      "\n",
      "* **4K 게이밍:** 대부분의 게임에서 4K 해상도와 최고 옵션 설정으로 60fps 이상을 안정적으로 유지할 수 있습니다. 레이 트레이싱 및 DLSS 3와 같은 고급 기술을 활성화해도 높은 프레임률을 제공합니다.  특히 DLSS 3는 프레임 생성 기술을 통해 이전 세대 대비 2~4배의 성능 향상을 보여줍니다.\n",
      "* **8K 게이밍:** DLSS 3와 같은 업스케일링 기술을 활용하면 8K 해상도에서도 플레이 가능한 수준의 성능을 제공합니다. 하지만 네이티브 8K 게이밍은 아직 완벽하게 지원되지 않습니다.\n",
      "* **VR:** 최고 수준의 VR 경험을 제공합니다. 높은 해상도와 부드러운 프레임률로 몰입감 있는 VR 게임을 즐길 수 있습니다.\n",
      "* **콘텐츠 제작:** 3D 모델링, 비디오 편집, 그래픽 디자인 등 콘텐츠 제작 작업에서도 뛰어난 성능을 발휘합니다. 복잡한 작업을 빠르게 처리하고 렌더링 시간을 단축시켜 생산성을 향상시킵니다.\n",
      "* **레이 트레이싱:** 2세대 RT 코어를 탑재하여 더욱 사실적인 레이 트레이싱 효과를 제공합니다. 이전 세대보다 향상된 성능으로 더욱 몰입감 있는 게임 경험을 제공합니다.\n",
      "* **DLSS 3:** 새로운 프레임 생성 기술을 통해 프레임률을 크게 향상시킵니다. 이 기술은 게임의 성능을 획기적으로 개선하여 더욱 부드럽고 쾌적한 게임 플레이를 가능하게 합니다.\n",
      "\n",
      "**장점:**\n",
      "\n",
      "* 최상급 게이밍 성능\n",
      "* 뛰어난 레이 트레이싱 성능\n",
      "* DLSS 3 지원\n",
      "* 콘텐츠 제작에 적합\n",
      "\n",
      "**단점:**\n",
      "\n",
      "* 높은 가격\n",
      "* 높은 전력 소모\n",
      "* 큰 크기\n",
      "\n",
      "\n",
      "RTX 4090은 최고의 성능을 원하는 게이머와 콘텐츠 제작자에게 최고의 선택이지만, 높은 가격과 전력 소모를 고려해야 합니다.  자신의 예산과 시스템 구성에 맞춰 신중하게 선택하는 것이 중요합니다.\n",
      "\n",
      "Good bye\n"
     ]
    }
   ],
   "source": [
    "while True:\n",
    "    user_input = input(\"User: \")\n",
    "    if user_input.lower() in ['quit','exit','q']:\n",
    "        print('Good bye')\n",
    "        break\n",
    "    else:\n",
    "        for event in graph4.stream({'messages': ('user',user_input)}):\n",
    "            print(event['chatbot_new4']['messages'].content)"
   ]
  },
  {
   "cell_type": "code",
   "execution_count": 64,
   "metadata": {},
   "outputs": [
    {
     "name": "stdout",
     "output_type": "stream",
     "text": [
      "User Message : rtx4050과 rtx4060의 게이밍 성능을 비교해 줘\n",
      "Assistant : RTX 4050과 RTX 4060의 게이밍 성능 차이는 눈에 띄는 수준입니다. RTX 4060이 거의 모든 면에서 RTX 4050보다 우수한 성능을 보여줍니다.  평균적으로 RTX 4060은 RTX 4050보다 **20~30% 정도 더 빠른** 성능을 제공합니다.\n",
      "\n",
      "다음은 두 그래픽 카드의 주요 성능 차이점을 요약한 것입니다.\n",
      "\n",
      "* **해상도 및 프레임률:** 1080p 해상도에서 RTX 4060은 대부분의 최신 게임을 높은 설정에서 60fps 이상으로 플레이할 수 있습니다. RTX 4050은 중간 설정에서 60fps을 목표로 해야 하며, 일부 고사양 게임에서는 설정을 낮춰야 원활한 플레이가 가능합니다. 1440p 해상도에서는 RTX 4060도 설정 타협이 필요하지만, RTX 4050은 원활한 게임 플레이가 어려울 수 있습니다.\n",
      "\n",
      "* **VRAM:** RTX 4060은 8GB의 VRAM을 탑재하고 있는 반면, RTX 4050은 6GB입니다.  최신 게임들은 점점 더 많은 VRAM을 요구하고 있기 때문에, 8GB VRAM은 미래를 위한 더 나은 투자라고 할 수 있습니다. 특히 고해상도 텍스처를 사용하거나, 고해상도에서 게임을 플레이할 경우 VRAM 용량의 차이는 더욱 두드러집니다.\n",
      "\n",
      "* **레이 트레이싱 및 DLSS:** 두 카드 모두 레이 트레이싱과 DLSS 3를 지원하지만, 더 높은 성능의 RTX 4060이 레이 트레이싱 효과를 활성화한 상태에서도 더 높은 프레임률을 제공합니다.\n",
      "\n",
      "* **전력 소비:** RTX 4060의 전력 소비량이 RTX 4050보다 약간 높지만, 성능 향상폭을 고려하면 효율적인 편입니다.\n",
      "\n",
      "**결론적으로:**\n",
      "\n",
      "* **예산이 한정되어 있고 1080p 해상도에서 중간 설정으로 게임을 플레이하는 데 만족한다면 RTX 4050을 고려할 수 있습니다.** 하지만 최신 게임을 즐기기 위해서는 설정 타협이 필요할 수 있으며, 향후 게임들의 요구 사양을 고려하면  업그레이드 시기가 빨라질 수 있습니다.\n",
      "\n",
      "* **더 나은 게이밍 경험과 미래를 위한 투자를 원한다면 RTX 4060이 더 나은 선택입니다.** 더 높은 해상도, 더 높은 프레임률, 더 나은 레이 트레이싱 성능, 그리고 더 큰 VRAM 용량을 제공하여 더 오랫동안 만족스러운 게이밍 경험을 제공할 것입니다.\n",
      "\n",
      "\n",
      "벤치마크 비교 사이트나 유튜브 영상을 참고하여 실제 게임 플레이 영상을 확인하는 것을 추천합니다.  자신이 주로 플레이하는 게임의 벤치마크를 확인하면  두 그래픽 카드의 성능 차이를 더욱 명확하게 파악할 수 있습니다.\n",
      "\n",
      "User Message : 가장 빠른 그래픽 카드 이름과 성능을 설명해 줘\n",
      "Assistant :  현재 가장 빠른 그래픽 카드는 NVIDIA GeForce RTX 4090입니다. 이 카드는 Ada Lovelace 아키텍처를 기반으로 하며, 16,384개의 CUDA 코어, 24GB의 GDDR6X 메모리, 384비트 메모리 버스를 갖추고 있습니다. RTX 4090은 이전 세대의 플래그십 카드인 RTX 3090 Ti보다 최대 2배 빠른 성능을 제공합니다.\n",
      "\n",
      "RTX 4090은 4K 해상도에서 초당 60프레임 이상의 속도로 대부분의 게임을 실행할 수 있습니다. 또한 레이 트레이싱 및 DLSS와 같은 고급 그래픽 기능을 지원합니다. RTX 4090은 게임뿐만 아니라 콘텐츠 제작, 인공 지능, 과학 컴퓨팅과 같은 다양한 분야에서도 사용할 수 있습니다.\n",
      "\n",
      "RTX 4090의 성능은 다음과 같은 벤치마크에서 확인할 수 있습니다.\n",
      "\n",
      "* 3DMark Time Spy Extreme: 28,000점 이상\n",
      "* 3DMark Port Royal: 20,000점 이상\n",
      "* Shadow of the Tomb Raider: 4K 해상도, 최고 설정에서 초당 120프레임 이상\n",
      "* Cyberpunk 2077: 4K 해상도, 레이 트레이싱 및 DLSS 활성화 시 초당 60프레임 이상\n",
      "\n",
      "RTX 4090은 매우 강력한 그래픽 카드이지만 가격도 매우 비쌉니다. 현재 RTX 4090의 가격은 약 200만원입니다. 따라서 RTX 4090은 최고의 성능을 원하는 게이머나 전문가에게 적합한 카드입니다.\n",
      "\n",
      "Good bye\n"
     ]
    }
   ],
   "source": [
    "while True:\n",
    "    user_input = input(\"User: \")\n",
    "    if user_input.lower() in ['quit','exit','q']:\n",
    "        print('Good bye')\n",
    "        break\n",
    "    else:\n",
    "        for event in graph4.stream({'messages': ('user',user_input)}):\n",
    "            print(f\"User Message : {user_input}\")\n",
    "            print(f\"Assistant : {event['chatbot_new4']['messages'].content}\")"
   ]
  },
  {
   "cell_type": "markdown",
   "metadata": {},
   "source": [
    "### MessageState를 상속받아 state 만들기"
   ]
  },
  {
   "cell_type": "code",
   "execution_count": 65,
   "metadata": {},
   "outputs": [],
   "source": [
    "from typing_extensions import TypedDict \n",
    "#typing이나 typing_extensions나 동일하게 동작하나 langgraph 공식 문서에서는 typing_extensions에서 갖고 온다\n",
    "from typing import Annotated\n",
    "\n",
    "from langgraph.graph import StateGraph, START, END, MessagesState\n",
    "from langgraph.graph.message import add_messages\n",
    "import operator\n",
    "\n",
    "from langchain_google_genai import ChatGoogleGenerativeAI\n",
    "\n",
    "from dotenv import load_dotenv\n",
    "import os"
   ]
  },
  {
   "cell_type": "code",
   "execution_count": 67,
   "metadata": {},
   "outputs": [
    {
     "data": {
      "text/plain": [
       "True"
      ]
     },
     "execution_count": 67,
     "metadata": {},
     "output_type": "execute_result"
    }
   ],
   "source": [
    "# .env 파일 로드(api key load)\n",
    "load_dotenv()"
   ]
  },
  {
   "cell_type": "code",
   "execution_count": 68,
   "metadata": {},
   "outputs": [],
   "source": [
    "#langsmith Setting\n",
    "os.environ[\"LANGCHAIN_TRACING_V2\"] = \"true\"\n",
    "os.environ[\"LANGCHAIN_ENDPOINT\"] = \"https://api.smith.langchain.com\" \n",
    "os.environ[\"LANGCHAIN_PROJECT\"] = \"langsmith_basic\"                 #표시될 PJT명 Setting\n",
    "#os.environ[\"LANGCHAIN_API_KEY\"] = \"lsv2_***\"                        *.env로 setting\n",
    "from langsmith import Client\n",
    "client = Client()"
   ]
  },
  {
   "cell_type": "code",
   "execution_count": 119,
   "metadata": {},
   "outputs": [],
   "source": [
    "#add_messages의 메타 data를 갖는 list 형태의 message dict인 State를 MessagesState로 정의된 lib 사용\n",
    "\n",
    "class State5(MessagesState):  #MeassageState를 상속받기(그대로 활용용)\n",
    "    counter: int              #counter 인자는 int 속성\n",
    "\n",
    "graph_builder5 = StateGraph(State5)"
   ]
  },
  {
   "cell_type": "code",
   "execution_count": 109,
   "metadata": {},
   "outputs": [],
   "source": [
    "llm = ChatGoogleGenerativeAI(model='gemini-1.5-pro', temperature= 0)"
   ]
  },
  {
   "cell_type": "code",
   "execution_count": 120,
   "metadata": {},
   "outputs": [],
   "source": [
    "def chatbot5(state: State5):                             #State5를 입력받아 내부 변수인 state로 만든다.\n",
    "    state['counter'] = 1\n",
    "    state[\"messages\"] = llm.invoke(state['messages'])\n",
    "    return state"
   ]
  },
  {
   "cell_type": "code",
   "execution_count": 121,
   "metadata": {},
   "outputs": [
    {
     "data": {
      "text/plain": [
       "<langgraph.graph.state.StateGraph at 0x18b28a012a0>"
      ]
     },
     "execution_count": 121,
     "metadata": {},
     "output_type": "execute_result"
    }
   ],
   "source": [
    "graph_builder5.add_node('chatbot_new5', chatbot5) # chatbot_new 이름의 노드를 만들고 노드 함수는 chatbot 사용\n",
    "\n",
    "graph_builder5.set_entry_point('chatbot_new5') #graph에서 start지점 설정하기\n",
    "graph_builder5.set_finish_point('chatbot_new5') #graph에서 finish지점 설정하기기"
   ]
  },
  {
   "cell_type": "code",
   "execution_count": 122,
   "metadata": {},
   "outputs": [],
   "source": [
    "graph5 = graph_builder5.compile() #graph5로 compilie하기"
   ]
  },
  {
   "cell_type": "code",
   "execution_count": 123,
   "metadata": {},
   "outputs": [
    {
     "data": {
      "image/png": "[encoded data removed]",
      "text/plain": [
       "<IPython.core.display.Image object>"
      ]
     },
     "metadata": {},
     "output_type": "display_data"
    }
   ],
   "source": [
    "from IPython.display import Image, display\n",
    "\n",
    "try:\n",
    "    display(Image(graph5.get_graph().draw_mermaid_png()))\n",
    "except Exception:\n",
    "    print('langgraph가 만들어지지 않았습니다.')\n",
    "    pass"
   ]
  },
  {
   "cell_type": "code",
   "execution_count": 125,
   "metadata": {},
   "outputs": [
    {
     "name": "stdout",
     "output_type": "stream",
     "text": [
      "counter : 1\n",
      "User Message : 삼성 노트북 라인업에 대해서 알려줘\n",
      "Assistant : 삼성 노트북 라인업은 크게 **갤럭시 북**, **비스포크**, 그리고 **크롬북** 시리즈로 나뉘며, 각 시리즈는 사용 목적과 가격대에 따라 다양한 모델을 제공합니다. 주요 특징과 차이점을 정리하면 다음과 같습니다.\n",
      "\n",
      "**1. 갤럭시 북 시리즈:**\n",
      "\n",
      "* **프리미엄 라인업:** 삼성의 주력 노트북 시리즈로, 고성능과 세련된 디자인을 특징으로 합니다. 갤럭시 생태계와의 연동성이 뛰어나 스마트폰, 태블릿 등과의 연결성이 강조됩니다.\n",
      "* **다양한 모델:** 갤럭시 북3 프로, 갤럭시 북3 프로 360, 갤럭시 북3 울트라, 갤럭시 북3, 갤럭시 북2 프로, 갤럭시 북2 프로 360, 갤럭시 북2 360, 갤럭시 북 Go 등 다양한 모델이 있으며, 성능, 휴대성, 폼팩터(일반 노트북, 2-in-1) 등에서 차이가 있습니다.\n",
      "* **주요 특징:** AMOLED 디스플레이, S펜 지원 (일부 모델), 가벼운 무게, 고성능 프로세서, 넉넉한 저장 용량 등을 제공합니다.\n",
      "* **대상 사용자:** 고성능 작업, 콘텐츠 제작, 엔터테인먼트, 휴대성을 중시하는 사용자에게 적합합니다.\n",
      "\n",
      "**2. 비스포크 인피니티 원:**\n",
      "\n",
      "* **맞춤형 디자인:** 비스포크 라인업의 철학을 계승하여 사용자의 취향에 맞게 색상을 선택할 수 있습니다.\n",
      "* **프리미엄 성능:** 갤럭시 북 시리즈와 마찬가지로 고성능 부품과 뛰어난 디스플레이를 탑재했습니다.\n",
      "* **13세대 인텔 코어 프로세서:** 최신 프로세서를 탑재하여 빠른 속도와 높은 생산성을 제공합니다.\n",
      "* **대상 사용자:** 개성을 중시하고 고성능 노트북을 원하는 사용자에게 적합합니다.\n",
      "\n",
      "**3. 크롬북 시리즈:**\n",
      "\n",
      "* **가성비 라인업:** 크롬 OS를 기반으로 하여 가볍고 빠른 부팅 속도와 저렴한 가격이 장점입니다.\n",
      "* **클라우드 기반:** 구글 계정을 통해 데이터를 저장하고 관리하며, 웹 기반 애플리케이션을 주로 사용합니다.\n",
      "* **휴대성:** 가볍고 콤팩트한 디자인으로 휴대성이 뛰어납니다.\n",
      "* **대상 사용자:** 간단한 문서 작업, 웹 서핑, 온라인 학습 등에 적합하며, 가성비를 중시하는 사용자에게 추천합니다.  갤럭시 크롬북과 갤럭시 크롬북2 등의 모델이 있습니다.\n",
      "\n",
      "\n",
      "**각 시리즈 내 모델별 비교는 삼성전자 웹사이트 또는 전자제품 판매점에서 상세 스펙을 확인하는 것이 좋습니다.**  프로세서, RAM, 저장 용량, 디스플레이 크기 및 해상도, 배터리 용량 등을 비교하여 자신의 용도와 예산에 맞는 모델을 선택할 수 있습니다.  또한, 사용 후기나 전문가 리뷰를 참고하는 것도 도움이 됩니다.\n",
      "\n",
      "counter : 1\n",
      "User Message : 각 시리즈의 장점은 뭐야?\n",
      "Assistant : 어떤 시리즈를 말하는 건가요? 질문이 너무 포괄적이라 답변하기 어렵습니다.  어떤 종류의 시리즈인지 구체적으로 알려주시면 답변드릴 수 있습니다. 예를 들어,\n",
      "\n",
      "* **드라마 시리즈**: 특정 드라마 제목 (예: 오징어 게임, 이상한 변호사 우영우)\n",
      "* **책 시리즈**: 특정 책 시리즈 제목 (예: 해리포터, 반지의 제왕)\n",
      "* **영화 시리즈**: 특정 영화 시리즈 제목 (예: 마블 시네마틱 유니버스, 스타워즈)\n",
      "* **게임 시리즈**: 특정 게임 시리즈 제목 (예: 젤다의 전설, 콜 오브 듀티)\n",
      "* **만화/애니메이션 시리즈**: 특정 만화/애니메이션 시리즈 제목 (예: 원피스, 귀멸의 칼날)\n",
      "* **제품 시리즈**: 특정 제품 시리즈 (예: 아이폰 시리즈, 갤럭시 시리즈)\n",
      "\n",
      "등등...  어떤 시리즈에 대해 궁금한지 알려주시면 그 시리즈의 장점에 대해 자세히 설명해 드리겠습니다.\n",
      "\n",
      "Good bye\n"
     ]
    }
   ],
   "source": [
    "while True:\n",
    "    user_input = input(\"User: \")\n",
    "    if user_input.lower() in ['quit','exit','q']:\n",
    "        print('Good bye')\n",
    "        break\n",
    "    else:\n",
    "        for event in graph5.stream({'messages': ('user',user_input)}):\n",
    "            print(f\"counter : {event['chatbot_new5']['counter']}\")\n",
    "            print(f\"User Message : {user_input}\")\n",
    "            print(f\"Assistant : {event['chatbot_new5']['messages'].content}\")"
   ]
  },
  {
   "cell_type": "code",
   "execution_count": null,
   "metadata": {},
   "outputs": [],
   "source": []
  }
 ],
 "metadata": {
  "kernelspec": {
   "display_name": "base",
   "language": "python",
   "name": "python3"
  },
  "language_info": {
   "codemirror_mode": {
    "name": "ipython",
    "version": 3
   },
   "file_extension": ".py",
   "mimetype": "text/x-python",
   "name": "python",
   "nbconvert_exporter": "python",
   "pygments_lexer": "ipython3",
   "version": "3.12.4"
  }
 },
 "nbformat": 4,
 "nbformat_minor": 2
}
